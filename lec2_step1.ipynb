{
 "cells": [
  {
   "cell_type": "code",
   "execution_count": null,
   "id": "9041a00b",
   "metadata": {},
   "outputs": [],
   "source": [
    "## Python course for data scientists in a moderate level, supported by Wagatsuma Lab@Kyutech \n",
    "#\n",
    "# The MIT License (MIT): Copyright (c) 2022 Hiroaki Wagatsuma and Wagatsuma Lab@Kyutech\n",
    "# \n",
    "# Permission is hereby granted, free of charge, to any person obtaining a copy of this software and associated documentation files (the \"Software\"), to deal in the Software without restriction, including without limitation the rights to use, copy, modify, merge, publish, distribute, sublicense, and/or sell copies of the Software, and to permit persons to whom the Software is furnished to do so, subject to the following conditions:\n",
    "# The above copyright notice and this permission notice shall be included in all copies or substantial portions of the Software.\n",
    "# THE SOFTWARE IS PROVIDED \"AS IS\", WITHOUT WARRANTY OF ANY KIND, EXPRESS OR IMPLIED, INCLUDING BUT NOT LIMITED TO THE WARRANTIES OF MERCHANTABILITY, FITNESS FOR A PARTICULAR PURPOSE AND NONINFRINGEMENT. IN NO EVENT SHALL THE AUTHORS OR COPYRIGHT HOLDERS BE LIABLE FOR ANY CLAIM, DAMAGES OR OTHER LIABILITY, WHETHER IN AN ACTION OF CONTRACT, TORT OR OTHERWISE, ARISING FROM, OUT OF OR IN CONNECTION WITH THE SOFTWARE OR THE USE OR OTHER DEALINGS IN THE SOFTWARE. */\n",
    "#\n",
    "# # @Time    : 2023-02-03 \n",
    "# # @Author  : Hiroaki Wagatsuma\n",
    "# # @Site    : https://github.com/hirowgit/2B3_python_owl_logic_database_course\n",
    "# # @IDE     : Python 3.9.16 (main, Dec  7 2022, 10:15:43) [Clang 14.0.0 (clang-1400.0.29.202)] on darwin\n",
    "# # @File    : lec2_step1.py \n"
   ]
  },
  {
   "cell_type": "code",
   "execution_count": 2,
   "id": "ce06a521",
   "metadata": {},
   "outputs": [],
   "source": [
    "TargetGraph={\n",
    "    'S':['A','B'],\n",
    "    'A':['S','C','D'],\n",
    "    'B':['S','C'],\n",
    "    'C':['A','B','D'],\n",
    "    'D':['A','C']\n",
    "#    'G':'unknown now\n",
    "}"
   ]
  },
  {
   "cell_type": "code",
   "execution_count": 7,
   "id": "fa2f839f",
   "metadata": {
    "scrolled": true
   },
   "outputs": [
    {
     "name": "stdout",
     "output_type": "stream",
     "text": [
      "['state', 'S']\n",
      "['OpenList(1)', []]\n",
      "['ClosedList', ['S']]\n",
      "['OpenList(2)', ['A', 'B']]\n",
      "\n",
      "['state', 'B']\n",
      "['OpenList(1)', ['A']]\n",
      "['ClosedList', ['B', 'S']]\n",
      "['OpenList(2)', ['A', 'C']]\n",
      "\n",
      "['state', 'C']\n",
      "['OpenList(1)', ['A']]\n",
      "['ClosedList', ['C', 'B', 'S']]\n",
      "['OpenList(2)', ['A', 'D']]\n",
      "\n",
      "['state', 'D']\n",
      "['OpenList(1)', ['A']]\n",
      "['ClosedList', ['C', 'D', 'B', 'S']]\n",
      "['OpenList(2)', ['A']]\n",
      "\n",
      "['state', 'A']\n",
      "['OpenList(1)', []]\n",
      "['ClosedList', ['A', 'D', 'S', 'C', 'B']]\n",
      "['OpenList(2)', []]\n",
      "\n",
      "Completed\n"
     ]
    }
   ],
   "source": [
    "# Completed version of Depth-first search\n",
    "\n",
    "OpenList=['S']\n",
    "ClosedList=[]\n",
    "while OpenList:\n",
    "    state=OpenList[-1]\n",
    "    del OpenList[-1]\n",
    "    ClosedList.extend(state)\n",
    "    ClosedList=list(set(ClosedList))\n",
    "    print(['state',state])\n",
    "    print(['OpenList(1)',OpenList])\n",
    "    print(['ClosedList',ClosedList])\n",
    "    if state=='G':\n",
    "        break\n",
    "    tmpSt=set(TargetGraph[state]) -set(ClosedList)\n",
    "    activeNodes=list(tmpSt -set(OpenList))    \n",
    "    OpenList.extend(activeNodes)\n",
    "  #  OpenList=list(set(OpenList))\n",
    "    print(['OpenList(2)',OpenList])\n",
    "    print('')\n",
    "print('Completed') "
   ]
  },
  {
   "cell_type": "code",
   "execution_count": 8,
   "id": "071c38cd",
   "metadata": {},
   "outputs": [
    {
     "name": "stdout",
     "output_type": "stream",
     "text": [
      "['state', 'S']\n",
      "['OpenList(1)', []]\n",
      "['ClosedList', ['S']]\n",
      "['OpenList(2)', ['A', 'B']]\n",
      "\n",
      "['state', 'A']\n",
      "['OpenList(1)', ['B']]\n",
      "['ClosedList', ['A', 'S']]\n",
      "['OpenList(2)', ['B', 'C', 'D']]\n",
      "\n",
      "['state', 'B']\n",
      "['OpenList(1)', ['C', 'D']]\n",
      "['ClosedList', ['A', 'B', 'S']]\n",
      "['OpenList(2)', ['C', 'D']]\n",
      "\n",
      "['state', 'C']\n",
      "['OpenList(1)', ['D']]\n",
      "['ClosedList', ['A', 'C', 'B', 'S']]\n",
      "['OpenList(2)', ['D']]\n",
      "\n",
      "['state', 'D']\n",
      "['OpenList(1)', []]\n",
      "['ClosedList', ['A', 'D', 'S', 'C', 'B']]\n",
      "['OpenList(2)', []]\n",
      "\n",
      "Completed\n"
     ]
    }
   ],
   "source": [
    "# Completed version of Breadth-first search\n",
    "\n",
    "OpenList=['S']\n",
    "ClosedList=[]\n",
    "while OpenList:\n",
    "    state=OpenList[0]\n",
    "    del OpenList[0]\n",
    "    ClosedList=ClosedList+[state]\n",
    "    ClosedList=list(set(ClosedList))\n",
    "    print(['state',state])\n",
    "    print(['OpenList(1)',OpenList])\n",
    "    print(['ClosedList',ClosedList])\n",
    "    if state=='G':\n",
    "        break\n",
    "    tmpSt=set(TargetGraph[state]) -set(ClosedList)\n",
    "    activeNodes=list(tmpSt -set(OpenList))    \n",
    "    OpenList.extend(activeNodes)\n",
    "  #  OpenList=list(set(OpenList))\n",
    "    print(['OpenList(2)',OpenList])\n",
    "    print('')\n",
    "print('Completed') "
   ]
  },
  {
   "cell_type": "code",
   "execution_count": 37,
   "id": "6fa143fc",
   "metadata": {},
   "outputs": [
    {
     "name": "stdout",
     "output_type": "stream",
     "text": [
      "Local cdn resources have problems on chrome/safari when used in jupyter-notebook. \n"
     ]
    },
    {
     "data": {
      "text/html": [
       "\n",
       "        <iframe\n",
       "            width=\"100%\"\n",
       "            height=\"600px\"\n",
       "            src=\"mygraph.html\"\n",
       "            frameborder=\"0\"\n",
       "            allowfullscreen\n",
       "            \n",
       "        ></iframe>\n",
       "        "
      ],
      "text/plain": [
       "<IPython.lib.display.IFrame at 0x111a4f940>"
      ]
     },
     "execution_count": 37,
     "metadata": {},
     "output_type": "execute_result"
    }
   ],
   "source": [
    "from pyvis.network import Network\n",
    "pyvis_G = Network(notebook=True)\n",
    "pyvis_G.from_nx(G)\n",
    "pyvis_G.show(\"mygraph.html\")"
   ]
  },
  {
   "cell_type": "code",
   "execution_count": 36,
   "id": "24852562",
   "metadata": {},
   "outputs": [
    {
     "name": "stdout",
     "output_type": "stream",
     "text": [
      "Local cdn resources have problems on chrome/safari when used in jupyter-notebook. \n"
     ]
    },
    {
     "data": {
      "text/html": [
       "\n",
       "        <iframe\n",
       "            width=\"100%\"\n",
       "            height=\"600px\"\n",
       "            src=\"net.html\"\n",
       "            frameborder=\"0\"\n",
       "            allowfullscreen\n",
       "            \n",
       "        ></iframe>\n",
       "        "
      ],
      "text/plain": [
       "<IPython.lib.display.IFrame at 0x136080d60>"
      ]
     },
     "execution_count": 36,
     "metadata": {},
     "output_type": "execute_result"
    }
   ],
   "source": [
    "from pyvis.network import Network\n",
    "net = Network(notebook=True)\n",
    "\n",
    "net.add_node(1, label=\"Node 1\") # node id = 1 and label = Node 1\n",
    "net.add_node(2) # node id and label = 2\n",
    "\n",
    "nodes = [\"a\", \"b\", \"c\", \"d\"]\n",
    "net.add_nodes(nodes) # node ids and labels = [\"a\", \"b\", \"c\", \"d\"]\n",
    "net.add_nodes(\"hello\") # node ids and labels = [\"h\", \"e\", \"l\", \"o\"]\n",
    "\n",
    "net.show('net.html')"
   ]
  },
  {
   "cell_type": "code",
   "execution_count": 38,
   "id": "141cd4bf",
   "metadata": {},
   "outputs": [
    {
     "name": "stdout",
     "output_type": "stream",
     "text": [
      "Local cdn resources have problems on chrome/safari when used in jupyter-notebook. \n"
     ]
    },
    {
     "data": {
      "text/html": [
       "\n",
       "        <iframe\n",
       "            width=\"100%\"\n",
       "            height=\"600px\"\n",
       "            src=\"g.html\"\n",
       "            frameborder=\"0\"\n",
       "            allowfullscreen\n",
       "            \n",
       "        ></iframe>\n",
       "        "
      ],
      "text/plain": [
       "<IPython.lib.display.IFrame at 0x13607b490>"
      ]
     },
     "execution_count": 38,
     "metadata": {},
     "output_type": "execute_result"
    }
   ],
   "source": [
    "g = Network(notebook=True)\n",
    "g.add_nodes([1,2,3], value=[10, 100, 400],\n",
    "    title=['I am node 1', 'node 2 here', 'and im node 3'],\n",
    "    x=[21.4, 54.2, 11.2],\n",
    "    y=[100.2, 23.54, 32.1],\n",
    "    label=['NODE 1', 'NODE 2', 'NODE 3'],\n",
    "    color=['#00ff1e', '#162347', '#dd4b39'])\n",
    "g.show('g.html')"
   ]
  },
  {
   "cell_type": "code",
   "execution_count": 31,
   "id": "b155b85f",
   "metadata": {},
   "outputs": [
    {
     "name": "stdout",
     "output_type": "stream",
     "text": [
      "Local cdn resources have problems on chrome/safari when used in jupyter-notebook. \n"
     ]
    },
    {
     "data": {
      "text/html": [
       "\n",
       "        <iframe\n",
       "            width=\"500px\"\n",
       "            height=\"500px\"\n",
       "            src=\"nx.html\"\n",
       "            frameborder=\"0\"\n",
       "            allowfullscreen\n",
       "            \n",
       "        ></iframe>\n",
       "        "
      ],
      "text/plain": [
       "<IPython.lib.display.IFrame at 0x1360a4700>"
      ]
     },
     "execution_count": 31,
     "metadata": {},
     "output_type": "execute_result"
    }
   ],
   "source": [
    "from pyvis.network import Network\n",
    "import networkx as nx\n",
    "\n",
    "nx_graph = nx.cycle_graph(10)\n",
    "nx_graph.nodes[1]['title'] = 'Number 1'\n",
    "nx_graph.nodes[1]['group'] = 1\n",
    "nx_graph.nodes[3]['title'] = 'I belong to a different group!'\n",
    "nx_graph.nodes[3]['group'] = 10\n",
    "nx_graph.add_node(20, size=20, title='couple', group=2)\n",
    "nx_graph.add_node(21, size=15, title='couple', group=2)\n",
    "nx_graph.add_edge(20, 21, weight=5)\n",
    "nx_graph.add_node(25, size=25, label='lonely', title='lonely node', group=3)\n",
    "nt = Network('500px', '500px',notebook=True)\n",
    "# populates the nodes and edges data structures\n",
    "\n",
    "nt.from_nx(nx_graph)\n",
    "nt.show('nx.html')"
   ]
  },
  {
   "cell_type": "code",
   "execution_count": 25,
   "id": "c5198b7c",
   "metadata": {},
   "outputs": [
    {
     "name": "stdout",
     "output_type": "stream",
     "text": [
      "Local cdn resources have problems on chrome/safari when used in jupyter-notebook. \n"
     ]
    },
    {
     "data": {
      "text/html": [
       "\n",
       "        <iframe\n",
       "            width=\"400px\"\n",
       "            height=\"300px\"\n",
       "            src=\"pyvis_sample1.html\"\n",
       "            frameborder=\"0\"\n",
       "            allowfullscreen\n",
       "            \n",
       "        ></iframe>\n",
       "        "
      ],
      "text/plain": [
       "<IPython.lib.display.IFrame at 0x13608f850>"
      ]
     },
     "execution_count": 25,
     "metadata": {},
     "output_type": "execute_result"
    }
   ],
   "source": [
    "# https://analytics-note.xyz/graph-theory/pyvis-tutorial/\n",
    "\n",
    "from pyvis.network import Network\n",
    "\n",
    "\n",
    "# ネットワークのインスタンス生成\n",
    "network = Network(\n",
    "    height=\"300px\",  # デフォルト \"500px\"\n",
    "    width=\"400px\",  # デフォルト \"500px\"\n",
    "    notebook=True,  # これをTrueにしておくとjupyter上で結果が見れる\n",
    "    bgcolor='#ffffff',  # 背景色。デフォルト \"#ffffff\"\n",
    "    directed=True,  # Trueにすると有向グラフ。デフォルトはFalseで無向グラフ\n",
    ")\n",
    "\n",
    "# add_node でノードを追加\n",
    "# label は省略可能。省略するとidと同じになる。\n",
    "network.add_node(n_id=1, label=1, shape=\"circle\")\n",
    "network.add_node(n_id=2, label=2, shape=\"box\", color=\"green\")\n",
    "network.add_node(n_id=3, label=3, shape=\"triangle\")\n",
    "network.add_node(n_id=4, label=4)  # shape を省略すると、 shape=\"dot\"と同じになる\n",
    "\n",
    "# add_edge でエッジを追加\n",
    "network.add_edge(1, 2,)\n",
    "network.add_edge(2, 4, width=2)  # width で太さを変えられる\n",
    "network.add_edge(3, 4, smooth=\"dynamic\")  # smooth を指定することで、エッジを曲線にできる\n",
    "network.add_edge(4, 3, smooth=\"dynamic\")  # エッジを曲線にすると双方向のエッジを別の線にできる。(直線だと重なる)\n",
    "\n",
    "# 指定したファイル名でHTMLを出力。\n",
    "network.show(\"pyvis_sample1.html\")"
   ]
  },
  {
   "cell_type": "code",
   "execution_count": 26,
   "id": "85b19f89",
   "metadata": {},
   "outputs": [
    {
     "data": {
      "text/html": [
       "\n",
       "        <iframe\n",
       "            width=\"400px\"\n",
       "            height=\"300px\"\n",
       "            src=\"pyvis_sample2.html\"\n",
       "            frameborder=\"0\"\n",
       "            allowfullscreen\n",
       "            \n",
       "        ></iframe>\n",
       "        "
      ],
      "text/plain": [
       "<IPython.lib.display.IFrame at 0x111528d30>"
      ]
     },
     "execution_count": 26,
     "metadata": {},
     "output_type": "execute_result"
    }
   ],
   "source": [
    "# ネットワークの作成までのコードは共通\n",
    "network.show_buttons()  # 各種ボタンの表示\n",
    "network.show(\"pyvis_sample2.html\")\n"
   ]
  }
 ],
 "metadata": {
  "kernelspec": {
   "display_name": "Python 3 (ipykernel)",
   "language": "python",
   "name": "python3"
  },
  "language_info": {
   "codemirror_mode": {
    "name": "ipython",
    "version": 3
   },
   "file_extension": ".py",
   "mimetype": "text/x-python",
   "name": "python",
   "nbconvert_exporter": "python",
   "pygments_lexer": "ipython3",
   "version": "3.9.18"
  }
 },
 "nbformat": 4,
 "nbformat_minor": 5
}
