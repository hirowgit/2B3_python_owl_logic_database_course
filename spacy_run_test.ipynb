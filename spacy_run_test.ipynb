{
 "cells": [
  {
   "cell_type": "code",
   "execution_count": 5,
   "id": "documented-commons",
   "metadata": {},
   "outputs": [],
   "source": [
    "import spacy\n"
   ]
  },
  {
   "cell_type": "code",
   "execution_count": 6,
   "id": "thousand-event",
   "metadata": {},
   "outputs": [],
   "source": [
    "nlp = spacy.load('ja_ginza_electra')"
   ]
  },
  {
   "cell_type": "code",
   "execution_count": 7,
   "id": "silent-glory",
   "metadata": {},
   "outputs": [],
   "source": [
    "doc = nlp('バルセロナ五輪柔道金メダリストとしての実績を引っさげ、2002年にプロ総合格闘家に転向')\n"
   ]
  },
  {
   "cell_type": "code",
   "execution_count": null,
   "id": "boring-touch",
   "metadata": {},
   "outputs": [],
   "source": [
    "%run ○○○○.py"
   ]
  },
  {
   "cell_type": "code",
   "execution_count": 13,
   "id": "looking-macro",
   "metadata": {},
   "outputs": [
    {
     "name": "stdout",
     "output_type": "stream",
     "text": [
      "3.2.4\n"
     ]
    }
   ],
   "source": [
    "print(spacy.__version__)"
   ]
  },
  {
   "cell_type": "code",
   "execution_count": 32,
   "id": "unknown-guarantee",
   "metadata": {},
   "outputs": [
    {
     "name": "stdout",
     "output_type": "stream",
     "text": [
      "3.9.13 (main, Aug 29 2022, 05:50:54) \n",
      "[Clang 13.1.6 (clang-1316.0.21.2.5)]\n",
      "3.2.4\n"
     ]
    }
   ],
   "source": [
    "import sys\n",
    "print(sys.version)\n",
    "print(spacy.__version__)"
   ]
  },
  {
   "cell_type": "code",
   "execution_count": 22,
   "id": "breathing-karma",
   "metadata": {},
   "outputs": [],
   "source": [
    "import matplotlib as mpl\n",
    "import matplotlib.pyplot as plt"
   ]
  },
  {
   "cell_type": "code",
   "execution_count": 18,
   "id": "realistic-detroit",
   "metadata": {},
   "outputs": [],
   "source": [
    "import pd"
   ]
  },
  {
   "cell_type": "code",
   "execution_count": 19,
   "id": "compliant-electricity",
   "metadata": {},
   "outputs": [],
   "source": [
    "import owlready2"
   ]
  },
  {
   "cell_type": "code",
   "execution_count": 20,
   "id": "cheap-ocean",
   "metadata": {},
   "outputs": [],
   "source": [
    "import numpy"
   ]
  },
  {
   "cell_type": "code",
   "execution_count": null,
   "id": "turned-integral",
   "metadata": {},
   "outputs": [],
   "source": [
    "# pip3.9 install pd"
   ]
  },
  {
   "cell_type": "code",
   "execution_count": 21,
   "id": "affected-legislature",
   "metadata": {},
   "outputs": [],
   "source": [
    "import matplotlib as mpl\n",
    "import matplotlib.pyplot as plt"
   ]
  },
  {
   "cell_type": "code",
   "execution_count": 24,
   "id": "threaded-possible",
   "metadata": {},
   "outputs": [],
   "source": [
    "import pytictoc"
   ]
  },
  {
   "cell_type": "code",
   "execution_count": 25,
   "id": "scientific-differential",
   "metadata": {},
   "outputs": [],
   "source": [
    "from sympy import sympify"
   ]
  },
  {
   "cell_type": "code",
   "execution_count": 26,
   "id": "numeric-dining",
   "metadata": {},
   "outputs": [],
   "source": [
    "import math"
   ]
  },
  {
   "cell_type": "code",
   "execution_count": 27,
   "id": "designed-teddy",
   "metadata": {},
   "outputs": [],
   "source": [
    "import time\n",
    "import datetime"
   ]
  },
  {
   "cell_type": "code",
   "execution_count": 28,
   "id": "mexican-column",
   "metadata": {},
   "outputs": [],
   "source": [
    "import tkinter"
   ]
  },
  {
   "cell_type": "code",
   "execution_count": 33,
   "id": "nervous-blast",
   "metadata": {},
   "outputs": [],
   "source": [
    "from PIL import Image"
   ]
  },
  {
   "cell_type": "code",
   "execution_count": 35,
   "id": "acceptable-syndrome",
   "metadata": {},
   "outputs": [],
   "source": [
    "from openpyxl import Workbook"
   ]
  },
  {
   "cell_type": "code",
   "execution_count": 42,
   "id": "rough-penalty",
   "metadata": {},
   "outputs": [],
   "source": [
    "import django"
   ]
  },
  {
   "cell_type": "code",
   "execution_count": 44,
   "id": "renewable-matthew",
   "metadata": {},
   "outputs": [],
   "source": [
    "from cleantext import clean"
   ]
  },
  {
   "cell_type": "code",
   "execution_count": 46,
   "id": "curious-salon",
   "metadata": {},
   "outputs": [],
   "source": [
    "from drawdata import draw_scatter"
   ]
  },
  {
   "cell_type": "code",
   "execution_count": null,
   "id": "universal-appeal",
   "metadata": {},
   "outputs": [],
   "source": []
  }
 ],
 "metadata": {
  "kernelspec": {
   "display_name": "Python 3",
   "language": "python",
   "name": "python3"
  },
  "language_info": {
   "codemirror_mode": {
    "name": "ipython",
    "version": 3
   },
   "file_extension": ".py",
   "mimetype": "text/x-python",
   "name": "python",
   "nbconvert_exporter": "python",
   "pygments_lexer": "ipython3",
   "version": "3.9.13"
  }
 },
 "nbformat": 4,
 "nbformat_minor": 5
}
