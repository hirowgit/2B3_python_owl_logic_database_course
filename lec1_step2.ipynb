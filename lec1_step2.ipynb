{
 "cells": [
  {
   "cell_type": "code",
   "execution_count": 5,
   "metadata": {},
   "outputs": [],
   "source": [
    "## Python course for data scientists in a moderate level, supported by Wagatsuma Lab@Kyutech \n",
    "#\n",
    "# The MIT License (MIT): Copyright (c) 2022 Hiroaki Wagatsuma and Wagatsuma Lab@Kyutech\n",
    "# \n",
    "# Permission is hereby granted, free of charge, to any person obtaining a copy of this software and associated documentation files (the \"Software\"), to deal in the Software without restriction, including without limitation the rights to use, copy, modify, merge, publish, distribute, sublicense, and/or sell copies of the Software, and to permit persons to whom the Software is furnished to do so, subject to the following conditions:\n",
    "# The above copyright notice and this permission notice shall be included in all copies or substantial portions of the Software.\n",
    "# THE SOFTWARE IS PROVIDED \"AS IS\", WITHOUT WARRANTY OF ANY KIND, EXPRESS OR IMPLIED, INCLUDING BUT NOT LIMITED TO THE WARRANTIES OF MERCHANTABILITY, FITNESS FOR A PARTICULAR PURPOSE AND NONINFRINGEMENT. IN NO EVENT SHALL THE AUTHORS OR COPYRIGHT HOLDERS BE LIABLE FOR ANY CLAIM, DAMAGES OR OTHER LIABILITY, WHETHER IN AN ACTION OF CONTRACT, TORT OR OTHERWISE, ARISING FROM, OUT OF OR IN CONNECTION WITH THE SOFTWARE OR THE USE OR OTHER DEALINGS IN THE SOFTWARE. */\n",
    "#\n",
    "# # @Time    : 2022-03-27 \n",
    "# # @Author  : Hiroaki Wagatsuma\n",
    "# # @Site    : https://github.com/hirowgit/2B3_python_owl_logic_database_course\n",
    "# # @IDE     : Python 3.9.7 (default, Oct 17 2021, 16:26:06) [Clang 10.0.0 (clang-1000.11.45.5)] on darwin\n",
    "# # @File    : lec1_step2.py "
   ]
  },
  {
   "cell_type": "code",
   "execution_count": 1,
   "metadata": {},
   "outputs": [
    {
     "name": "stdout",
     "output_type": "stream",
     "text": [
      "marmoset AND parkinson\n",
      "marmoset AND parkinson AND disease\n",
      "<Response [200]>\n"
     ]
    }
   ],
   "source": [
    "import requests\n",
    "import xml.etree.ElementTree as xmlet\n",
    "\n",
    "#pubmed URL\n",
    "url_header=\"https://eutils.ncbi.nlm.nih.gov/entrez/eutils/\"\n",
    "url_footer=[\"esearch.fcgi\",\"efetch.fcgi\"]\n",
    "\n",
    "#backup data\n",
    "fout_name=\"fout_mpd.txt\"\n",
    "\n",
    "fkeys=[\"marmoset\",\"parkinson\",\"disease\"]\n",
    "conj=\" AND \"\n",
    "kterm=fkeys[0]\n",
    "for label in fkeys[1:len(fkeys)]:\n",
    "    kterm=kterm+conj+label\n",
    "    print(kterm)\n",
    "\n",
    "# search\n",
    "pubmed_search_url = url_header+url_footer[0]\n",
    "query_keys = {\n",
    "    \"db\":\"pubmed\",\n",
    "    \"term\":kterm,\n",
    "    \"usehistory\":\"y\"\n",
    "    # keeping data for the next fetch action\n",
    "}\n",
    "\n",
    "resD = requests.get(pubmed_search_url, params=query_keys)\n",
    "xmlD = resD.text.encode(\"utf-8\")\n",
    "targetD = xmlet.fromstring(xmlD)\n",
    "print(resD)\n",
    "\n",
    "# dig and get from target ID obtained the previous action\n",
    "pubmed_fetch_url = url_header+url_footer[1]\n",
    "query_keys = {\n",
    "    \"db\" : \"pubmed\",\n",
    "    \"query_key\" : targetD.findtext(\"QueryKey\"),\n",
    "    \"WebEnv\" : targetD.findtext(\"WebEnv\"),\n",
    "    \"retmode\" : \"text\",\n",
    "    \"rettype\" : \"abstract\"\n",
    "}\n",
    "\n",
    "resD = requests.get(pubmed_fetch_url, params=query_keys)\n",
    "with open(fout_name, \"w\", encoding=\"utf-8\") as fid:\n",
    "    fid.write(resD.text)\n"
   ]
  },
  {
   "cell_type": "code",
   "execution_count": 38,
   "metadata": {},
   "outputs": [
    {
     "name": "stdout",
     "output_type": "stream",
     "text": [
      "marmoset AND parkinson\n",
      "marmoset AND parkinson AND disease\n",
      "{'db': 'pubmed', 'term': 'common marmoset', 'usehistory': 'y'}\n",
      "<Response [200]>\n",
      "b'<?xml version=\"1.0\" encoding=\"UTF-8\" ?>\\n<!DOCTYPE eSearchResult PUBLIC \"-//NLM//DTD esearch 20060628//EN\" \"https://eutils.ncbi.nlm.nih.gov/eutils/dtd/20060628/esearch.dtd\">\\n<eSearchResult><Count>5023</Count><RetMax>20</RetMax><RetStart>0</RetStart><QueryKey>1</QueryKey><WebEnv>MCID_623fd78ab9eec83f624444fb</WebEnv><IdList>\\n<Id>35322434</Id>\\n<Id>35322053</Id>\\n<Id>35318916</Id>\\n<Id>35292670</Id>\\n<Id>35266161</Id>\\n<Id>35233785</Id>\\n<Id>35231498</Id>\\n<Id>35227328</Id>\\n<Id>35217206</Id>\\n<Id>35185482</Id>\\n<Id>35159172</Id>\\n<Id>35144651</Id>\\n<Id>35122965</Id>\\n<Id>35115680</Id>\\n<Id>35107706</Id>\\n<Id>35087081</Id>\\n<Id>35087079</Id>\\n<Id>35069125</Id>\\n<Id>35058509</Id>\\n<Id>35049499</Id>\\n</IdList><TranslationSet><Translation>     <From>common marmoset</From>     <To>\"callithrix\"[MeSH Terms] OR \"callithrix\"[All Fields] OR (\"common\"[All Fields] AND \"marmoset\"[All Fields]) OR \"common marmoset\"[All Fields]</To>    </Translation></TranslationSet><TranslationStack>   <TermSet>    <Term>\"callithrix\"[MeSH Terms]</Term>    <Field>MeSH Terms</Field>    <Count>4208</Count>    <Explode>Y</Explode>   </TermSet>   <TermSet>    <Term>\"callithrix\"[All Fields]</Term>    <Field>All Fields</Field>    <Count>4838</Count>    <Explode>N</Explode>   </TermSet>   <OP>OR</OP>   <TermSet>    <Term>\"common\"[All Fields]</Term>    <Field>All Fields</Field>    <Count>1671471</Count>    <Explode>N</Explode>   </TermSet>   <TermSet>    <Term>\"marmoset\"[All Fields]</Term>    <Field>All Fields</Field>    <Count>4373</Count>    <Explode>N</Explode>   </TermSet>   <OP>AND</OP>   <OP>GROUP</OP>   <OP>OR</OP>   <TermSet>    <Term>\"common marmoset\"[All Fields]</Term>    <Field>All Fields</Field>    <Count>1519</Count>    <Explode>N</Explode>   </TermSet>   <OP>OR</OP>   <OP>GROUP</OP>  </TranslationStack><QueryTranslation>\"callithrix\"[MeSH Terms] OR \"callithrix\"[All Fields] OR (\"common\"[All Fields] AND \"marmoset\"[All Fields]) OR \"common marmoset\"[All Fields]</QueryTranslation></eSearchResult>\\n'\n",
      "<Response [200]>\n"
     ]
    }
   ],
   "source": [
    "import requests\n",
    "import xml.etree.ElementTree as xmlet\n",
    "\n",
    "#pubmed URL\n",
    "url_header=\"https://eutils.ncbi.nlm.nih.gov/entrez/eutils/\"\n",
    "url_footer=[\"esearch.fcgi\",\"efetch.fcgi\"]\n",
    "\n",
    "#backup data\n",
    "fout_name=\"fout_mpd5.txt\"\n",
    "\n",
    "fkeys=[\"marmoset\",\"parkinson\",\"disease\"]\n",
    "conj=\" AND \"\n",
    "kterm=fkeys[0]\n",
    "for label in fkeys[1:len(fkeys)]:\n",
    "    kterm=kterm+conj+label\n",
    "    print(kterm)\n",
    "\n",
    "# search\n",
    "pubmed_search_url = url_header+url_footer[0]\n",
    "query_keys = {\n",
    "    \"db\":\"pubmed\",\n",
    "#     \"term\":'1-methyl-4-phenyl-1,2,3,6-tetrahydropyridine (MPTP)-lesioned common marmoset used',\n",
    "    \"term\":'common marmoset',\n",
    "    \"usehistory\":\"y\"\n",
    "    # keeping data for the next fetch action\n",
    "}\n",
    "print(query_keys)\n",
    "resDf = requests.get(pubmed_search_url, params=query_keys)\n",
    "xmlD = resDf.text.encode(\"utf-8\")\n",
    "targetD = xmlet.fromstring(xmlD)\n",
    "print(resDf)\n",
    "print(xmlD)\n",
    "\n",
    "# dig and get from target ID obtained the previous action\n",
    "pubmed_fetch_url = url_header+url_footer[1]\n",
    "query_keys = {\n",
    "    \"db\" : \"pubmed\",\n",
    "    \"query_key\" : targetD.findtext(\"QueryKey\"),\n",
    "    \"WebEnv\" : targetD.findtext(\"WebEnv\"),\n",
    "    \"retmode\" : \"text\",\n",
    "    \"rettype\" : \"abstract\"\n",
    "}\n",
    "\n",
    "resDg = requests.get(pubmed_fetch_url, params=query_keys)\n",
    "with open(fout_name, \"w\", encoding=\"utf-8\") as fid:\n",
    "    fid.write(resDg.text)\n",
    "    \n",
    "print(resDg)"
   ]
  },
  {
   "cell_type": "code",
   "execution_count": 35,
   "metadata": {},
   "outputs": [
    {
     "data": {
      "text/plain": [
       "b'<?xml version=\"1.0\" encoding=\"UTF-8\" ?>\\n<!DOCTYPE eSearchResult PUBLIC \"-//NLM//DTD esearch 20060628//EN\" \"https://eutils.ncbi.nlm.nih.gov/eutils/dtd/20060628/esearch.dtd\">\\n<eSearchResult><Count>5023</Count><RetMax>20</RetMax><RetStart>0</RetStart><QueryKey>1</QueryKey><WebEnv>MCID_623fd1d21e5c9c5e2a538b75</WebEnv><IdList>\\n<Id>35322434</Id>\\n<Id>35322053</Id>\\n<Id>35318916</Id>\\n<Id>35292670</Id>\\n<Id>35266161</Id>\\n<Id>35233785</Id>\\n<Id>35231498</Id>\\n<Id>35227328</Id>\\n<Id>35217206</Id>\\n<Id>35185482</Id>\\n<Id>35159172</Id>\\n<Id>35144651</Id>\\n<Id>35122965</Id>\\n<Id>35115680</Id>\\n<Id>35107706</Id>\\n<Id>35087081</Id>\\n<Id>35087079</Id>\\n<Id>35069125</Id>\\n<Id>35058509</Id>\\n<Id>35049499</Id>\\n</IdList><TranslationSet><Translation>     <From>common marmoset</From>     <To>\"callithrix\"[MeSH Terms] OR \"callithrix\"[All Fields] OR (\"common\"[All Fields] AND \"marmoset\"[All Fields]) OR \"common marmoset\"[All Fields]</To>    </Translation></TranslationSet><TranslationStack>   <TermSet>    <Term>\"callithrix\"[MeSH Terms]</Term>    <Field>MeSH Terms</Field>    <Count>4208</Count>    <Explode>Y</Explode>   </TermSet>   <TermSet>    <Term>\"callithrix\"[All Fields]</Term>    <Field>All Fields</Field>    <Count>4838</Count>    <Explode>N</Explode>   </TermSet>   <OP>OR</OP>   <TermSet>    <Term>\"common\"[All Fields]</Term>    <Field>All Fields</Field>    <Count>1671471</Count>    <Explode>N</Explode>   </TermSet>   <TermSet>    <Term>\"marmoset\"[All Fields]</Term>    <Field>All Fields</Field>    <Count>4373</Count>    <Explode>N</Explode>   </TermSet>   <OP>AND</OP>   <OP>GROUP</OP>   <OP>OR</OP>   <TermSet>    <Term>\"common marmoset\"[All Fields]</Term>    <Field>All Fields</Field>    <Count>1519</Count>    <Explode>N</Explode>   </TermSet>   <OP>OR</OP>   <OP>GROUP</OP>  </TranslationStack><QueryTranslation>\"callithrix\"[MeSH Terms] OR \"callithrix\"[All Fields] OR (\"common\"[All Fields] AND \"marmoset\"[All Fields]) OR \"common marmoset\"[All Fields]</QueryTranslation></eSearchResult>\\n'"
      ]
     },
     "execution_count": 35,
     "metadata": {},
     "output_type": "execute_result"
    }
   ],
   "source": [
    "xmlD"
   ]
  },
  {
   "cell_type": "code",
   "execution_count": 36,
   "metadata": {},
   "outputs": [
    {
     "data": {
      "text/plain": [
       "'<?xml version=\"1.0\" encoding=\"UTF-8\" ?>\\n<!DOCTYPE eSearchResult PUBLIC \"-//NLM//DTD esearch 20060628//EN\" \"https://eutils.ncbi.nlm.nih.gov/eutils/dtd/20060628/esearch.dtd\">\\n<eSearchResult><Count>5023</Count><RetMax>20</RetMax><RetStart>0</RetStart><QueryKey>1</QueryKey><WebEnv>MCID_623fd1d21e5c9c5e2a538b75</WebEnv><IdList>\\n<Id>35322434</Id>\\n<Id>35322053</Id>\\n<Id>35318916</Id>\\n<Id>35292670</Id>\\n<Id>35266161</Id>\\n<Id>35233785</Id>\\n<Id>35231498</Id>\\n<Id>35227328</Id>\\n<Id>35217206</Id>\\n<Id>35185482</Id>\\n<Id>35159172</Id>\\n<Id>35144651</Id>\\n<Id>35122965</Id>\\n<Id>35115680</Id>\\n<Id>35107706</Id>\\n<Id>35087081</Id>\\n<Id>35087079</Id>\\n<Id>35069125</Id>\\n<Id>35058509</Id>\\n<Id>35049499</Id>\\n</IdList><TranslationSet><Translation>     <From>common marmoset</From>     <To>\"callithrix\"[MeSH Terms] OR \"callithrix\"[All Fields] OR (\"common\"[All Fields] AND \"marmoset\"[All Fields]) OR \"common marmoset\"[All Fields]</To>    </Translation></TranslationSet><TranslationStack>   <TermSet>    <Term>\"callithrix\"[MeSH Terms]</Term>    <Field>MeSH Terms</Field>    <Count>4208</Count>    <Explode>Y</Explode>   </TermSet>   <TermSet>    <Term>\"callithrix\"[All Fields]</Term>    <Field>All Fields</Field>    <Count>4838</Count>    <Explode>N</Explode>   </TermSet>   <OP>OR</OP>   <TermSet>    <Term>\"common\"[All Fields]</Term>    <Field>All Fields</Field>    <Count>1671471</Count>    <Explode>N</Explode>   </TermSet>   <TermSet>    <Term>\"marmoset\"[All Fields]</Term>    <Field>All Fields</Field>    <Count>4373</Count>    <Explode>N</Explode>   </TermSet>   <OP>AND</OP>   <OP>GROUP</OP>   <OP>OR</OP>   <TermSet>    <Term>\"common marmoset\"[All Fields]</Term>    <Field>All Fields</Field>    <Count>1519</Count>    <Explode>N</Explode>   </TermSet>   <OP>OR</OP>   <OP>GROUP</OP>  </TranslationStack><QueryTranslation>\"callithrix\"[MeSH Terms] OR \"callithrix\"[All Fields] OR (\"common\"[All Fields] AND \"marmoset\"[All Fields]) OR \"common marmoset\"[All Fields]</QueryTranslation></eSearchResult>\\n'"
      ]
     },
     "execution_count": 36,
     "metadata": {},
     "output_type": "execute_result"
    }
   ],
   "source": [
    "resDf.text"
   ]
  },
  {
   "cell_type": "code",
   "execution_count": 34,
   "metadata": {},
   "outputs": [
    {
     "data": {
      "text/plain": [
       "{'Date': 'Sun, 27 Mar 2022 02:54:12 GMT', 'Server': 'Finatra', 'Strict-Transport-Security': 'max-age=31536000; includeSubDomains; preload', 'Content-Security-Policy': 'upgrade-insecure-requests', 'Referrer-Policy': 'origin-when-cross-origin', 'X-Test-Test': 'test42', 'NCBI-SID': '3D2F72B786B10836_53EASID', 'NCBI-PHID': '322C12E7871E1C5500003E60E369FB33.1.1.m_6', 'Content-Type': 'text/plain; charset=UTF-8', 'Cache-Control': 'private', 'content-encoding': 'gzip', 'X-RateLimit-Limit': '3', 'X-RateLimit-Remaining': '1', 'Access-Control-Allow-Origin': '*', 'Access-Control-Expose-Headers': 'X-RateLimit-Limit,X-RateLimit-Remaining', 'Set-Cookie': 'ncbi_sid=3D2F72B786B10836_53EASID; domain=.nih.gov; path=/; expires=Mon, 27 Mar 2023 02:54:11 GMT', 'X-UA-Compatible': 'IE=Edge', 'X-XSS-Protection': '1; mode=block', 'Keep-Alive': 'timeout=4, max=40', 'Connection': 'Keep-Alive', 'Transfer-Encoding': 'chunked'}"
      ]
     },
     "execution_count": 34,
     "metadata": {},
     "output_type": "execute_result"
    }
   ],
   "source": [
    "resDg.headers"
   ]
  },
  {
   "cell_type": "code",
   "execution_count": 41,
   "metadata": {},
   "outputs": [
    {
     "name": "stdout",
     "output_type": "stream",
     "text": [
      "https://docs.python.org/\n"
     ]
    }
   ],
   "source": [
    "import re\n",
    "URL = \"https://docs.python.org/3/library/re.html?highlight=re#module-re\"\n",
    "pattern = \"https?://[^/]+/\"\n",
    "res = re.match(pattern, URL)\n",
    "print(res.group())"
   ]
  },
  {
   "cell_type": "code",
   "execution_count": 108,
   "metadata": {},
   "outputs": [
    {
     "name": "stdout",
     "output_type": "stream",
     "text": [
      "<re.Match object; span=(2, 36), match='<eSearchResult><Count>5023</Count>'>\n",
      "<eSearchResult><Count>5023</Count>\n"
     ]
    }
   ],
   "source": [
    "# pattern = \"<eSearchResult><Count>*\\d</Count>\"\n",
    "pattern ='\\d+'\n",
    "pattern ='.*?(\\d+)'\n",
    "pattern ='python.*(\\d+)'\n",
    "pattern ='<eSearchResult><Count>.*(\\d+)</Count>'\n",
    "# pattern=\"^[a-zA-Z]+(?:,[\\d]+)*$\"\n",
    "text1=\">\\n<eSearchResult><Count>5023</Count><RetMax>20</RetMax>\"\n",
    "# text1='hellow python, 123,end'\n",
    "# pattern = \"https?://[^/]+/\"\n",
    "# res = re.match(pattern, resDf.text)\n",
    "# res = re.match(pattern, text1)\n",
    "res = re.search(pattern, text1)\n",
    "print(res)\n",
    "print(res.group())"
   ]
  },
  {
   "cell_type": "code",
   "execution_count": 113,
   "metadata": {},
   "outputs": [
    {
     "name": "stdout",
     "output_type": "stream",
     "text": [
      "<re.Match object; span=(173, 207), match='<eSearchResult><Count>5023</Count>'>\n",
      "<eSearchResult><Count>5023</Count>\n"
     ]
    }
   ],
   "source": [
    "# pattern = \"<eSearchResult><Count>*\\d</Count>\"\n",
    "pattern ='\\d+'\n",
    "pattern ='.*?(\\d+)'\n",
    "pattern ='python.*(\\d+)'\n",
    "pattern ='<eSearchResult><Count>.*(\\d+)</Count>'\n",
    "# pattern=\"^[a-zA-Z]+(?:,[\\d]+)*$\"\n",
    "text1=\">\\n<eSearchResult><Count>5023</Count><RetMax>20</RetMax>\"\n",
    "# text1='hellow python, 123,end'\n",
    "# pattern = \"https?://[^/]+/\"\n",
    "# res = re.match(pattern, resDf.text)\n",
    "# res = re.match(pattern, text1)\n",
    "res = re.search(pattern, resDf.text)\n",
    "# res = re.search(pattern, xmlD)\n",
    "print(res)\n",
    "print(res.group())"
   ]
  },
  {
   "cell_type": "code",
   "execution_count": 125,
   "metadata": {},
   "outputs": [
    {
     "name": "stdout",
     "output_type": "stream",
     "text": [
      "<re.Match object; span=(173, 207), match='<eSearchResult><Count>5023</Count>'>\n",
      "<eSearchResult><Count>5023</Count>\n",
      "5023\n",
      "5023\n"
     ]
    }
   ],
   "source": [
    "pat_header ='<eSearchResult><Count>'\n",
    "pat_body ='.*(\\d+)'\n",
    "pat_footer ='</Count>'\n",
    "patternRe =pat_header+pat_body+pat_footer\n",
    "\n",
    "resOri = re.search(patternRe, resDf.text)\n",
    "\n",
    "print(resOri)\n",
    "print(resOri.group())\n",
    "resNumStr=resOri.group()\n",
    "print(resNumStr[len(pat_header):-len(pat_footer)])\n",
    "resNum=int(resNumStr[len(pat_header):-len(pat_footer)])\n",
    "print(resNum)"
   ]
  }
 ],
 "metadata": {
  "kernelspec": {
   "display_name": "Python 3 (ipykernel)",
   "language": "python",
   "name": "python3"
  },
  "language_info": {
   "codemirror_mode": {
    "name": "ipython",
    "version": 3
   },
   "file_extension": ".py",
   "mimetype": "text/x-python",
   "name": "python",
   "nbconvert_exporter": "python",
   "pygments_lexer": "ipython3",
   "version": "3.9.18"
  }
 },
 "nbformat": 4,
 "nbformat_minor": 2
}
