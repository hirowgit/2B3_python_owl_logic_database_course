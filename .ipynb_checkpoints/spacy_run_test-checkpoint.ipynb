{
 "cells": [
  {
   "cell_type": "code",
   "execution_count": 5,
   "id": "prostate-omega",
   "metadata": {},
   "outputs": [],
   "source": [
    "import spacy\n"
   ]
  },
  {
   "cell_type": "code",
   "execution_count": 6,
   "id": "excess-settle",
   "metadata": {},
   "outputs": [],
   "source": [
    "nlp = spacy.load('ja_ginza_electra')"
   ]
  },
  {
   "cell_type": "code",
   "execution_count": 7,
   "id": "altered-equilibrium",
   "metadata": {},
   "outputs": [],
   "source": [
    "doc = nlp('バルセロナ五輪柔道金メダリストとしての実績を引っさげ、2002年にプロ総合格闘家に転向')\n"
   ]
  },
  {
   "cell_type": "code",
   "execution_count": null,
   "id": "blond-colony",
   "metadata": {},
   "outputs": [],
   "source": [
    "%run ○○○○.py"
   ]
  },
  {
   "cell_type": "code",
   "execution_count": 13,
   "id": "nonprofit-veteran",
   "metadata": {},
   "outputs": [
    {
     "name": "stdout",
     "output_type": "stream",
     "text": [
      "3.2.4\n"
     ]
    }
   ],
   "source": [
    "print(spacy.__version__)"
   ]
  },
  {
   "cell_type": "code",
   "execution_count": 17,
   "id": "appointed-bosnia",
   "metadata": {},
   "outputs": [
    {
     "name": "stdout",
     "output_type": "stream",
     "text": [
      "3.9.13 (main, Aug 29 2022, 05:50:54) \n",
      "[Clang 13.1.6 (clang-1316.0.21.2.5)]\n"
     ]
    }
   ],
   "source": [
    "import sys\n",
    "print(sys.version)\n",
    "print(spacy.__version__)"
   ]
  },
  {
   "cell_type": "code",
   "execution_count": 22,
   "id": "listed-celtic",
   "metadata": {},
   "outputs": [],
   "source": [
    "import matplotlib as mpl\n",
    "import matplotlib.pyplot as plt"
   ]
  },
  {
   "cell_type": "code",
   "execution_count": 18,
   "id": "wireless-criminal",
   "metadata": {},
   "outputs": [],
   "source": [
    "import pd"
   ]
  },
  {
   "cell_type": "code",
   "execution_count": 19,
   "id": "directed-wallace",
   "metadata": {},
   "outputs": [],
   "source": [
    "import owlready2"
   ]
  },
  {
   "cell_type": "code",
   "execution_count": 20,
   "id": "imported-upgrade",
   "metadata": {},
   "outputs": [],
   "source": [
    "import numpy"
   ]
  },
  {
   "cell_type": "code",
   "execution_count": null,
   "id": "hazardous-vanilla",
   "metadata": {},
   "outputs": [],
   "source": [
    "# pip3.9 install pd"
   ]
  },
  {
   "cell_type": "code",
   "execution_count": 21,
   "id": "permanent-violin",
   "metadata": {},
   "outputs": [],
   "source": [
    "import matplotlib as mpl\n",
    "import matplotlib.pyplot as plt"
   ]
  },
  {
   "cell_type": "code",
   "execution_count": null,
   "id": "finished-deadline",
   "metadata": {},
   "outputs": [],
   "source": []
  }
 ],
 "metadata": {
  "kernelspec": {
   "display_name": "Python 3",
   "language": "python",
   "name": "python3"
  },
  "language_info": {
   "codemirror_mode": {
    "name": "ipython",
    "version": 3
   },
   "file_extension": ".py",
   "mimetype": "text/x-python",
   "name": "python",
   "nbconvert_exporter": "python",
   "pygments_lexer": "ipython3",
   "version": "3.9.13"
  }
 },
 "nbformat": 4,
 "nbformat_minor": 5
}
