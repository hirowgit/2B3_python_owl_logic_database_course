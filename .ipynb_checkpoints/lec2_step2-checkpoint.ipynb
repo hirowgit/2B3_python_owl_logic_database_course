{
 "cells": [
  {
   "cell_type": "code",
   "execution_count": null,
   "id": "efb7bd24",
   "metadata": {},
   "outputs": [],
   "source": [
    "## Python course for data scientists in a moderate level, supported by Wagatsuma Lab@Kyutech \n",
    "#\n",
    "# The MIT License (MIT): Copyright (c) 2022 Hiroaki Wagatsuma and Wagatsuma Lab@Kyutech\n",
    "# \n",
    "# Permission is hereby granted, free of charge, to any person obtaining a copy of this software and associated documentation files (the \"Software\"), to deal in the Software without restriction, including without limitation the rights to use, copy, modify, merge, publish, distribute, sublicense, and/or sell copies of the Software, and to permit persons to whom the Software is furnished to do so, subject to the following conditions:\n",
    "# The above copyright notice and this permission notice shall be included in all copies or substantial portions of the Software.\n",
    "# THE SOFTWARE IS PROVIDED \"AS IS\", WITHOUT WARRANTY OF ANY KIND, EXPRESS OR IMPLIED, INCLUDING BUT NOT LIMITED TO THE WARRANTIES OF MERCHANTABILITY, FITNESS FOR A PARTICULAR PURPOSE AND NONINFRINGEMENT. IN NO EVENT SHALL THE AUTHORS OR COPYRIGHT HOLDERS BE LIABLE FOR ANY CLAIM, DAMAGES OR OTHER LIABILITY, WHETHER IN AN ACTION OF CONTRACT, TORT OR OTHERWISE, ARISING FROM, OUT OF OR IN CONNECTION WITH THE SOFTWARE OR THE USE OR OTHER DEALINGS IN THE SOFTWARE. */\n",
    "#\n",
    "# # @Time    : 2023-02-03 \n",
    "# # @Author  : Hiroaki Wagatsuma\n",
    "# # @Site    : https://github.com/hirowgit/2B3_python_owl_logic_database_course\n",
    "# # @IDE     : Python 3.9.16 (main, Dec  7 2022, 10:15:43) [Clang 14.0.0 (clang-1400.0.29.202)] on darwin\n",
    "# # @File    : lec2_step2.py \n"
   ]
  },
  {
   "cell_type": "code",
   "execution_count": 61,
   "id": "7ee27bd5",
   "metadata": {},
   "outputs": [],
   "source": [
    "import numpy as np\n",
    "import re\n"
   ]
  },
  {
   "cell_type": "code",
   "execution_count": 8,
   "id": "72fc497a",
   "metadata": {},
   "outputs": [
    {
     "name": "stdout",
     "output_type": "stream",
     "text": [
      "65\n",
      "A\n"
     ]
    }
   ],
   "source": [
    "asciiN=ord('A')\n",
    "asciiS=chr(asciiN)\n",
    "print(asciiN)\n",
    "print(asciiS)"
   ]
  },
  {
   "cell_type": "code",
   "execution_count": 9,
   "id": "14c7e066",
   "metadata": {},
   "outputs": [
    {
     "data": {
      "text/plain": [
       "True"
      ]
     },
     "execution_count": 9,
     "metadata": {},
     "output_type": "execute_result"
    }
   ],
   "source": [
    "S='Z'\n",
    "S=='Z'"
   ]
  },
  {
   "cell_type": "code",
   "execution_count": 11,
   "id": "b7cb9a5a",
   "metadata": {},
   "outputs": [
    {
     "data": {
      "text/plain": [
       "'ABCDEFGHIJKLMNOPQRSTUVWXYZ'"
      ]
     },
     "execution_count": 11,
     "metadata": {},
     "output_type": "execute_result"
    }
   ],
   "source": [
    "def genTree(S):\n",
    "    if S=='Z':\n",
    "        return(S)\n",
    "    else:\n",
    "        key=ord(S)+1\n",
    "        res=genTree(chr(key))\n",
    "        return(S+res)\n",
    "\n",
    "genTree('A')    "
   ]
  },
  {
   "cell_type": "code",
   "execution_count": 18,
   "id": "8c672bfd",
   "metadata": {},
   "outputs": [
    {
     "data": {
      "text/plain": [
       "['A', 'G']"
      ]
     },
     "execution_count": 18,
     "metadata": {},
     "output_type": "execute_result"
    }
   ],
   "source": [
    "data=['A']\n",
    "data.append('G')\n",
    "data"
   ]
  },
  {
   "cell_type": "code",
   "execution_count": 19,
   "id": "43e1761e",
   "metadata": {},
   "outputs": [
    {
     "data": {
      "text/plain": [
       "['Z']"
      ]
     },
     "execution_count": 19,
     "metadata": {},
     "output_type": "execute_result"
    }
   ],
   "source": [
    "def genTree(S):\n",
    "    if S=='Z':\n",
    "        return([S])\n",
    "    else:\n",
    "        rerutn([''])\n",
    "\n",
    "genTree('Z')   "
   ]
  },
  {
   "cell_type": "code",
   "execution_count": 28,
   "id": "5917041f",
   "metadata": {},
   "outputs": [
    {
     "data": {
      "text/plain": [
       "['A',\n",
       " 'B',\n",
       " 'C',\n",
       " 'D',\n",
       " 'E',\n",
       " 'F',\n",
       " 'G',\n",
       " 'H',\n",
       " 'I',\n",
       " 'J',\n",
       " 'K',\n",
       " 'L',\n",
       " 'M',\n",
       " 'N',\n",
       " 'O',\n",
       " 'P',\n",
       " 'Q',\n",
       " 'R',\n",
       " 'S',\n",
       " 'T',\n",
       " 'U',\n",
       " 'V',\n",
       " 'W',\n",
       " 'X',\n",
       " 'Y',\n",
       " 'Z']"
      ]
     },
     "execution_count": 28,
     "metadata": {},
     "output_type": "execute_result"
    }
   ],
   "source": [
    "def genTree(S):\n",
    "    if S=='Z':\n",
    "        return([S])\n",
    "    else:\n",
    "        key=ord(S)+1\n",
    "        res=genTree(chr(key))\n",
    "        return([S]+res)\n",
    "\n",
    "genTree('A')\n"
   ]
  },
  {
   "cell_type": "code",
   "execution_count": 35,
   "id": "d807701d",
   "metadata": {},
   "outputs": [
    {
     "name": "stdout",
     "output_type": "stream",
     "text": [
      "1829\n",
      "ABC\n"
     ]
    }
   ],
   "source": [
    "import re\n",
    "\n",
    "S='ABC1829'\n",
    "Nkey = re.search(r'\\d+', S)\n",
    "Skey = re.search(r'[a-zA-Z]+', S)\n",
    "print(Nkey.group())\n",
    "print(Skey.group())"
   ]
  },
  {
   "cell_type": "code",
   "execution_count": 33,
   "id": "c1daf65f",
   "metadata": {},
   "outputs": [
    {
     "data": {
      "text/plain": [
       "<re.Match object; span=(0, 3), match='ABC'>"
      ]
     },
     "execution_count": 33,
     "metadata": {},
     "output_type": "execute_result"
    }
   ],
   "source": [
    "re.search(r'[a-zA-Z]+', S)"
   ]
  },
  {
   "cell_type": "code",
   "execution_count": 37,
   "id": "76898914",
   "metadata": {},
   "outputs": [
    {
     "data": {
      "text/plain": [
       "['A1',\n",
       " 'B2',\n",
       " 'C3',\n",
       " 'D4',\n",
       " 'E5',\n",
       " 'F6',\n",
       " 'G7',\n",
       " 'H8',\n",
       " 'I9',\n",
       " 'J10',\n",
       " 'K11',\n",
       " 'L12',\n",
       " 'M13',\n",
       " 'N14',\n",
       " 'O15',\n",
       " 'P16',\n",
       " 'Q17',\n",
       " 'R18',\n",
       " 'S19',\n",
       " 'T20',\n",
       " 'U21',\n",
       " 'V22',\n",
       " 'W23',\n",
       " 'X24',\n",
       " 'Y25',\n",
       " 'Z26']"
      ]
     },
     "execution_count": 37,
     "metadata": {},
     "output_type": "execute_result"
    }
   ],
   "source": [
    "def genTree(S):\n",
    "    Nkey = re.search(r'\\d+', S)\n",
    "    Skey = re.search(r'[a-zA-Z]+', S)\n",
    "    if Skey.group()=='Z':\n",
    "        return([S])\n",
    "    else:\n",
    "        numK=int(Nkey.group())\n",
    "        numK=numK+1\n",
    "        strK=Skey.group()\n",
    "        strKn=ord(strK)+1\n",
    "        strK=chr(strKn)\n",
    "        \n",
    "        res=genTree(strK+str(numK))        \n",
    "        \n",
    "        return([S]+res)\n",
    "\n",
    "genTree('A1')\n"
   ]
  },
  {
   "cell_type": "code",
   "execution_count": 51,
   "id": "cfd3fd0e",
   "metadata": {},
   "outputs": [
    {
     "data": {
      "text/plain": [
       "['U1',\n",
       " 'V1',\n",
       " 'W1',\n",
       " 'X1',\n",
       " 'Y1',\n",
       " 'Z1',\n",
       " 'Z2',\n",
       " 'Y2',\n",
       " 'Z1',\n",
       " 'Z2',\n",
       " 'X2',\n",
       " 'Y1',\n",
       " 'Z1',\n",
       " 'Z2',\n",
       " 'Y2',\n",
       " 'Z1',\n",
       " 'Z2',\n",
       " 'W2',\n",
       " 'X1',\n",
       " 'Y1',\n",
       " 'Z1',\n",
       " 'Z2',\n",
       " 'Y2',\n",
       " 'Z1',\n",
       " 'Z2',\n",
       " 'X2',\n",
       " 'Y1',\n",
       " 'Z1',\n",
       " 'Z2',\n",
       " 'Y2',\n",
       " 'Z1',\n",
       " 'Z2',\n",
       " 'V2',\n",
       " 'W1',\n",
       " 'X1',\n",
       " 'Y1',\n",
       " 'Z1',\n",
       " 'Z2',\n",
       " 'Y2',\n",
       " 'Z1',\n",
       " 'Z2',\n",
       " 'X2',\n",
       " 'Y1',\n",
       " 'Z1',\n",
       " 'Z2',\n",
       " 'Y2',\n",
       " 'Z1',\n",
       " 'Z2',\n",
       " 'W2',\n",
       " 'X1',\n",
       " 'Y1',\n",
       " 'Z1',\n",
       " 'Z2',\n",
       " 'Y2',\n",
       " 'Z1',\n",
       " 'Z2',\n",
       " 'X2',\n",
       " 'Y1',\n",
       " 'Z1',\n",
       " 'Z2',\n",
       " 'Y2',\n",
       " 'Z1',\n",
       " 'Z2']"
      ]
     },
     "execution_count": 51,
     "metadata": {},
     "output_type": "execute_result"
    }
   ],
   "source": [
    "def genTree(S):\n",
    "    Nkey = re.search(r'\\d+', S)\n",
    "    Skey = re.search(r'[a-zA-Z]+', S)\n",
    "    if Skey.group()=='Z':\n",
    "        return([S])\n",
    "    else:\n",
    "        numK=int(Nkey.group())\n",
    "        numK=numK+1\n",
    "        strK=Skey.group()\n",
    "        strKn=ord(strK)+1\n",
    "        strK=chr(strKn)\n",
    "        \n",
    "        res1=genTree(strK+'1')        \n",
    "        res2=genTree(strK+'2')   \n",
    "        \n",
    "        return([S]+res1+res2)\n",
    "\n",
    "genTree('U1')\n"
   ]
  },
  {
   "cell_type": "code",
   "execution_count": 56,
   "id": "f6196483",
   "metadata": {},
   "outputs": [
    {
     "data": {
      "text/plain": [
       "['A1',\n",
       " 'BB1',\n",
       " 'CC1',\n",
       " 'DD1',\n",
       " 'DD2',\n",
       " 'CC2',\n",
       " 'DD1',\n",
       " 'DD2',\n",
       " 'BB2',\n",
       " 'CC1',\n",
       " 'DD1',\n",
       " 'DD2',\n",
       " 'CC2',\n",
       " 'DD1',\n",
       " 'DD2']"
      ]
     },
     "execution_count": 56,
     "metadata": {},
     "output_type": "execute_result"
    }
   ],
   "source": [
    "def genTree(S):\n",
    "    Nkey = re.search(r'\\d+', S)\n",
    "    Skey = re.search(r'[a-zA-Z]+', S)\n",
    "    if Skey.group()[0]=='D':\n",
    "        return([S])\n",
    "    else:\n",
    "        numK=int(Nkey.group())\n",
    "        numK=numK+1\n",
    "        strK=Skey.group()\n",
    "        strKn=ord(strK[0])+1\n",
    "        strK=chr(strKn)\n",
    "        \n",
    "        res1=genTree(strK+strK[-1]+'1')        \n",
    "        res2=genTree(strK+strK[-1]+'2')   \n",
    "        \n",
    "        return([S]+res1+res2)\n",
    "\n",
    "genTree('A1')\n"
   ]
  },
  {
   "cell_type": "code",
   "execution_count": 59,
   "id": "b8726e1d",
   "metadata": {},
   "outputs": [
    {
     "data": {
      "text/plain": [
       "4"
      ]
     },
     "execution_count": 59,
     "metadata": {},
     "output_type": "execute_result"
    }
   ],
   "source": [
    "import random\n",
    "random.randint(3, 9)"
   ]
  },
  {
   "cell_type": "code",
   "execution_count": 68,
   "id": "07df4833",
   "metadata": {},
   "outputs": [
    {
     "data": {
      "text/plain": [
       "array([[5, 7, 4, 3],\n",
       "       [3, 7, 4, 5]])"
      ]
     },
     "execution_count": 68,
     "metadata": {},
     "output_type": "execute_result"
    }
   ],
   "source": [
    "np.random.randint(3, 9,size=[2,4])"
   ]
  },
  {
   "cell_type": "code",
   "execution_count": 99,
   "id": "c70ff185",
   "metadata": {},
   "outputs": [
    {
     "data": {
      "text/plain": [
       "['F', 'G']"
      ]
     },
     "execution_count": 99,
     "metadata": {},
     "output_type": "execute_result"
    }
   ],
   "source": [
    "paramR=np.random.randint(3,9,size=[2,4])\n",
    "paramR[0]\n",
    "Snum=set(ord('A')+paramR[0])\n",
    "\n",
    "# it must be 4 charactors\n",
    "[chr(d) for d in Snum]"
   ]
  },
  {
   "cell_type": "code",
   "execution_count": 146,
   "id": "8cbe4801",
   "metadata": {},
   "outputs": [
    {
     "data": {
      "text/plain": [
       "['D', 'E', 'F', 'G']"
      ]
     },
     "execution_count": 146,
     "metadata": {},
     "output_type": "execute_result"
    }
   ],
   "source": [
    "# non duplicated charactors\n",
    "\n",
    "Nd=3\n",
    "Sd=4\n",
    "paramR=np.random.randint(3,9,size=[Nd,Sd])\n",
    "paramR[0]\n",
    "Snum=list(set(ord('A')+paramR[0]))\n",
    "while len(Snum)!=Sd:\n",
    "    tmp=[ord('A')+np.random.randint(3, 9)]\n",
    "    Snum=Snum+tmp\n",
    "    Snum=list(set(Snum))\n",
    "\n",
    "[chr(d) for d in Snum]"
   ]
  },
  {
   "cell_type": "code",
   "execution_count": 154,
   "id": "d16775d5",
   "metadata": {},
   "outputs": [
    {
     "data": {
      "text/plain": [
       "['A', 'B', 'C', 'D']"
      ]
     },
     "execution_count": 154,
     "metadata": {},
     "output_type": "execute_result"
    }
   ],
   "source": [
    "# non duplicated charactors\n",
    "\n",
    "Nd=3\n",
    "Sd=4 # max = 26\n",
    "paramR=np.random.randint(Sd,size=[Nd,Sd])\n",
    "paramR[0]\n",
    "Snum=list(set(ord('A')+paramR[0]))\n",
    "while len(Snum)!=Sd:\n",
    "    tmp=[ord('A')+np.random.randint(Sd)]\n",
    "    Snum=Snum+tmp\n",
    "    Snum=list(set(Snum))\n",
    "\n",
    "[chr(d) for d in Snum]"
   ]
  },
  {
   "cell_type": "code",
   "execution_count": 113,
   "id": "c54d6490",
   "metadata": {},
   "outputs": [
    {
     "data": {
      "text/plain": [
       "[72, 68, 70, 73]"
      ]
     },
     "execution_count": 113,
     "metadata": {},
     "output_type": "execute_result"
    }
   ],
   "source": [
    "Snum+[73]"
   ]
  },
  {
   "cell_type": "code",
   "execution_count": 92,
   "id": "6a339fc8",
   "metadata": {},
   "outputs": [
    {
     "data": {
      "text/plain": [
       "{68, 69, 72}"
      ]
     },
     "execution_count": 92,
     "metadata": {},
     "output_type": "execute_result"
    }
   ],
   "source": [
    "Snum"
   ]
  },
  {
   "cell_type": "code",
   "execution_count": 169,
   "id": "6331f091",
   "metadata": {},
   "outputs": [
    {
     "data": {
      "text/plain": [
       "['A1',\n",
       " 'BD1',\n",
       " 'CD1',\n",
       " 'DA1',\n",
       " 'DD1',\n",
       " 'DA1',\n",
       " 'DB1',\n",
       " 'DD2',\n",
       " 'DB2',\n",
       " 'DD2',\n",
       " 'DB2',\n",
       " 'DA3',\n",
       " 'DA3',\n",
       " 'DA3',\n",
       " 'DA3',\n",
       " 'CA1',\n",
       " 'DA1',\n",
       " 'DB1',\n",
       " 'DC1',\n",
       " 'DC1',\n",
       " 'DD2',\n",
       " 'DC2',\n",
       " 'DC2',\n",
       " 'DC2',\n",
       " 'DA3',\n",
       " 'DB3',\n",
       " 'DA3',\n",
       " 'DD3',\n",
       " 'CC1',\n",
       " 'DC1',\n",
       " 'DA1',\n",
       " 'DD1',\n",
       " 'DA1',\n",
       " 'DA2',\n",
       " 'DB2',\n",
       " 'DD2',\n",
       " 'DA2',\n",
       " 'DD3',\n",
       " 'DA3',\n",
       " 'DA3',\n",
       " 'DD3',\n",
       " 'CA1',\n",
       " 'DA1',\n",
       " 'DD1',\n",
       " 'DA1',\n",
       " 'DC1',\n",
       " 'DB2',\n",
       " 'DC2',\n",
       " 'DB2',\n",
       " 'DC2',\n",
       " 'DB3',\n",
       " 'DD3',\n",
       " 'DC3',\n",
       " 'DD3',\n",
       " 'CB2',\n",
       " 'DB1',\n",
       " 'DD1',\n",
       " 'DC1',\n",
       " 'DC1',\n",
       " 'DB2',\n",
       " 'DC2',\n",
       " 'DA2',\n",
       " 'DD2',\n",
       " 'DA3',\n",
       " 'DD3',\n",
       " 'DB3',\n",
       " 'DB3',\n",
       " 'CC2',\n",
       " 'DD1',\n",
       " 'DD1',\n",
       " 'DD1',\n",
       " 'DA1',\n",
       " 'DA2',\n",
       " 'DA2',\n",
       " 'DC2',\n",
       " 'DC2',\n",
       " 'DB3',\n",
       " 'DB3',\n",
       " 'DD3',\n",
       " 'DD3',\n",
       " 'CC2',\n",
       " 'DA1',\n",
       " 'DC1',\n",
       " 'DB1',\n",
       " 'DB1',\n",
       " 'DD2',\n",
       " 'DA2',\n",
       " 'DA2',\n",
       " 'DC2',\n",
       " 'DB3',\n",
       " 'DA3',\n",
       " 'DD3',\n",
       " 'DB3',\n",
       " 'CD2',\n",
       " 'DA1',\n",
       " 'DA1',\n",
       " 'DD1',\n",
       " 'DA1',\n",
       " 'DB2',\n",
       " 'DB2',\n",
       " 'DB2',\n",
       " 'DB2',\n",
       " 'DC3',\n",
       " 'DC3',\n",
       " 'DB3',\n",
       " 'DB3',\n",
       " 'CA3',\n",
       " 'DB1',\n",
       " 'DA1',\n",
       " 'DC1',\n",
       " 'DB1',\n",
       " 'DD2',\n",
       " 'DD2',\n",
       " 'DA2',\n",
       " 'DB2',\n",
       " 'DA3',\n",
       " 'DB3',\n",
       " 'DC3',\n",
       " 'DA3',\n",
       " 'CA3',\n",
       " 'DD1',\n",
       " 'DB1',\n",
       " 'DC1',\n",
       " 'DD1',\n",
       " 'DC2',\n",
       " 'DC2',\n",
       " 'DC2',\n",
       " 'DA2',\n",
       " 'DC3',\n",
       " 'DA3',\n",
       " 'DB3',\n",
       " 'DD3',\n",
       " 'CD3',\n",
       " 'DA1',\n",
       " 'DB1',\n",
       " 'DB1',\n",
       " 'DA1',\n",
       " 'DC2',\n",
       " 'DB2',\n",
       " 'DC2',\n",
       " 'DA2',\n",
       " 'DA3',\n",
       " 'DD3',\n",
       " 'DA3',\n",
       " 'DD3',\n",
       " 'CC3',\n",
       " 'DC1',\n",
       " 'DA1',\n",
       " 'DA1',\n",
       " 'DA1',\n",
       " 'DD2',\n",
       " 'DC2',\n",
       " 'DA2',\n",
       " 'DC2',\n",
       " 'DC3',\n",
       " 'DD3',\n",
       " 'DC3',\n",
       " 'DB3',\n",
       " 'BA1',\n",
       " 'CA1',\n",
       " 'DA1',\n",
       " 'DC1',\n",
       " 'DC1',\n",
       " 'DC1',\n",
       " 'DA2',\n",
       " 'DA2',\n",
       " 'DC2',\n",
       " 'DA2',\n",
       " 'DD3',\n",
       " 'DB3',\n",
       " 'DB3',\n",
       " 'DD3',\n",
       " 'CC1',\n",
       " 'DC1',\n",
       " 'DD1',\n",
       " 'DA1',\n",
       " 'DB1',\n",
       " 'DC2',\n",
       " 'DD2',\n",
       " 'DA2',\n",
       " 'DC2',\n",
       " 'DC3',\n",
       " 'DA3',\n",
       " 'DC3',\n",
       " 'DB3',\n",
       " 'CB1',\n",
       " 'DD1',\n",
       " 'DA1',\n",
       " 'DB1',\n",
       " 'DD1',\n",
       " 'DC2',\n",
       " 'DD2',\n",
       " 'DD2',\n",
       " 'DA2',\n",
       " 'DB3',\n",
       " 'DB3',\n",
       " 'DB3',\n",
       " 'DA3',\n",
       " 'CA1',\n",
       " 'DD1',\n",
       " 'DB1',\n",
       " 'DB1',\n",
       " 'DA1',\n",
       " 'DB2',\n",
       " 'DC2',\n",
       " 'DD2',\n",
       " 'DC2',\n",
       " 'DD3',\n",
       " 'DD3',\n",
       " 'DB3',\n",
       " 'DD3',\n",
       " 'CB2',\n",
       " 'DD1',\n",
       " 'DD1',\n",
       " 'DC1',\n",
       " 'DA1',\n",
       " 'DD2',\n",
       " 'DD2',\n",
       " 'DB2',\n",
       " 'DD2',\n",
       " 'DB3',\n",
       " 'DB3',\n",
       " 'DB3',\n",
       " 'DD3',\n",
       " 'CD2',\n",
       " 'DD1',\n",
       " 'DA1',\n",
       " 'DC1',\n",
       " 'DC1',\n",
       " 'DC2',\n",
       " 'DC2',\n",
       " 'DC2',\n",
       " 'DD2',\n",
       " 'DA3',\n",
       " 'DC3',\n",
       " 'DC3',\n",
       " 'DC3',\n",
       " 'CA2',\n",
       " 'DC1',\n",
       " 'DB1',\n",
       " 'DD1',\n",
       " 'DB1',\n",
       " 'DC2',\n",
       " 'DD2',\n",
       " 'DA2',\n",
       " 'DD2',\n",
       " 'DA3',\n",
       " 'DD3',\n",
       " 'DC3',\n",
       " 'DD3',\n",
       " 'CD2',\n",
       " 'DC1',\n",
       " 'DB1',\n",
       " 'DA1',\n",
       " 'DB1',\n",
       " 'DB2',\n",
       " 'DD2',\n",
       " 'DA2',\n",
       " 'DB2',\n",
       " 'DB3',\n",
       " 'DC3',\n",
       " 'DA3',\n",
       " 'DC3',\n",
       " 'CC3',\n",
       " 'DA1',\n",
       " 'DA1',\n",
       " 'DB1',\n",
       " 'DB1',\n",
       " 'DC2',\n",
       " 'DC2',\n",
       " 'DB2',\n",
       " 'DC2',\n",
       " 'DA3',\n",
       " 'DD3',\n",
       " 'DB3',\n",
       " 'DD3',\n",
       " 'CA3',\n",
       " 'DD1',\n",
       " 'DC1',\n",
       " 'DC1',\n",
       " 'DC1',\n",
       " 'DB2',\n",
       " 'DA2',\n",
       " 'DD2',\n",
       " 'DA2',\n",
       " 'DD3',\n",
       " 'DB3',\n",
       " 'DA3',\n",
       " 'DB3',\n",
       " 'CC3',\n",
       " 'DB1',\n",
       " 'DD1',\n",
       " 'DC1',\n",
       " 'DA1',\n",
       " 'DC2',\n",
       " 'DD2',\n",
       " 'DB2',\n",
       " 'DB2',\n",
       " 'DC3',\n",
       " 'DD3',\n",
       " 'DA3',\n",
       " 'DB3',\n",
       " 'CD3',\n",
       " 'DA1',\n",
       " 'DB1',\n",
       " 'DA1',\n",
       " 'DD1',\n",
       " 'DC2',\n",
       " 'DD2',\n",
       " 'DC2',\n",
       " 'DD2',\n",
       " 'DB3',\n",
       " 'DB3',\n",
       " 'DD3',\n",
       " 'DD3',\n",
       " 'BB1',\n",
       " 'CA1',\n",
       " 'DD1',\n",
       " 'DD1',\n",
       " 'DA1',\n",
       " 'DB1',\n",
       " 'DD2',\n",
       " 'DD2',\n",
       " 'DD2',\n",
       " 'DC2',\n",
       " 'DD3',\n",
       " 'DB3',\n",
       " 'DA3',\n",
       " 'DD3',\n",
       " 'CC1',\n",
       " 'DC1',\n",
       " 'DB1',\n",
       " 'DD1',\n",
       " 'DC1',\n",
       " 'DB2',\n",
       " 'DA2',\n",
       " 'DB2',\n",
       " 'DA2',\n",
       " 'DB3',\n",
       " 'DC3',\n",
       " 'DA3',\n",
       " 'DB3',\n",
       " 'CB1',\n",
       " 'DD1',\n",
       " 'DA1',\n",
       " 'DA1',\n",
       " 'DC1',\n",
       " 'DA2',\n",
       " 'DC2',\n",
       " 'DA2',\n",
       " 'DB2',\n",
       " 'DB3',\n",
       " 'DC3',\n",
       " 'DD3',\n",
       " 'DA3',\n",
       " 'CD1',\n",
       " 'DA1',\n",
       " 'DC1',\n",
       " 'DA1',\n",
       " 'DB1',\n",
       " 'DD2',\n",
       " 'DC2',\n",
       " 'DD2',\n",
       " 'DA2',\n",
       " 'DB3',\n",
       " 'DD3',\n",
       " 'DB3',\n",
       " 'DA3',\n",
       " 'CC2',\n",
       " 'DB1',\n",
       " 'DB1',\n",
       " 'DD1',\n",
       " 'DD1',\n",
       " 'DC2',\n",
       " 'DA2',\n",
       " 'DA2',\n",
       " 'DD2',\n",
       " 'DB3',\n",
       " 'DB3',\n",
       " 'DC3',\n",
       " 'DB3',\n",
       " 'CC2',\n",
       " 'DB1',\n",
       " 'DC1',\n",
       " 'DB1',\n",
       " 'DB1',\n",
       " 'DC2',\n",
       " 'DB2',\n",
       " 'DB2',\n",
       " 'DA2',\n",
       " 'DA3',\n",
       " 'DA3',\n",
       " 'DB3',\n",
       " 'DA3',\n",
       " 'CB2',\n",
       " 'DA1',\n",
       " 'DC1',\n",
       " 'DA1',\n",
       " 'DB1',\n",
       " 'DC2',\n",
       " 'DC2',\n",
       " 'DC2',\n",
       " 'DB2',\n",
       " 'DD3',\n",
       " 'DD3',\n",
       " 'DD3',\n",
       " 'DC3',\n",
       " 'CC2',\n",
       " 'DD1',\n",
       " 'DA1',\n",
       " 'DD1',\n",
       " 'DD1',\n",
       " 'DB2',\n",
       " 'DA2',\n",
       " 'DA2',\n",
       " 'DA2',\n",
       " 'DA3',\n",
       " 'DC3',\n",
       " 'DD3',\n",
       " 'DC3',\n",
       " 'CB3',\n",
       " 'DC1',\n",
       " 'DA1',\n",
       " 'DD1',\n",
       " 'DA1',\n",
       " 'DD2',\n",
       " 'DB2',\n",
       " 'DA2',\n",
       " 'DD2',\n",
       " 'DB3',\n",
       " 'DB3',\n",
       " 'DD3',\n",
       " 'DD3',\n",
       " 'CA3',\n",
       " 'DA1',\n",
       " 'DD1',\n",
       " 'DD1',\n",
       " 'DB1',\n",
       " 'DB2',\n",
       " 'DD2',\n",
       " 'DC2',\n",
       " 'DB2',\n",
       " 'DD3',\n",
       " 'DD3',\n",
       " 'DC3',\n",
       " 'DB3',\n",
       " 'CC3',\n",
       " 'DD1',\n",
       " 'DA1',\n",
       " 'DD1',\n",
       " 'DD1',\n",
       " 'DD2',\n",
       " 'DC2',\n",
       " 'DD2',\n",
       " 'DD2',\n",
       " 'DD3',\n",
       " 'DA3',\n",
       " 'DD3',\n",
       " 'DD3',\n",
       " 'CA3',\n",
       " 'DD1',\n",
       " 'DA1',\n",
       " 'DC1',\n",
       " 'DD1',\n",
       " 'DB2',\n",
       " 'DC2',\n",
       " 'DA2',\n",
       " 'DA2',\n",
       " 'DB3',\n",
       " 'DD3',\n",
       " 'DA3',\n",
       " 'DD3',\n",
       " 'BC1',\n",
       " 'CC1',\n",
       " 'DD1',\n",
       " 'DD1',\n",
       " 'DC1',\n",
       " 'DA1',\n",
       " 'DD2',\n",
       " 'DC2',\n",
       " 'DC2',\n",
       " 'DD2',\n",
       " 'DB3',\n",
       " 'DA3',\n",
       " 'DA3',\n",
       " 'DB3',\n",
       " 'CD1',\n",
       " 'DC1',\n",
       " 'DB1',\n",
       " 'DB1',\n",
       " 'DB1',\n",
       " 'DC2',\n",
       " 'DA2',\n",
       " 'DD2',\n",
       " 'DB2',\n",
       " 'DC3',\n",
       " 'DD3',\n",
       " 'DB3',\n",
       " 'DC3',\n",
       " 'CB1',\n",
       " 'DA1',\n",
       " 'DC1',\n",
       " 'DC1',\n",
       " 'DA1',\n",
       " 'DC2',\n",
       " 'DD2',\n",
       " 'DD2',\n",
       " 'DB2',\n",
       " 'DD3',\n",
       " 'DC3',\n",
       " 'DB3',\n",
       " 'DC3',\n",
       " 'CD1',\n",
       " 'DB1',\n",
       " 'DD1',\n",
       " 'DC1',\n",
       " 'DD1',\n",
       " 'DD2',\n",
       " 'DC2',\n",
       " 'DA2',\n",
       " 'DD2',\n",
       " 'DC3',\n",
       " 'DC3',\n",
       " 'DC3',\n",
       " 'DA3',\n",
       " 'CB2',\n",
       " 'DA1',\n",
       " 'DC1',\n",
       " 'DA1',\n",
       " 'DA1',\n",
       " 'DA2',\n",
       " 'DA2',\n",
       " 'DC2',\n",
       " 'DB2',\n",
       " 'DB3',\n",
       " 'DA3',\n",
       " 'DD3',\n",
       " 'DA3',\n",
       " 'CD2',\n",
       " 'DC1',\n",
       " 'DB1',\n",
       " 'DA1',\n",
       " 'DC1',\n",
       " 'DA2',\n",
       " 'DC2',\n",
       " 'DD2',\n",
       " 'DD2',\n",
       " 'DD3',\n",
       " 'DC3',\n",
       " 'DC3',\n",
       " 'DD3',\n",
       " 'CB2',\n",
       " 'DA1',\n",
       " 'DB1',\n",
       " 'DB1',\n",
       " 'DD1',\n",
       " 'DD2',\n",
       " 'DD2',\n",
       " 'DC2',\n",
       " 'DC2',\n",
       " 'DB3',\n",
       " 'DA3',\n",
       " 'DA3',\n",
       " 'DD3',\n",
       " 'CA2',\n",
       " 'DA1',\n",
       " 'DC1',\n",
       " 'DB1',\n",
       " 'DC1',\n",
       " 'DB2',\n",
       " 'DD2',\n",
       " 'DA2',\n",
       " 'DB2',\n",
       " 'DA3',\n",
       " 'DB3',\n",
       " 'DD3',\n",
       " 'DC3',\n",
       " 'CC3',\n",
       " 'DB1',\n",
       " 'DC1',\n",
       " 'DB1',\n",
       " 'DD1',\n",
       " 'DD2',\n",
       " 'DA2',\n",
       " 'DC2',\n",
       " 'DB2',\n",
       " 'DB3',\n",
       " 'DC3',\n",
       " 'DB3',\n",
       " 'DC3',\n",
       " 'CD3',\n",
       " 'DD1',\n",
       " 'DA1',\n",
       " 'DB1',\n",
       " 'DD1',\n",
       " 'DB2',\n",
       " 'DB2',\n",
       " 'DD2',\n",
       " 'DA2',\n",
       " 'DB3',\n",
       " 'DC3',\n",
       " 'DD3',\n",
       " 'DC3',\n",
       " 'CB3',\n",
       " 'DA1',\n",
       " 'DD1',\n",
       " 'DC1',\n",
       " 'DA1',\n",
       " 'DD2',\n",
       " 'DD2',\n",
       " 'DB2',\n",
       " 'DD2',\n",
       " 'DD3',\n",
       " 'DD3',\n",
       " 'DD3',\n",
       " 'DC3',\n",
       " 'CC3',\n",
       " 'DC1',\n",
       " 'DB1',\n",
       " 'DB1',\n",
       " 'DA1',\n",
       " 'DB2',\n",
       " 'DD2',\n",
       " 'DA2',\n",
       " 'DB2',\n",
       " 'DC3',\n",
       " 'DC3',\n",
       " 'DA3',\n",
       " 'DB3',\n",
       " 'BC2',\n",
       " 'CD1',\n",
       " 'DB1',\n",
       " 'DA1',\n",
       " 'DD1',\n",
       " 'DB1',\n",
       " 'DD2',\n",
       " 'DD2',\n",
       " 'DD2',\n",
       " 'DD2',\n",
       " 'DC3',\n",
       " 'DB3',\n",
       " 'DB3',\n",
       " 'DA3',\n",
       " 'CC1',\n",
       " 'DC1',\n",
       " 'DD1',\n",
       " 'DB1',\n",
       " 'DA1',\n",
       " 'DC2',\n",
       " 'DB2',\n",
       " 'DD2',\n",
       " 'DA2',\n",
       " 'DC3',\n",
       " 'DD3',\n",
       " 'DD3',\n",
       " 'DC3',\n",
       " 'CD1',\n",
       " 'DA1',\n",
       " 'DB1',\n",
       " 'DD1',\n",
       " 'DC1',\n",
       " 'DB2',\n",
       " 'DB2',\n",
       " 'DA2',\n",
       " 'DA2',\n",
       " 'DA3',\n",
       " 'DB3',\n",
       " 'DA3',\n",
       " 'DD3',\n",
       " 'CA1',\n",
       " 'DD1',\n",
       " 'DC1',\n",
       " 'DD1',\n",
       " 'DC1',\n",
       " 'DA2',\n",
       " 'DA2',\n",
       " 'DC2',\n",
       " 'DB2',\n",
       " 'DA3',\n",
       " 'DC3',\n",
       " 'DA3',\n",
       " 'DC3',\n",
       " 'CD2',\n",
       " 'DD1',\n",
       " 'DC1',\n",
       " 'DB1',\n",
       " 'DD1',\n",
       " 'DC2',\n",
       " 'DC2',\n",
       " 'DD2',\n",
       " 'DC2',\n",
       " 'DB3',\n",
       " 'DC3',\n",
       " 'DC3',\n",
       " 'DB3',\n",
       " 'CB2',\n",
       " 'DB1',\n",
       " 'DC1',\n",
       " 'DB1',\n",
       " 'DB1',\n",
       " 'DA2',\n",
       " 'DC2',\n",
       " 'DC2',\n",
       " 'DA2',\n",
       " 'DB3',\n",
       " 'DC3',\n",
       " 'DA3',\n",
       " 'DB3',\n",
       " 'CB2',\n",
       " 'DC1',\n",
       " 'DB1',\n",
       " 'DD1',\n",
       " 'DD1',\n",
       " 'DC2',\n",
       " 'DC2',\n",
       " 'DD2',\n",
       " 'DA2',\n",
       " 'DC3',\n",
       " 'DD3',\n",
       " 'DA3',\n",
       " 'DA3',\n",
       " 'CA2',\n",
       " 'DA1',\n",
       " 'DB1',\n",
       " 'DA1',\n",
       " 'DC1',\n",
       " 'DC2',\n",
       " 'DB2',\n",
       " 'DA2',\n",
       " 'DC2',\n",
       " 'DB3',\n",
       " 'DC3',\n",
       " 'DB3',\n",
       " 'DB3',\n",
       " 'CD3',\n",
       " 'DD1',\n",
       " 'DD1',\n",
       " 'DA1',\n",
       " 'DC1',\n",
       " 'DD2',\n",
       " 'DD2',\n",
       " 'DC2',\n",
       " 'DA2',\n",
       " 'DA3',\n",
       " 'DD3',\n",
       " 'DC3',\n",
       " 'DA3',\n",
       " 'CC3',\n",
       " 'DC1',\n",
       " 'DB1',\n",
       " 'DA1',\n",
       " 'DA1',\n",
       " 'DC2',\n",
       " 'DB2',\n",
       " 'DA2',\n",
       " 'DA2',\n",
       " 'DA3',\n",
       " 'DA3',\n",
       " 'DC3',\n",
       " 'DD3',\n",
       " 'CA3',\n",
       " 'DC1',\n",
       " 'DB1',\n",
       " 'DB1',\n",
       " 'DD1',\n",
       " 'DA2',\n",
       " 'DA2',\n",
       " 'DD2',\n",
       " 'DB2',\n",
       " 'DA3',\n",
       " 'DB3',\n",
       " 'DA3',\n",
       " 'DA3',\n",
       " 'CC3',\n",
       " 'DD1',\n",
       " 'DB1',\n",
       " 'DC1',\n",
       " 'DC1',\n",
       " 'DB2',\n",
       " 'DA2',\n",
       " 'DA2',\n",
       " 'DC2',\n",
       " 'DC3',\n",
       " 'DC3',\n",
       " 'DA3',\n",
       " 'DB3',\n",
       " 'BA2',\n",
       " 'CB1',\n",
       " 'DB1',\n",
       " 'DA1',\n",
       " 'DD1',\n",
       " 'DB1',\n",
       " 'DA2',\n",
       " 'DD2',\n",
       " 'DC2',\n",
       " 'DC2',\n",
       " 'DD3',\n",
       " 'DB3',\n",
       " 'DA3',\n",
       " 'DD3',\n",
       " 'CA1',\n",
       " 'DA1',\n",
       " 'DB1',\n",
       " 'DC1',\n",
       " 'DB1',\n",
       " 'DC2',\n",
       " 'DB2',\n",
       " 'DD2',\n",
       " 'DD2',\n",
       " 'DD3',\n",
       " 'DA3',\n",
       " 'DD3',\n",
       " 'DA3',\n",
       " 'CB1',\n",
       " 'DA1',\n",
       " 'DD1',\n",
       " 'DC1',\n",
       " 'DA1',\n",
       " 'DB2',\n",
       " 'DA2',\n",
       " 'DC2',\n",
       " 'DD2',\n",
       " 'DB3',\n",
       " 'DB3',\n",
       " 'DA3',\n",
       " 'DA3',\n",
       " 'CC1',\n",
       " 'DD1',\n",
       " 'DD1',\n",
       " 'DC1',\n",
       " 'DA1',\n",
       " 'DA2',\n",
       " 'DC2',\n",
       " 'DD2',\n",
       " 'DB2',\n",
       " 'DD3',\n",
       " 'DB3',\n",
       " 'DD3',\n",
       " 'DD3',\n",
       " 'CC2',\n",
       " 'DD1',\n",
       " 'DD1',\n",
       " 'DC1',\n",
       " 'DA1',\n",
       " 'DB2',\n",
       " 'DD2',\n",
       " 'DC2',\n",
       " 'DB2',\n",
       " 'DC3',\n",
       " 'DA3',\n",
       " 'DD3',\n",
       " 'DA3',\n",
       " 'CA2',\n",
       " 'DD1',\n",
       " 'DB1',\n",
       " 'DB1',\n",
       " 'DD1',\n",
       " 'DC2',\n",
       " 'DB2',\n",
       " 'DA2',\n",
       " 'DD2',\n",
       " 'DA3',\n",
       " 'DC3',\n",
       " 'DC3',\n",
       " 'DC3',\n",
       " 'CC2',\n",
       " 'DC1',\n",
       " 'DC1',\n",
       " 'DD1',\n",
       " 'DD1',\n",
       " 'DC2',\n",
       " 'DA2',\n",
       " 'DD2',\n",
       " 'DB2',\n",
       " 'DB3',\n",
       " 'DA3',\n",
       " 'DA3',\n",
       " 'DA3',\n",
       " 'CC2',\n",
       " 'DC1',\n",
       " 'DD1',\n",
       " 'DB1',\n",
       " 'DD1',\n",
       " 'DC2',\n",
       " 'DD2',\n",
       " 'DD2',\n",
       " 'DB2',\n",
       " 'DD3',\n",
       " 'DA3',\n",
       " 'DA3',\n",
       " 'DB3',\n",
       " 'CA3',\n",
       " 'DD1',\n",
       " 'DC1',\n",
       " 'DC1',\n",
       " 'DD1',\n",
       " 'DA2',\n",
       " 'DA2',\n",
       " 'DB2',\n",
       " 'DB2',\n",
       " 'DD3',\n",
       " 'DA3',\n",
       " 'DA3',\n",
       " 'DC3',\n",
       " 'CD3',\n",
       " 'DA1',\n",
       " 'DB1',\n",
       " 'DB1',\n",
       " 'DC1',\n",
       " 'DD2',\n",
       " 'DB2',\n",
       " 'DA2',\n",
       " 'DB2',\n",
       " 'DB3',\n",
       " 'DB3',\n",
       " 'DA3',\n",
       " 'DA3',\n",
       " 'CB3',\n",
       " 'DD1',\n",
       " 'DA1',\n",
       " 'DB1',\n",
       " 'DC1',\n",
       " 'DA2',\n",
       " 'DA2',\n",
       " 'DD2',\n",
       " 'DD2',\n",
       " 'DB3',\n",
       " 'DB3',\n",
       " 'DD3',\n",
       " 'DD3',\n",
       " 'CB3',\n",
       " 'DD1',\n",
       " 'DD1',\n",
       " 'DB1',\n",
       " 'DB1',\n",
       " 'DC2',\n",
       " 'DA2',\n",
       " 'DC2',\n",
       " 'DC2',\n",
       " 'DC3',\n",
       " 'DD3',\n",
       " 'DC3',\n",
       " 'DA3',\n",
       " 'BD2',\n",
       " 'CA1',\n",
       " 'DD1',\n",
       " 'DB1',\n",
       " 'DC1',\n",
       " 'DA1',\n",
       " 'DB2',\n",
       " 'DC2',\n",
       " 'DC2',\n",
       " 'DB2',\n",
       " 'DC3',\n",
       " 'DC3',\n",
       " 'DD3',\n",
       " 'DA3',\n",
       " 'CC1',\n",
       " 'DA1',\n",
       " 'DC1',\n",
       " 'DB1',\n",
       " 'DA1',\n",
       " 'DC2',\n",
       " 'DA2',\n",
       " 'DB2',\n",
       " 'DC2',\n",
       " 'DB3',\n",
       " 'DB3',\n",
       " 'DD3',\n",
       " 'DD3',\n",
       " 'CC1',\n",
       " 'DC1',\n",
       " 'DA1',\n",
       " 'DB1',\n",
       " 'DB1',\n",
       " 'DA2',\n",
       " 'DB2',\n",
       " 'DA2',\n",
       " 'DA2',\n",
       " 'DD3',\n",
       " 'DB3',\n",
       " 'DD3',\n",
       " 'DA3',\n",
       " 'CA1',\n",
       " 'DD1',\n",
       " 'DD1',\n",
       " 'DA1',\n",
       " 'DD1',\n",
       " 'DC2',\n",
       " 'DC2',\n",
       " 'DC2',\n",
       " 'DB2',\n",
       " 'DA3',\n",
       " 'DC3',\n",
       " 'DD3',\n",
       " 'DB3',\n",
       " 'CC2',\n",
       " 'DB1',\n",
       " 'DB1',\n",
       " 'DA1',\n",
       " ...]"
      ]
     },
     "execution_count": 169,
     "metadata": {},
     "output_type": "execute_result"
    }
   ],
   "source": [
    "Nd=3\n",
    "Sd=4\n",
    "def genTree(S):\n",
    "    Nkey = re.search(r'\\d+', S)\n",
    "    Skey = re.search(r'[a-zA-Z]+', S)\n",
    "    if Skey.group()[0]=='D':\n",
    "        return([S])\n",
    "    else:\n",
    "        numK=int(Nkey.group())\n",
    "        numK=numK+1\n",
    "        strK=Skey.group()\n",
    "        strKn=ord(strK[0])+1\n",
    "        strK=chr(strKn)\n",
    "        res=[]\n",
    "#         Nd_tmp=np.random.randint(Nd)\n",
    "#         Sd_tmp=np.random.randint(Sd)\n",
    "        Nd_tmp=Nd\n",
    "        Sd_tmp=Sd\n",
    "        \n",
    "        paramR=np.random.randint(Sd,size=[Nd_tmp,Sd_tmp])\n",
    "        for k in range(len(paramR)):\n",
    "            tmpS=[chr(ord('A')+d)+str(k+1) for d in paramR[k]]\n",
    "#             print(k)\n",
    "#             print(paramR[k])\n",
    "#             print(tmpS)\n",
    "            for d in tmpS:\n",
    "#                 print(strK+d)\n",
    "                res=res+genTree(strK+d)\n",
    "            \n",
    "        \n",
    "        return([S]+res)\n",
    "\n",
    "genTree('A1')\n"
   ]
  },
  {
   "cell_type": "code",
   "execution_count": 357,
   "id": "a57c3f80",
   "metadata": {},
   "outputs": [
    {
     "name": "stdout",
     "output_type": "stream",
     "text": [
      "['A1', 'BB1', 'CA1', 'DA1', 'DD1', 'DA1', 'CD1', 'CB2', 'DD1', 'DD2', 'CB2', 'BB1', 'CB1', 'DA1', 'DD1', 'DA1', 'DC2', 'DB2', 'DD2', 'CD2', 'BC1']\n"
     ]
    }
   ],
   "source": [
    "Nd=3\n",
    "Sd=4\n",
    "def genTree(S):\n",
    "    Nkey = re.search(r'\\d+', S)\n",
    "    Skey = re.search(r'[a-zA-Z]+', S)\n",
    "    if Skey.group()[0]=='D':\n",
    "#     if len(S)>=4:\n",
    "        return([S])\n",
    "    else:\n",
    "        numK=int(Nkey.group())\n",
    "        numK=numK+1\n",
    "        strK=Skey.group()\n",
    "        strKn=ord(strK[0])+1\n",
    "#         strK_pre=strK\n",
    "        strK=chr(strKn)\n",
    "        res=[strK+'1']\n",
    "        res=[]\n",
    "        Nd_tmp=np.random.randint(Nd)\n",
    "        Sd_tmp=np.random.randint(Sd)\n",
    "#         Nd_tmp=Nd\n",
    "#         Sd_tmp=Sd\n",
    "        \n",
    "        paramR=np.random.randint(Sd,size=[Nd_tmp,Sd_tmp])\n",
    "        for k in range(len(paramR)):\n",
    "            tmpS=[chr(ord('A')+d)+str(k+1) for d in paramR[k]]\n",
    "#             print(k)\n",
    "#             print(paramR[k])\n",
    "#             print(tmpS)\n",
    "            for d in tmpS:\n",
    "#                 print(strK+d)\n",
    "                res=res+genTree(strK+d)\n",
    "            \n",
    "        \n",
    "        return([S]+res)\n",
    "\n",
    "outData=genTree('A1')\n",
    "print(outData)"
   ]
  },
  {
   "cell_type": "code",
   "execution_count": 358,
   "id": "5b5a5225",
   "metadata": {},
   "outputs": [],
   "source": [
    "np.savetxt('data.csv', outData, header='class_name',delimiter=',',fmt='%s')"
   ]
  },
  {
   "cell_type": "code",
   "execution_count": 396,
   "id": "fbd3684d",
   "metadata": {},
   "outputs": [
    {
     "name": "stdout",
     "output_type": "stream",
     "text": [
      "[[0 1]\n",
      " [0 1]]\n",
      "['A1', 'B1']\n",
      "[[0 1]\n",
      " [0 1]]\n",
      "['A1', 'B1']\n",
      "['A2', 'B2']\n",
      "[[0 1]\n",
      " [0 1]]\n",
      "['A1', 'B1']\n",
      "['A2', 'B2']\n",
      "['A2', 'B2']\n",
      "[[0 1]\n",
      " [0 1]]\n",
      "['A1', 'B1']\n",
      "['A2', 'B2']\n",
      "[[0 1]\n",
      " [0 1]]\n",
      "['A1', 'B1']\n",
      "['A2', 'B2']\n",
      "['A1', 'AA1', 'AAA1', 'AAB1', 'AAA2', 'AAB2', 'AB1', 'ABA1', 'ABB1', 'ABA2', 'ABB2', 'AA2', 'AAA1', 'AAB1', 'AAA2', 'AAB2', 'AB2', 'ABA1', 'ABB1', 'ABA2', 'ABB2']\n"
     ]
    }
   ],
   "source": [
    "Nd=1\n",
    "Sd=2\n",
    "def genTree(S):\n",
    "    Nkey = re.search(r'\\d+', S)\n",
    "    Skey = re.search(r'[a-zA-Z]+', S)\n",
    "#     if Skey.group()[0]=='D':\n",
    "    if len(S)>=4:\n",
    "        return([S])\n",
    "    else:\n",
    "        numK=int(Nkey.group())\n",
    "        numK=numK+1\n",
    "        strK=Skey.group()\n",
    "        strKn=ord(strK[-1])+1\n",
    "        strK_pre=strK\n",
    "        strK=chr(strKn)\n",
    "        res=[strK+'1']\n",
    "        res=[]\n",
    "#         Nd_tmp=np.random.randint(Nd)\n",
    "#         Sd_tmp=np.random.randint(Sd)\n",
    "        Nd_tmp=Nd\n",
    "        Sd_tmp=Sd\n",
    "        \n",
    "        paramR=np.random.randint(Sd,size=[Nd_tmp,Sd_tmp])\n",
    "        paramR=np.array([[0,1],[0,1]])\n",
    "        print(paramR)\n",
    "        for k in range(len(paramR)):\n",
    "            tmpS=[chr(ord('A')+d)+str(k+1) for d in paramR[k]]\n",
    "#             print(k)\n",
    "#             print(paramR[k])\n",
    "            print(tmpS)\n",
    "            for d in tmpS:\n",
    "#                 print(strK+d)\n",
    "                res=res+genTree(strK_pre+d)\n",
    "            \n",
    "        \n",
    "        return([S]+res)\n",
    "\n",
    "outData=genTree('A1')\n",
    "print(outData)"
   ]
  },
  {
   "cell_type": "code",
   "execution_count": 443,
   "id": "bac7e022",
   "metadata": {},
   "outputs": [
    {
     "name": "stdout",
     "output_type": "stream",
     "text": [
      "['A1', 'AA1', 'AAA1', 'AAB1', 'AAA2', 'AAB2', 'AB1', 'ABA1', 'ABB1', 'ABA2', 'ABB2', 'AA2', 'AAA1', 'AAB1', 'AAA2', 'AAB2', 'AB2', 'ABA1', 'ABB1', 'ABA2', 'ABB2']\n"
     ]
    }
   ],
   "source": [
    "# gettree \n",
    "\n",
    "Nd=2\n",
    "Sd=3\n",
    "def genTree(S):\n",
    "    Nkey = re.search(r'\\d+', S)\n",
    "    Skey = re.search(r'[a-zA-Z]+', S)\n",
    "#     if Skey.group()[0]=='D':\n",
    "    if len(S)>=7:\n",
    "        return([S])\n",
    "    else:\n",
    "        numK=int(Nkey.group())\n",
    "        numK=numK+1\n",
    "        strK=Skey.group()\n",
    "        strKn=ord(strK[-1])+1\n",
    "        strK_pre=strK\n",
    "        strK=chr(strKn)\n",
    "        res=[strK+'1']\n",
    "        res=[]\n",
    "#         Nd_tmp=np.random.randint(Nd)+1\n",
    "#         Sd_tmp=np.random.randint(Sd)+1\n",
    "        Nd_tmp=Nd\n",
    "        Sd_tmp=Sd\n",
    "        \n",
    "#         paramR=np.random.randint(Sd,size=[Nd_tmp,Sd_tmp])\n",
    "        paramR=np.array([[0,1],[0,1]])\n",
    "#         print(paramR)\n",
    "        for k in range(len(paramR)):\n",
    "            tmpS=[chr(ord('A')+d)+str(k+1) for d in list(set(paramR[k]))]\n",
    "#             print(k)\n",
    "#             print(paramR[k])\n",
    "#             print(tmpS)\n",
    "            for d in tmpS:\n",
    "#                 print(strK+d)\n",
    "                res=res+genTree(strK_pre+d)\n",
    "            \n",
    "        \n",
    "        return([S]+res)\n",
    "\n",
    "outData=genTree('A1')\n",
    "print(outData)"
   ]
  },
  {
   "cell_type": "code",
   "execution_count": 447,
   "id": "53f7fa0e",
   "metadata": {},
   "outputs": [
    {
     "data": {
      "text/plain": [
       "{'A1': ['AA1']}"
      ]
     },
     "execution_count": 447,
     "metadata": {},
     "output_type": "execute_result"
    }
   ],
   "source": [
    "dictD={}\n",
    "dictD['A1']=['AA1']\n",
    "dictD"
   ]
  },
  {
   "cell_type": "code",
   "execution_count": 583,
   "id": "c210074d",
   "metadata": {},
   "outputs": [
    {
     "name": "stdout",
     "output_type": "stream",
     "text": [
      "{'A1': ['AA1', 'AB1', 'AA2', 'AB2'], 'AA1': ['AAA1', 'AAB1', 'AAA2', 'AAB2'], 'AAA1': ['AAAB1', 'AAAA2', 'AAAA1', 'AAAB2'], 'AAB1': ['AABB2', 'AABA2', 'AABA1', 'AABB1'], 'AB1': ['ABA1', 'ABB1', 'ABA2', 'ABB2'], 'ABA1': ['ABAB1', 'ABAA2', 'ABAB2', 'ABAA1'], 'ABB1': ['ABBA1', 'ABBA2', 'ABBB2', 'ABBB1']}\n"
     ]
    }
   ],
   "source": [
    "# getTree  Length <= 5\n",
    "\n",
    "Nd=2\n",
    "Sd=3\n",
    "\n",
    "def dictMerge(d1,d2):\n",
    "    d1c=d1.copy()\n",
    "    d2c=d2.copy()\n",
    "    cKey=list(set(list(d1c.keys()))&set(list(d2c.keys())))\n",
    "    for key in cKey:\n",
    "        tmpL=d1c[key]+d2c[key]\n",
    "        d2c[key]=list(set(tmpL))\n",
    "    d1c.update(d2c)\n",
    "    return(d1c)\n",
    "\n",
    "def genTree(S):\n",
    "    Nkey = re.search(r'\\d+', S)\n",
    "    Skey = re.search(r'[a-zA-Z]+', S)\n",
    "    if len(S)>=5:\n",
    "        return({})\n",
    "    else:\n",
    "        numK=int(Nkey.group())\n",
    "        strK=Skey.group()\n",
    "        strKn=ord(strK[-1])+1\n",
    "        strK_pre=strK\n",
    "        strK=chr(strKn)\n",
    "        res=[strK+'1']\n",
    "        res={}\n",
    "        listT=[]\n",
    "        Nd_tmp=Nd\n",
    "        Sd_tmp=Sd\n",
    "        \n",
    "        paramR=np.array([[0,1],[0,1]])\n",
    "\n",
    "        for k in range(len(paramR)):\n",
    "            tmpS=[chr(ord('A')+d)+str(k+1) for d in list(set(paramR[k]))]\n",
    "            for d in tmpS:\n",
    "                res=dictMerge(res,genTree(strK_pre+d))\n",
    "                listT=listT+[strK_pre+d]\n",
    "        \n",
    "        d0={}\n",
    "        if numK==1:\n",
    "            d0[S]=listT\n",
    "        resD=dictMerge(d0,res)\n",
    "        return(resD)\n",
    "\n",
    "outDict=genTree('A1')\n",
    "print(outDict)"
   ]
  },
  {
   "cell_type": "code",
   "execution_count": 594,
   "id": "f1e32d89",
   "metadata": {},
   "outputs": [
    {
     "name": "stdout",
     "output_type": "stream",
     "text": [
      "['ABB2', 'AAAA1', 'AA2', 'ABAA2', 'AAB1', 'ABBB1', 'AB1', 'AB2', 'ABA2', 'AAA2', 'AABA1', 'ABAB2', 'ABAA1', 'ABA1', 'AABB2', 'AABA2', 'ABBA2', 'ABBB2', 'AAA1', 'ABAB1', 'AAAB1', 'AABB1', 'AAAA2', 'AA1', 'ABB1', 'AAB2', 'ABBA1', 'A1', 'AAAB2']\n",
      "[ 8 21 12  4  7 23 15]\n"
     ]
    }
   ],
   "source": [
    "rNd=7\n",
    "all_Item=list(set(list(outDict.keys())+sum(outDict.values(), [])))\n",
    "rLIst=np.random.randint(len(all_Item),size=rNd)\n",
    "print(all_Item)\n",
    "print(rLIst)"
   ]
  },
  {
   "cell_type": "code",
   "execution_count": 586,
   "id": "fd922fde",
   "metadata": {},
   "outputs": [
    {
     "name": "stdout",
     "output_type": "stream",
     "text": [
      "29\n"
     ]
    }
   ],
   "source": [
    "print(len(all_Item))"
   ]
  },
  {
   "cell_type": "code",
   "execution_count": 581,
   "id": "31a20068",
   "metadata": {},
   "outputs": [
    {
     "name": "stdout",
     "output_type": "stream",
     "text": [
      "Local cdn resources have problems on chrome/safari when used in jupyter-notebook. \n"
     ]
    },
    {
     "data": {
      "text/html": [
       "\n",
       "        <iframe\n",
       "            width=\"500px\"\n",
       "            height=\"500px\"\n",
       "            src=\"network_disp1.html\"\n",
       "            frameborder=\"0\"\n",
       "            allowfullscreen\n",
       "            \n",
       "        ></iframe>\n",
       "        "
      ],
      "text/plain": [
       "<IPython.lib.display.IFrame at 0x21670a3a0>"
      ]
     },
     "execution_count": 581,
     "metadata": {},
     "output_type": "execute_result"
    }
   ],
   "source": [
    "nodeSize=10\n",
    "conWidth=2\n",
    "\n",
    "network = Network(\n",
    "    height=\"500px\",  # default param = 500px\n",
    "    width=\"500px\",  # default param = 500px\n",
    "    notebook=True,  # For jupyter notebook, it should be True\n",
    "    bgcolor=\"rgb(255,255,255)\",  # default color = \"#ffffff\" \"rgb(255,255,255)\"\n",
    "    directed=True,   # directional graph = True, non- directinal graph = False\n",
    ")\n",
    "str2num=lambda S: [ord(d)-ord('A')+1 if not(str.isdecimal(d)) else int(d) for d in S ]\n",
    "\n",
    "all_Item=list(set(list(outDict.keys())+sum(outDict.values(), [])))\n",
    "keyList=list(outDict.keys())\n",
    "for k in range(len(all_Item)):\n",
    "    nd= int(\"\".join(map(str, str2num(all_Item[k]))))\n",
    "    network.add_node(n_id=nd,label=all_Item[k], shape=\"box\",size=nodeSize)\n",
    "    \n",
    "for k in range(len(outDict)):\n",
    "    nodeMn= int(\"\".join(map(str, str2num(keyList[k]))))\n",
    "    \n",
    "    nodeS=outDict[keyList[k]]\n",
    "    nodeSn=[ int(\"\".join(map(str, str2num(d)))) for d in nodeS]\n",
    "    for j in range(len(nodeSn)):\n",
    "        network.add_edge(nodeMn,nodeSn[j], width=conWidth,smooth=\"dynamic\")\n",
    "    \n",
    "\n",
    "# output the results in the HTML format (and visualization in the jupyter notebook panel)\n",
    "network.show(\"network_disp1.html\")"
   ]
  },
  {
   "cell_type": "code",
   "execution_count": 595,
   "id": "b1b7edf9",
   "metadata": {},
   "outputs": [
    {
     "name": "stdout",
     "output_type": "stream",
     "text": [
      "Local cdn resources have problems on chrome/safari when used in jupyter-notebook. \n"
     ]
    },
    {
     "data": {
      "text/html": [
       "\n",
       "        <iframe\n",
       "            width=\"500px\"\n",
       "            height=\"500px\"\n",
       "            src=\"network_disp1.html\"\n",
       "            frameborder=\"0\"\n",
       "            allowfullscreen\n",
       "            \n",
       "        ></iframe>\n",
       "        "
      ],
      "text/plain": [
       "<IPython.lib.display.IFrame at 0x217202220>"
      ]
     },
     "execution_count": 595,
     "metadata": {},
     "output_type": "execute_result"
    }
   ],
   "source": [
    "nodeSize=10\n",
    "conWidth=2\n",
    "\n",
    "network = Network(\n",
    "    height=\"500px\",  # default param = 500px\n",
    "    width=\"500px\",  # default param = 500px\n",
    "    notebook=True,  # For jupyter notebook, it should be True\n",
    "    bgcolor=\"rgb(255,255,255)\",  # default color = \"#ffffff\" \"rgb(255,255,255)\"\n",
    "    directed=True,   # directional graph = True, non- directinal graph = False\n",
    ")\n",
    "str2num=lambda S: [ord(d)-ord('A')+1 if not(str.isdecimal(d)) else int(d) for d in S ]\n",
    "\n",
    "all_Item=list(set(list(outDict.keys())+sum(outDict.values(), [])))\n",
    "keyList=list(outDict.keys())\n",
    "for k in range(len(all_Item)):\n",
    "    nd= int(\"\".join(map(str, str2num(all_Item[k]))))\n",
    "    if k in rLIst:\n",
    "        colName=\"red\"\n",
    "    else:\n",
    "        colName=\"gray\"\n",
    "    network.add_node(n_id=nd,label=all_Item[k], shape=\"box\",size=nodeSize,color =colName)\n",
    "    \n",
    "for k in range(len(outDict)):\n",
    "    nodeMn= int(\"\".join(map(str, str2num(keyList[k]))))\n",
    "    \n",
    "    nodeS=outDict[keyList[k]]\n",
    "    nodeSn=[ int(\"\".join(map(str, str2num(d)))) for d in nodeS]\n",
    "    for j in range(len(nodeSn)):\n",
    "        network.add_edge(nodeMn,nodeSn[j], width=conWidth,smooth=\"dynamic\")\n",
    "    \n",
    "\n",
    "# output the results in the HTML format (and visualization in the jupyter notebook panel)\n",
    "network.show(\"network_disp1.html\")"
   ]
  },
  {
   "cell_type": "code",
   "execution_count": 577,
   "id": "57108c3d",
   "metadata": {},
   "outputs": [
    {
     "name": "stdout",
     "output_type": "stream",
     "text": [
      "{'A1': ['AA1', 'AB1', 'AA2', 'AB2'], 'AA1': ['AAA1', 'AAB1', 'AAA2', 'AAB2'], 'AAA1': ['AAAB1', 'AAAA2', 'AAAA1', 'AAAB2'], 'AAAA1': ['AAAAA2', 'AAAAB1', 'AAAAA1', 'AAAAB2'], 'AAAB1': ['AAABA1', 'AAABB2', 'AAABB1', 'AAABA2'], 'AAB1': ['AABB2', 'AABA2', 'AABA1', 'AABB1'], 'AABA1': ['AABAB1', 'AABAA2', 'AABAB2', 'AABAA1'], 'AABB1': ['AABBB1', 'AABBA1', 'AABBA2', 'AABBB2'], 'AB1': ['ABA1', 'ABB1', 'ABA2', 'ABB2'], 'ABA1': ['ABAB1', 'ABAA2', 'ABAB2', 'ABAA1'], 'ABAA1': ['ABAAA1', 'ABAAB2', 'ABAAB1', 'ABAAA2'], 'ABAB1': ['ABABA2', 'ABABA1', 'ABABB2', 'ABABB1'], 'ABB1': ['ABBA1', 'ABBA2', 'ABBB2', 'ABBB1'], 'ABBA1': ['ABBAB1', 'ABBAB2', 'ABBAA1', 'ABBAA2'], 'ABBB1': ['ABBBA1', 'ABBBB1', 'ABBBA2', 'ABBBB2']}\n"
     ]
    }
   ],
   "source": [
    "# getTree  Length < 6\n",
    "\n",
    "Nd=2\n",
    "Sd=3\n",
    "\n",
    "def dictMerge(d1,d2):\n",
    "    d1c=d1.copy()\n",
    "    d2c=d2.copy()\n",
    "    cKey=list(set(list(d1c.keys()))&set(list(d2c.keys())))\n",
    "    for key in cKey:\n",
    "        tmpL=d1c[key]+d2c[key]\n",
    "        d2c[key]=list(set(tmpL))\n",
    "    d1c.update(d2c)\n",
    "    return(d1c)\n",
    "\n",
    "def genTree(S):\n",
    "    Nkey = re.search(r'\\d+', S)\n",
    "    Skey = re.search(r'[a-zA-Z]+', S)\n",
    "#     if Skey.group()[0]=='D':\n",
    "    if len(S)>=6:\n",
    "#         d0={}\n",
    "#         d0[S]=['']\n",
    "#         return(d0)\n",
    "        return({})\n",
    "    else:\n",
    "        numK=int(Nkey.group())\n",
    "#         numK=numK+1\n",
    "        strK=Skey.group()\n",
    "        strKn=ord(strK[-1])+1\n",
    "        strK_pre=strK\n",
    "        strK=chr(strKn)\n",
    "        res=[strK+'1']\n",
    "        res={}\n",
    "        listT=[]\n",
    "#         Nd_tmp=np.random.randint(Nd)+1\n",
    "#         Sd_tmp=np.random.randint(Sd)+1\n",
    "        Nd_tmp=Nd\n",
    "        Sd_tmp=Sd\n",
    "        \n",
    "#         paramR=np.random.randint(Sd,size=[Nd_tmp,Sd_tmp])\n",
    "        paramR=np.array([[0,1],[0,1]])\n",
    "#         print(paramR)\n",
    "        for k in range(len(paramR)):\n",
    "            tmpS=[chr(ord('A')+d)+str(k+1) for d in list(set(paramR[k]))]\n",
    "#             print(k)\n",
    "#             print(paramR[k])\n",
    "#             print(tmpS)\n",
    "            for d in tmpS:\n",
    "#                 print(strK+d)\n",
    "                res=dictMerge(res,genTree(strK_pre+d))\n",
    "                listT=listT+[strK_pre+d]\n",
    "#                 print(res)\n",
    "        \n",
    "        d0={}\n",
    "        if numK==1:\n",
    "            d0[S]=listT\n",
    "        resD=dictMerge(d0,res)\n",
    "#         resD=d0\n",
    "        return(resD)\n",
    "\n",
    "outDict=genTree('A1')\n",
    "print(outDict)"
   ]
  },
  {
   "cell_type": "code",
   "execution_count": 518,
   "id": "7dcb2e73",
   "metadata": {},
   "outputs": [
    {
     "name": "stdout",
     "output_type": "stream",
     "text": [
      "5\n",
      "dict_keys(['A1', 'AA1', 'AB1', 'AA2', 'AB2'])\n",
      "dict_values([['AA1', 'AB1', 'AA2', 'AB2'], ['AAA1', 'AAB1', 'AAA2', 'AAB2'], ['ABA1', 'ABB1', 'ABA2', 'ABB2'], ['AAA1', 'AAB1', 'AAA2', 'AAB2'], ['ABA1', 'ABB1', 'ABA2', 'ABB2']])\n"
     ]
    },
    {
     "data": {
      "text/plain": [
       "{'A1',\n",
       " 'AA1',\n",
       " 'AA2',\n",
       " 'AAA1',\n",
       " 'AAA2',\n",
       " 'AAB1',\n",
       " 'AAB2',\n",
       " 'AB1',\n",
       " 'AB2',\n",
       " 'ABA1',\n",
       " 'ABA2',\n",
       " 'ABB1',\n",
       " 'ABB2'}"
      ]
     },
     "execution_count": 518,
     "metadata": {},
     "output_type": "execute_result"
    }
   ],
   "source": [
    "print(len(outDict))\n",
    "print(outDict.keys())\n",
    "print(outDict.values())\n",
    "\n",
    "list(set(list(outDict.keys())+sum(outDict.values(), [])))"
   ]
  },
  {
   "cell_type": "code",
   "execution_count": 526,
   "id": "f2bfee32",
   "metadata": {},
   "outputs": [
    {
     "data": {
      "text/plain": [
       "['A1', 'AA1', 'AB1', 'AA2', 'AB2']"
      ]
     },
     "execution_count": 526,
     "metadata": {},
     "output_type": "execute_result"
    }
   ],
   "source": [
    "keyList=list(outDict.keys())\n",
    "keyList"
   ]
  },
  {
   "cell_type": "code",
   "execution_count": 532,
   "id": "c5b364fb",
   "metadata": {},
   "outputs": [
    {
     "data": {
      "text/plain": [
       "(True, False)"
      ]
     },
     "execution_count": 532,
     "metadata": {},
     "output_type": "execute_result"
    }
   ],
   "source": [
    "str.isdecimal('1'),str.isdecimal('A')"
   ]
  },
  {
   "cell_type": "code",
   "execution_count": 540,
   "id": "5014abe1",
   "metadata": {},
   "outputs": [
    {
     "name": "stdout",
     "output_type": "stream",
     "text": [
      "[1, 1, 1]\n",
      "111\n"
     ]
    }
   ],
   "source": [
    "str2num=lambda S: [ord(d)-ord('A')+1 if not(str.isdecimal(d)) else int(d) for d in S ]\n",
    "\n",
    "outL=str2num('AA1')\n",
    "outN = int(\"\".join(map(str, outL)))\n",
    "\n",
    "print(outL)\n",
    "print(outN)"
   ]
  },
  {
   "cell_type": "code",
   "execution_count": 578,
   "id": "8778e7d5",
   "metadata": {},
   "outputs": [
    {
     "name": "stdout",
     "output_type": "stream",
     "text": [
      "Local cdn resources have problems on chrome/safari when used in jupyter-notebook. \n"
     ]
    },
    {
     "data": {
      "text/html": [
       "\n",
       "        <iframe\n",
       "            width=\"500px\"\n",
       "            height=\"500px\"\n",
       "            src=\"class_list1.html\"\n",
       "            frameborder=\"0\"\n",
       "            allowfullscreen\n",
       "            \n",
       "        ></iframe>\n",
       "        "
      ],
      "text/plain": [
       "<IPython.lib.display.IFrame at 0x21657f9a0>"
      ]
     },
     "execution_count": 578,
     "metadata": {},
     "output_type": "execute_result"
    }
   ],
   "source": [
    "nodeSize=10\n",
    "conWidth=2\n",
    "\n",
    "network = Network(\n",
    "    height=\"500px\",  # default param = 500px\n",
    "    width=\"500px\",  # default param = 500px\n",
    "    notebook=True,  # For jupyter notebook, it should be True\n",
    "    bgcolor=\"rgb(255,255,255)\",  # default color = \"#ffffff\" \"rgb(255,255,255)\"\n",
    "    directed=True,   # directional graph = True, non- directinal graph = False\n",
    ")\n",
    "str2num=lambda S: [ord(d)-ord('A')+1 if not(str.isdecimal(d)) else int(d) for d in S ]\n",
    "\n",
    "all_Item=list(set(list(outDict.keys())+sum(outDict.values(), [])))\n",
    "keyList=list(outDict.keys())\n",
    "for k in range(len(all_Item)):\n",
    "    nd= int(\"\".join(map(str, str2num(all_Item[k]))))\n",
    "    network.add_node(n_id=nd,label=all_Item[k], shape=\"box\",size=nodeSize)\n",
    "    \n",
    "for k in range(len(outDict)):\n",
    "    nodeMn= int(\"\".join(map(str, str2num(keyList[k]))))\n",
    "    \n",
    "    nodeS=outDict[keyList[k]]\n",
    "    nodeSn=[ int(\"\".join(map(str, str2num(d)))) for d in nodeS]\n",
    "    for j in range(len(nodeSn)):\n",
    "        network.add_edge(nodeMn,nodeSn[j], width=conWidth,smooth=\"dynamic\")\n",
    "    \n",
    "\n",
    "# output the results in the HTML format (and visualization in the jupyter notebook panel)\n",
    "network.show(\"class_list1.html\")"
   ]
  },
  {
   "cell_type": "code",
   "execution_count": 568,
   "id": "9eef648b",
   "metadata": {},
   "outputs": [
    {
     "name": "stdout",
     "output_type": "stream",
     "text": [
      "{'A1': ['AA1', 'AB1', 'AA2', 'AB2'], 'AA1': ['AAA1', 'AAB1', 'AAA2', 'AAB2'], 'AAA1': ['AAAB1', 'AAAA2', 'AAAA1', 'AAAB2'], 'AAAA1': ['AAAAA2', 'AAAAB1', 'AAAAA1', 'AAAAB2'], 'AAAAA1': ['AAAAAB2', 'AAAAAA2', 'AAAAAA1', 'AAAAAB1'], 'AAAAB1': ['AAAABA1', 'AAAABA2', 'AAAABB1', 'AAAABB2'], 'AAAB1': ['AAABA1', 'AAABB2', 'AAABB1', 'AAABA2'], 'AAABA1': ['AAABAB2', 'AAABAA2', 'AAABAB1', 'AAABAA1'], 'AAABB1': ['AAABBA1', 'AAABBB1', 'AAABBB2', 'AAABBA2'], 'AAB1': ['AABB2', 'AABA2', 'AABA1', 'AABB1'], 'AABA1': ['AABAB1', 'AABAA2', 'AABAB2', 'AABAA1'], 'AABAA1': ['AABAAB1', 'AABAAB2', 'AABAAA2', 'AABAAA1'], 'AABAB1': ['AABABA1', 'AABABB2', 'AABABB1', 'AABABA2'], 'AABB1': ['AABBB1', 'AABBA1', 'AABBA2', 'AABBB2'], 'AABBA1': ['AABBAA2', 'AABBAB2', 'AABBAB1', 'AABBAA1'], 'AABBB1': ['AABBBA1', 'AABBBA2', 'AABBBB1', 'AABBBB2'], 'AB1': ['ABA1', 'ABB1', 'ABA2', 'ABB2'], 'ABA1': ['ABAB1', 'ABAA2', 'ABAB2', 'ABAA1'], 'ABAA1': ['ABAAA1', 'ABAAB2', 'ABAAB1', 'ABAAA2'], 'ABAAA1': ['ABAAAA1', 'ABAAAB1', 'ABAAAA2', 'ABAAAB2'], 'ABAAB1': ['ABAABA2', 'ABAABB1', 'ABAABB2', 'ABAABA1'], 'ABAB1': ['ABABA2', 'ABABA1', 'ABABB2', 'ABABB1'], 'ABABA1': ['ABABAA1', 'ABABAB2', 'ABABAB1', 'ABABAA2'], 'ABABB1': ['ABABBB2', 'ABABBB1', 'ABABBA1', 'ABABBA2'], 'ABB1': ['ABBA1', 'ABBA2', 'ABBB2', 'ABBB1'], 'ABBA1': ['ABBAB1', 'ABBAB2', 'ABBAA1', 'ABBAA2'], 'ABBAA1': ['ABBAAB1', 'ABBAAA2', 'ABBAAA1', 'ABBAAB2'], 'ABBAB1': ['ABBABA2', 'ABBABB2', 'ABBABB1', 'ABBABA1'], 'ABBB1': ['ABBBA1', 'ABBBB1', 'ABBBA2', 'ABBBB2'], 'ABBBA1': ['ABBBAB1', 'ABBBAA2', 'ABBBAB2', 'ABBBAA1'], 'ABBBB1': ['ABBBBA2', 'ABBBBB2', 'ABBBBB1', 'ABBBBA1']}\n"
     ]
    }
   ],
   "source": [
    "# completed version of making a network of class nodes\n",
    "\n",
    "Nd=2\n",
    "Sd=3\n",
    "\n",
    "def dictMerge(d1,d2):\n",
    "    d1c=d1.copy()\n",
    "    d2c=d2.copy()\n",
    "    cKey=list(set(list(d1c.keys()))&set(list(d2c.keys())))\n",
    "    for key in cKey:\n",
    "        tmpL=d1c[key]+d2c[key]\n",
    "        d2c[key]=list(set(tmpL))\n",
    "    d1c.update(d2c)\n",
    "    return(d1c)\n",
    "\n",
    "def genTree(S):\n",
    "    Nkey = re.search(r'\\d+', S)\n",
    "    Skey = re.search(r'[a-zA-Z]+', S)\n",
    "    if len(S)>=7:\n",
    "        return({})\n",
    "    else:\n",
    "        numK=int(Nkey.group())\n",
    "#         numK=numK+1\n",
    "        strK=Skey.group()\n",
    "        strKn=ord(strK[-1])+1\n",
    "        strK_pre=strK\n",
    "        strK=chr(strKn)\n",
    "        res=[strK+'1']\n",
    "        res={}\n",
    "        listT=[]\n",
    "#         Nd_tmp=np.random.randint(Nd)+1\n",
    "#         Sd_tmp=np.random.randint(Sd)+1\n",
    "        Nd_tmp=Nd\n",
    "        Sd_tmp=Sd\n",
    "        \n",
    "#         paramR=np.random.randint(Sd,size=[Nd_tmp,Sd_tmp])\n",
    "        paramR=np.array([[0,1],[0,1]])\n",
    "        for k in range(len(paramR)):\n",
    "            tmpS=[chr(ord('A')+d)+str(k+1) for d in list(set(paramR[k]))]\n",
    "            for d in tmpS:\n",
    "                res=dictMerge(res,genTree(strK_pre+d))\n",
    "                listT=listT+[strK_pre+d]\n",
    "        \n",
    "        d0={}\n",
    "        if numK==1:\n",
    "            d0[S]=listT\n",
    "        resD=dictMerge(d0,res)\n",
    "        return(resD)\n",
    "\n",
    "outDict=genTree('A1')\n",
    "print(outDict)"
   ]
  },
  {
   "cell_type": "code",
   "execution_count": 552,
   "id": "28449199",
   "metadata": {},
   "outputs": [
    {
     "data": {
      "text/plain": [
       "['A1', 'AA1', 'AAA1', 'AAB1', 'AB1', 'ABA1', 'ABB1']"
      ]
     },
     "execution_count": 552,
     "metadata": {},
     "output_type": "execute_result"
    }
   ],
   "source": [
    "keyList"
   ]
  },
  {
   "cell_type": "code",
   "execution_count": 569,
   "id": "e6e8c643",
   "metadata": {},
   "outputs": [
    {
     "name": "stdout",
     "output_type": "stream",
     "text": [
      "Local cdn resources have problems on chrome/safari when used in jupyter-notebook. \n"
     ]
    },
    {
     "data": {
      "text/html": [
       "\n",
       "        <iframe\n",
       "            width=\"1000px\"\n",
       "            height=\"500px\"\n",
       "            src=\"class_list2.html\"\n",
       "            frameborder=\"0\"\n",
       "            allowfullscreen\n",
       "            \n",
       "        ></iframe>\n",
       "        "
      ],
      "text/plain": [
       "<IPython.lib.display.IFrame at 0x21657f490>"
      ]
     },
     "execution_count": 569,
     "metadata": {},
     "output_type": "execute_result"
    }
   ],
   "source": [
    "nodeSize=10\n",
    "conWidth=2\n",
    "\n",
    "network = Network(\n",
    "    height=\"500px\",  # default param = 500px\n",
    "    width=\"1000px\",  # default param = 500px\n",
    "    notebook=True,  # For jupyter notebook, it should be True\n",
    "    bgcolor=\"rgb(255,255,255)\",  # default color = \"#ffffff\" \"rgb(255,255,255)\"\n",
    "    directed=True,   # directional graph = True, non- directinal graph = False\n",
    ")\n",
    "str2num=lambda S: [ord(d)-ord('A')+1 if not(str.isdecimal(d)) else int(d) for d in S ]\n",
    "\n",
    "all_Item=list(set(list(outDict.keys())+sum(outDict.values(), [])))\n",
    "\n",
    "keyList=list(outDict.keys())\n",
    "for k in range(len(all_Item)):\n",
    "    nd= int(\"\".join(map(str, str2num(all_Item[k]))))\n",
    "    network.add_node(n_id=nd,label=all_Item[k], shape=\"box\",size=nodeSize)\n",
    "    \n",
    "for k in range(len(outDict)):\n",
    "    nodeMn= int(\"\".join(map(str, str2num(keyList[k]))))\n",
    "#     print(keyList[k])\n",
    "    nodeS=outDict[keyList[k]]\n",
    "#     print(nodeS)\n",
    "    nodeSn=[ int(\"\".join(map(str, str2num(d)))) for d in nodeS]\n",
    "#     print(nodeSn)\n",
    "    for j in range(len(nodeSn)):\n",
    "        network.add_edge(nodeMn,nodeSn[j], width=conWidth,smooth=\"dynamic\")\n",
    "\n",
    "# output the results in the HTML format (and visualization in the jupyter notebook panel)\n",
    "network.show(\"class_list2.html\")"
   ]
  },
  {
   "cell_type": "code",
   "execution_count": null,
   "id": "edc989b9",
   "metadata": {},
   "outputs": [],
   "source": []
  },
  {
   "cell_type": "code",
   "execution_count": 461,
   "id": "b0e28383",
   "metadata": {},
   "outputs": [
    {
     "name": "stdout",
     "output_type": "stream",
     "text": [
      "{'t1': 50, 't2': 2, 't3': 2, 't4': 5}\n",
      "['t1']\n"
     ]
    }
   ],
   "source": [
    "dict1 = {'t1': 1, 't2': 2}\n",
    "dict2 = {'t1': 50, 't3': 2, 't4': 5}\n",
    "\n",
    "cKey=list(set(list(dict1.keys()))&set(list(dict2.keys())))\n",
    "\n",
    "dict1.update(dict2)\n",
    "print(dict1)\n",
    "\n",
    "print(cKey)\n"
   ]
  },
  {
   "cell_type": "code",
   "execution_count": 480,
   "id": "fa104a5e",
   "metadata": {},
   "outputs": [
    {
     "name": "stdout",
     "output_type": "stream",
     "text": [
      "{'t1': [1], 't2': [2]}\n",
      "{'t1': [50], 't3': [2], 't4': [5]}\n",
      "{'t1': [1, 50], 't2': [2], 't3': [2], 't4': [5]}\n"
     ]
    }
   ],
   "source": [
    "def dictMerge(d1,d2):\n",
    "    d1c=d1.copy()\n",
    "    d2c=d2.copy()\n",
    "    cKey=list(set(list(d1c.keys()))&set(list(d2c.keys())))\n",
    "    for key in cKey:\n",
    "        d2c[key]=d1c[key]+d2c[key]\n",
    "    d1c.update(d2c)\n",
    "    return(d1c)\n",
    "\n",
    "dict1 = {'t1': [1], 't2': [2]}\n",
    "dict2 = {'t1': [50], 't3':[2] , 't4': [5]}\n",
    "\n",
    "dict3=dictMerge(dict1,dict2)\n",
    "\n",
    "print(dict1)\n",
    "print(dict2)\n",
    "print(dict3)\n"
   ]
  },
  {
   "cell_type": "code",
   "execution_count": 484,
   "id": "6bbc2757",
   "metadata": {},
   "outputs": [
    {
     "name": "stdout",
     "output_type": "stream",
     "text": [
      "{'t1': ['']}\n",
      "{'t1': ['']}\n",
      "{'t1': ['', '']}\n"
     ]
    }
   ],
   "source": [
    "def dictMerge(d1,d2):\n",
    "    d1c=d1.copy()\n",
    "    d2c=d2.copy()\n",
    "    cKey=list(set(list(d1c.keys()))&set(list(d2c.keys())))\n",
    "    for key in cKey:\n",
    "        d2c[key]=d1c[key]+d2c[key]\n",
    "    d1c.update(d2c)\n",
    "    return(d1c)\n",
    "\n",
    "dict1 = {'t1': ['']}\n",
    "dict2 = {'t1': ['']}\n",
    "\n",
    "dict3=dictMerge(dict1,dict2)\n",
    "\n",
    "print(dict1)\n",
    "print(dict2)\n",
    "print(dict3)\n"
   ]
  },
  {
   "cell_type": "code",
   "execution_count": 394,
   "id": "b34f3ea8",
   "metadata": {},
   "outputs": [
    {
     "name": "stdout",
     "output_type": "stream",
     "text": [
      "[[0 1]]\n",
      "['A1', 'B1']\n",
      "BA1\n",
      "BB1\n"
     ]
    }
   ],
   "source": [
    "strK='B'\n",
    "paramR=np.array([[0,1]])\n",
    "print(paramR)\n",
    "for k in range(len(paramR)):\n",
    "    tmpS=[chr(ord('A')+d)+str(k+1) for d in paramR[k]]\n",
    "#             print(k)\n",
    "#             print(paramR[k])\n",
    "    print(tmpS)\n",
    "    for d in tmpS:\n",
    "        print(strK+d)\n",
    "#         res=res+genTree(strK+d)"
   ]
  },
  {
   "cell_type": "code",
   "execution_count": 510,
   "id": "eedc4c29",
   "metadata": {},
   "outputs": [
    {
     "name": "stdout",
     "output_type": "stream",
     "text": [
      "Local cdn resources have problems on chrome/safari when used in jupyter-notebook. \n"
     ]
    },
    {
     "data": {
      "text/html": [
       "\n",
       "        <iframe\n",
       "            width=\"450px\"\n",
       "            height=\"350px\"\n",
       "            src=\"pyvis_sample1.html\"\n",
       "            frameborder=\"0\"\n",
       "            allowfullscreen\n",
       "            \n",
       "        ></iframe>\n",
       "        "
      ],
      "text/plain": [
       "<IPython.lib.display.IFrame at 0x216573ee0>"
      ]
     },
     "execution_count": 510,
     "metadata": {},
     "output_type": "execute_result"
    }
   ],
   "source": [
    "from pyvis.network import Network\n",
    "\n",
    "# network instance generation \n",
    "network = Network(\n",
    "    height=\"350px\",  # default param = 500px\n",
    "    width=\"450px\",  # default param = 500px\n",
    "    notebook=True,  # For jupyter notebook, it should be True\n",
    "    bgcolor=\"rgb(255,255,255)\",  # default color = \"#ffffff\" \"rgb(0,0,0)\"\n",
    "    directed=True,   # directional graph = True, non- directinal graph = False\n",
    ")\n",
    "\n",
    "# Node increment \"add_node\"\n",
    "# \"label\"  is not necessary. It will be the same as ID if there is no setting \n",
    "network.add_node(n_id=1, label=\"1\", shape=\"triangle\",size=10)\n",
    "network.add_node(n_id=2, label=\"2\", shape=\"circle\", color=\"rgb(255,170,170)\", size=10, labelHighlightBold=True)\n",
    "network.add_node(n_id=3, label=\"3\", shape=\"box\")\n",
    "network.add_node(n_id=4, label=\"4\", shape=\"circle\")  # default shape  = \"dot\" \n",
    "network.add_node(n_id=5, label=\"5\", shape=\"circle\")  # default shape  = \"dot\" \n",
    "\n",
    "#  connecting nodes by \"add_edge\" \n",
    "network.add_edge(1, 2)\n",
    "network.add_edge(2, 4, width=2)  # \"width\" determines the size of the object\n",
    "network.add_edge(3, 4, smooth=\"dynamic\")  # \"smooth\" changes the corners smoothly \n",
    "network.add_edge(4, 3, smooth=\"dynamic\")  # setting is updated if it is a bi-directional\n",
    "# network.add_edge(3, 4, smooth=\"straightCross\")  # \"smooth\" changes the corners smoothly \n",
    "# network.add_edge(4, 3, smooth=\"straightCross\")  # setting is updated if it is a bi-directional\n",
    "network.add_edge(5, 2)\n",
    "\n",
    "# output the results in the HTML format (and visualization in the jupyter notebook panel)\n",
    "network.show(\"pyvis_sample1.html\")"
   ]
  },
  {
   "cell_type": "code",
   "execution_count": 511,
   "id": "dbfb8daf",
   "metadata": {},
   "outputs": [
    {
     "name": "stdout",
     "output_type": "stream",
     "text": [
      "Local cdn resources have problems on chrome/safari when used in jupyter-notebook. \n"
     ]
    },
    {
     "data": {
      "text/html": [
       "\n",
       "        <iframe\n",
       "            width=\"500px\"\n",
       "            height=\"500px\"\n",
       "            src=\"hierarchical1.html\"\n",
       "            frameborder=\"0\"\n",
       "            allowfullscreen\n",
       "            \n",
       "        ></iframe>\n",
       "        "
      ],
      "text/plain": [
       "<IPython.lib.display.IFrame at 0x2167235b0>"
      ]
     },
     "execution_count": 511,
     "metadata": {},
     "output_type": "execute_result"
    }
   ],
   "source": [
    "nodeSize=10\n",
    "conWidth=2\n",
    "\n",
    "network = Network(\n",
    "    height=\"500px\",  # default param = 500px\n",
    "    width=\"500px\",  # default param = 500px\n",
    "    notebook=True,  # For jupyter notebook, it should be True\n",
    "    bgcolor=\"rgb(255,255,255)\",  # default color = \"#ffffff\" \"rgb(255,255,255)\"\n",
    "    directed=True,   # directional graph = True, non- directinal graph = False\n",
    ")\n",
    "\n",
    "# Node increment \"add_node\"\n",
    "# \"label\"  is not necessary. It will be the same as ID if there is no setting \n",
    "network.add_node(n_id=0, level=1,label=\"root\", shape=\"box\",size=nodeSize*10)\n",
    "network.add_node(n_id=1, level=1,label=\"A\", shape=\"box\",size=nodeSize)\n",
    "network.add_node(n_id=2, level=1,label=\"B\", shape=\"box\",size=nodeSize)\n",
    "network.add_node(n_id=3, level=1,label=\"C\", shape=\"box\",size=nodeSize)\n",
    "\n",
    "network.add_node(n_id=11, level=2,label=\"AA\", shape=\"box\",size=nodeSize)\n",
    "network.add_node(n_id=21, level=2,label=\"BA\", shape=\"box\",size=nodeSize)\n",
    "network.add_node(n_id=22, level=2,label=\"BB\", shape=\"box\",size=nodeSize)\n",
    "network.add_node(n_id=31, level=2,label=\"CA\", shape=\"box\",size=nodeSize)\n",
    "\n",
    "network.add_node(n_id=111, level=3,label=\"AAA\", shape=\"box\",size=nodeSize)\n",
    "network.add_node(n_id=221, level=3,label=\"BBA\", shape=\"box\",size=nodeSize)\n",
    "\n",
    "network.add_edge(0,1, width=conWidth,smooth=\"dynamic\")\n",
    "network.add_edge(0,2, width=conWidth,smooth=\"dynamic\")\n",
    "network.add_edge(0,3, width=conWidth,smooth=\"dynamic\")\n",
    "\n",
    "network.add_edge(1,11, width=conWidth)\n",
    "network.add_edge(2, 21, width=conWidth)\n",
    "network.add_edge(2, 22, width=conWidth)\n",
    "network.add_edge(3,31, width=conWidth)\n",
    "network.add_edge(11,111, width=conWidth)\n",
    "network.add_edge(22, 221, width=conWidth)\n",
    "\n",
    "# output the results in the HTML format (and visualization in the jupyter notebook panel)\n",
    "network.show(\"hierarchical1.html\")"
   ]
  },
  {
   "cell_type": "code",
   "execution_count": 244,
   "id": "6af7f182",
   "metadata": {},
   "outputs": [
    {
     "data": {
      "text/plain": [
       "[{'color': '#97c2fc',\n",
       "  'level': 1,\n",
       "  'size': 100,\n",
       "  'id': 0,\n",
       "  'label': 'root',\n",
       "  'shape': 'box'},\n",
       " {'color': '#97c2fc',\n",
       "  'level': 1,\n",
       "  'size': 10,\n",
       "  'id': 1,\n",
       "  'label': 'A',\n",
       "  'shape': 'box'},\n",
       " {'color': '#97c2fc',\n",
       "  'level': 1,\n",
       "  'size': 10,\n",
       "  'id': 2,\n",
       "  'label': 'B',\n",
       "  'shape': 'box'},\n",
       " {'color': '#97c2fc',\n",
       "  'level': 1,\n",
       "  'size': 10,\n",
       "  'id': 3,\n",
       "  'label': 'C',\n",
       "  'shape': 'box'},\n",
       " {'color': '#97c2fc',\n",
       "  'level': 2,\n",
       "  'size': 10,\n",
       "  'id': 11,\n",
       "  'label': 'AA',\n",
       "  'shape': 'box'},\n",
       " {'color': '#97c2fc',\n",
       "  'level': 2,\n",
       "  'size': 10,\n",
       "  'id': 21,\n",
       "  'label': 'BA',\n",
       "  'shape': 'box'},\n",
       " {'color': '#97c2fc',\n",
       "  'level': 2,\n",
       "  'size': 10,\n",
       "  'id': 22,\n",
       "  'label': 'BB',\n",
       "  'shape': 'box'},\n",
       " {'color': '#97c2fc',\n",
       "  'level': 2,\n",
       "  'size': 10,\n",
       "  'id': 31,\n",
       "  'label': 'CA',\n",
       "  'shape': 'box'},\n",
       " {'color': '#97c2fc',\n",
       "  'level': 3,\n",
       "  'size': 10,\n",
       "  'id': 111,\n",
       "  'label': 'AAA',\n",
       "  'shape': 'box'},\n",
       " {'color': '#97c2fc',\n",
       "  'level': 3,\n",
       "  'size': 10,\n",
       "  'id': 221,\n",
       "  'label': 'BBA',\n",
       "  'shape': 'box'}]"
      ]
     },
     "execution_count": 244,
     "metadata": {},
     "output_type": "execute_result"
    }
   ],
   "source": [
    "network.nodes"
   ]
  },
  {
   "cell_type": "code",
   "execution_count": null,
   "id": "5d99af99",
   "metadata": {},
   "outputs": [],
   "source": []
  },
  {
   "cell_type": "code",
   "execution_count": 289,
   "id": "1a62d174",
   "metadata": {},
   "outputs": [
    {
     "name": "stdout",
     "output_type": "stream",
     "text": [
      "Local cdn resources have problems on chrome/safari when used in jupyter-notebook. \n"
     ]
    },
    {
     "data": {
      "text/html": [
       "\n",
       "        <iframe\n",
       "            width=\"500px\"\n",
       "            height=\"500px\"\n",
       "            src=\"output_nx_network1.html\"\n",
       "            frameborder=\"0\"\n",
       "            allowfullscreen\n",
       "            \n",
       "        ></iframe>\n",
       "        "
      ],
      "text/plain": [
       "<IPython.lib.display.IFrame at 0x2164fc040>"
      ]
     },
     "execution_count": 289,
     "metadata": {},
     "output_type": "execute_result"
    }
   ],
   "source": [
    "import networkx as nx\n",
    "\n",
    "Graph1 = nx.DiGraph()\n",
    "nx.add_path(Graph1, [2,4, 3, 1, 0, 3, 8, 7, 6, 9])  # 2→ 4→ 3→ 1→ 0→ 3→ 8→ 7→ 6→  9\n",
    "nx.add_path(Graph1, [4, 0, 5, 3, 1, 6, 2, 8, 9, 4])  # 4→ 0→ 5→ 3→ 1→ 6→ 2→ 8→ 9→ 4\n",
    "\n",
    "network1 = Network(\n",
    "    height=\"500px\",  # default param = 500px\n",
    "    width=\"500px\",  # default param = 500px\n",
    "    notebook=True,  # For jupyter notebook, it should be True\n",
    "    bgcolor=\"rgb(255,255,255)\",  # default color = \"#ffffff\" \"rgb(255,255,255)\"\n",
    "    directed=True,   # directional graph = True, non- directinal graph = False\n",
    ")\n",
    "\n",
    "network1.from_nx(Graph1)\n",
    "\n",
    "for k in range(len(network.nodes)):\n",
    "    tmpN=network1.nodes[k]['label']\n",
    "    network1.nodes[k]['label']=str(tmpN)\n",
    "    network1.nodes[k]['shape']='box'\n",
    "    network1.nodes[k]['color']='#eeeeff'\n",
    "    \n",
    "network1.show(\"output_nx_network1.html\")"
   ]
  },
  {
   "cell_type": "code",
   "execution_count": 254,
   "id": "3fbab139",
   "metadata": {},
   "outputs": [
    {
     "name": "stdout",
     "output_type": "stream",
     "text": [
      "Local cdn resources have problems on chrome/safari when used in jupyter-notebook. \n"
     ]
    },
    {
     "data": {
      "text/html": [
       "\n",
       "        <iframe\n",
       "            width=\"100%\"\n",
       "            height=\"100%\"\n",
       "            src=\"output_network.html\"\n",
       "            frameborder=\"0\"\n",
       "            allowfullscreen\n",
       "            \n",
       "        ></iframe>\n",
       "        "
      ],
      "text/plain": [
       "<IPython.lib.display.IFrame at 0x216433c10>"
      ]
     },
     "execution_count": 254,
     "metadata": {},
     "output_type": "execute_result"
    }
   ],
   "source": [
    "# https://stackoverflow.com/questions/72819127/pyvis-hierarchical-layout-not-displaying-correctly-when-many-edges-are-added\n",
    "\n",
    "from pyvis.network import Network\n",
    "import networkx as nx\n",
    "import matplotlib.pyplot as plt\n",
    "\n",
    "ddd = {'a', 'b', 'c'}\n",
    "ccc = {'p', 'q', 'r'}\n",
    "yyy = {'x', 'y', 'z'}\n",
    "edge_list_tuples = [('a', 'q'), ('b', 'p'), ('b', 'q'), ('p', 'y'), ('r', 'y'), ('r', 'z'), ('x', 'x')]\n",
    "g = nx.Graph()\n",
    "pyvs = Network(notebook=True, height = \"100%\", width = \"100%\", layout=True)\n",
    "\n",
    "g.add_nodes_from(yyy, bipartite=\"yy\")\n",
    "g.add_nodes_from(ccc, bipartite=\"cc\")\n",
    "g.add_nodes_from(ddd, bipartite=\"dd\")\n",
    "g.add_edges_from(edge_list_tuples)\n",
    "\n",
    "color_map = nx.get_node_attributes(g, \"bipartite\")\n",
    "\n",
    "for key in color_map:\n",
    "    if color_map[key] == \"dd\":\n",
    "        color_map[key] = \"yellow\"\n",
    "        lvl = 3\n",
    "    if color_map[key] == \"cc\":\n",
    "        color_map[key] = \"green\"\n",
    "        lvl = 2\n",
    "    if color_map[key] == \"yy\":\n",
    "        color_map[key] = \"blue\"\n",
    "        lvl = 1\n",
    "    pyvs.add_node(key, color=color_map[key], level=lvl)\n",
    "\n",
    "pyvs.add_edges(g.edges()) # The nodes should exist. Unlike in networkx. \n",
    "pyvs.show_buttons(filter_=['physics'])\n",
    "pyvs.show(\"output_network.html\")"
   ]
  },
  {
   "cell_type": "code",
   "execution_count": 275,
   "id": "d716437d",
   "metadata": {},
   "outputs": [
    {
     "data": {
      "text/html": [
       "\n",
       "        <iframe\n",
       "            width=\"500px\"\n",
       "            height=\"500px\"\n",
       "            src=\"output_network2.html\"\n",
       "            frameborder=\"0\"\n",
       "            allowfullscreen\n",
       "            \n",
       "        ></iframe>\n",
       "        "
      ],
      "text/plain": [
       "<IPython.lib.display.IFrame at 0x216336d90>"
      ]
     },
     "execution_count": 275,
     "metadata": {},
     "output_type": "execute_result"
    }
   ],
   "source": [
    "network.nodes\n",
    "for k in range(len(network.nodes)):\n",
    "    network.nodes[k]['label']=str(k)\n",
    "network.show(\"output_network2.html\")"
   ]
  },
  {
   "cell_type": "code",
   "execution_count": 271,
   "id": "b74e9f9f",
   "metadata": {},
   "outputs": [
    {
     "data": {
      "text/plain": [
       "'#97c2fc'"
      ]
     },
     "execution_count": 271,
     "metadata": {},
     "output_type": "execute_result"
    }
   ],
   "source": [
    "s1={'color': '#97c2fc', 'size': 10, 'id': 3, 'label': \"3\", 'shape': 'dot'}\n",
    "s1['color']"
   ]
  },
  {
   "cell_type": "code",
   "execution_count": 273,
   "id": "33eafe5a",
   "metadata": {},
   "outputs": [
    {
     "data": {
      "text/plain": [
       "'3'"
      ]
     },
     "execution_count": 273,
     "metadata": {},
     "output_type": "execute_result"
    }
   ],
   "source": [
    "network.nodes[0]['label']"
   ]
  },
  {
   "cell_type": "code",
   "execution_count": 268,
   "id": "ce1d02fe",
   "metadata": {},
   "outputs": [
    {
     "data": {
      "text/html": [
       "\n",
       "        <iframe\n",
       "            width=\"500px\"\n",
       "            height=\"500px\"\n",
       "            src=\"output_network2.html\"\n",
       "            frameborder=\"0\"\n",
       "            allowfullscreen\n",
       "            \n",
       "        ></iframe>\n",
       "        "
      ],
      "text/plain": [
       "<IPython.lib.display.IFrame at 0x21647efd0>"
      ]
     },
     "execution_count": 268,
     "metadata": {},
     "output_type": "execute_result"
    }
   ],
   "source": [
    "network.nodes[0]={'color': '#97c2fc', 'size': 10, 'id': 3, 'label': \"3\", 'shape': 'dot'}\n",
    "network.show(\"output_network2.html\")"
   ]
  }
 ],
 "metadata": {
  "kernelspec": {
   "display_name": "Python 3 (ipykernel)",
   "language": "python",
   "name": "python3"
  },
  "language_info": {
   "codemirror_mode": {
    "name": "ipython",
    "version": 3
   },
   "file_extension": ".py",
   "mimetype": "text/x-python",
   "name": "python",
   "nbconvert_exporter": "python",
   "pygments_lexer": "ipython3",
   "version": "3.9.16"
  }
 },
 "nbformat": 4,
 "nbformat_minor": 5
}
