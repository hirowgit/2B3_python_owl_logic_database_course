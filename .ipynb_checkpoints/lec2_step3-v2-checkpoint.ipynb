{
 "cells": [
  {
   "cell_type": "code",
   "execution_count": null,
   "id": "2962698f",
   "metadata": {},
   "outputs": [],
   "source": [
    "## Python course for data scientists in a moderate level, supported by Wagatsuma Lab@Kyutech \n",
    "#\n",
    "# The MIT License (MIT): Copyright (c) 2022 Hiroaki Wagatsuma and Wagatsuma Lab@Kyutech\n",
    "# \n",
    "# Permission is hereby granted, free of charge, to any person obtaining a copy of this software and associated documentation files (the \"Software\"), to deal in the Software without restriction, including without limitation the rights to use, copy, modify, merge, publish, distribute, sublicense, and/or sell copies of the Software, and to permit persons to whom the Software is furnished to do so, subject to the following conditions:\n",
    "# The above copyright notice and this permission notice shall be included in all copies or substantial portions of the Software.\n",
    "# THE SOFTWARE IS PROVIDED \"AS IS\", WITHOUT WARRANTY OF ANY KIND, EXPRESS OR IMPLIED, INCLUDING BUT NOT LIMITED TO THE WARRANTIES OF MERCHANTABILITY, FITNESS FOR A PARTICULAR PURPOSE AND NONINFRINGEMENT. IN NO EVENT SHALL THE AUTHORS OR COPYRIGHT HOLDERS BE LIABLE FOR ANY CLAIM, DAMAGES OR OTHER LIABILITY, WHETHER IN AN ACTION OF CONTRACT, TORT OR OTHERWISE, ARISING FROM, OUT OF OR IN CONNECTION WITH THE SOFTWARE OR THE USE OR OTHER DEALINGS IN THE SOFTWARE. */\n",
    "#\n",
    "# # @Time    : 2023-02-03 \n",
    "# # @Author  : Hiroaki Wagatsuma\n",
    "# # @Site    : https://github.com/hirowgit/2B3_python_owl_logic_database_course\n",
    "# # @IDE     : Python 3.9.16 (main, Dec  7 2022, 10:15:43) [Clang 14.0.0 (clang-1400.0.29.202)] on darwin\n",
    "# # @File    : lec2_step3.py \n"
   ]
  },
  {
   "cell_type": "code",
   "execution_count": 1,
   "id": "8e1bbb09",
   "metadata": {},
   "outputs": [],
   "source": [
    "import numpy as np\n",
    "import re\n",
    "from pyvis.network import Network\n",
    "import networkx as nx\n",
    "import matplotlib.pyplot as plt"
   ]
  },
  {
   "cell_type": "code",
   "execution_count": 16,
   "id": "f7763fa9",
   "metadata": {},
   "outputs": [
    {
     "name": "stdout",
     "output_type": "stream",
     "text": [
      "{'A1': ['AA1', 'AB1', 'AA2', 'AB2'], 'AA1': ['AAA1', 'AAB1', 'AAA2', 'AAB2'], 'AAA1': ['AAAB2', 'AAAB1', 'AAAA2', 'AAAA1'], 'AAAA1': ['AAAAA1', 'AAAAB1', 'AAAAB2', 'AAAAA2'], 'AAAAA1': ['AAAAAB2', 'AAAAAA2', 'AAAAAB1', 'AAAAAA1'], 'AAAAB1': ['AAAABB2', 'AAAABA2', 'AAAABB1', 'AAAABA1'], 'AAAB1': ['AAABB2', 'AAABB1', 'AAABA1', 'AAABA2'], 'AAABA1': ['AAABAB2', 'AAABAB1', 'AAABAA1', 'AAABAA2'], 'AAABB1': ['AAABBA2', 'AAABBB1', 'AAABBA1', 'AAABBB2'], 'AAB1': ['AABA1', 'AABA2', 'AABB1', 'AABB2'], 'AABA1': ['AABAA1', 'AABAA2', 'AABAB1', 'AABAB2'], 'AABAA1': ['AABAAB2', 'AABAAB1', 'AABAAA2', 'AABAAA1'], 'AABAB1': ['AABABA2', 'AABABB2', 'AABABA1', 'AABABB1'], 'AABB1': ['AABBA2', 'AABBB1', 'AABBB2', 'AABBA1'], 'AABBA1': ['AABBAA2', 'AABBAA1', 'AABBAB2', 'AABBAB1'], 'AABBB1': ['AABBBA1', 'AABBBA2', 'AABBBB1', 'AABBBB2'], 'AB1': ['ABA1', 'ABB1', 'ABA2', 'ABB2'], 'ABA1': ['ABAB1', 'ABAB2', 'ABAA2', 'ABAA1'], 'ABAA1': ['ABAAA2', 'ABAAB2', 'ABAAA1', 'ABAAB1'], 'ABAAA1': ['ABAAAA2', 'ABAAAB2', 'ABAAAB1', 'ABAAAA1'], 'ABAAB1': ['ABAABA1', 'ABAABA2', 'ABAABB1', 'ABAABB2'], 'ABAB1': ['ABABA2', 'ABABB2', 'ABABA1', 'ABABB1'], 'ABABA1': ['ABABAA2', 'ABABAB1', 'ABABAA1', 'ABABAB2'], 'ABABB1': ['ABABBA1', 'ABABBB1', 'ABABBA2', 'ABABBB2'], 'ABB1': ['ABBB1', 'ABBA1', 'ABBB2', 'ABBA2'], 'ABBA1': ['ABBAB1', 'ABBAA2', 'ABBAA1', 'ABBAB2'], 'ABBAA1': ['ABBAAB1', 'ABBAAA2', 'ABBAAA1', 'ABBAAB2'], 'ABBAB1': ['ABBABB1', 'ABBABA1', 'ABBABB2', 'ABBABA2'], 'ABBB1': ['ABBBA1', 'ABBBB1', 'ABBBA2', 'ABBBB2'], 'ABBBA1': ['ABBBAB2', 'ABBBAA1', 'ABBBAA2', 'ABBBAB1'], 'ABBBB1': ['ABBBBA1', 'ABBBBA2', 'ABBBBB2', 'ABBBBB1']}\n"
     ]
    }
   ],
   "source": [
    "# completed version of making a network of class nodes\n",
    "\n",
    "Nd=2\n",
    "Sd=3\n",
    "\n",
    "def dictMerge(d1,d2):\n",
    "    d1c=d1.copy()\n",
    "    d2c=d2.copy()\n",
    "    cKey=list(set(list(d1c.keys()))&set(list(d2c.keys())))\n",
    "    for key in cKey:\n",
    "        tmpL=d1c[key]+d2c[key]\n",
    "        d2c[key]=list(set(tmpL))\n",
    "    d1c.update(d2c)\n",
    "    return(d1c)\n",
    "\n",
    "def genTree(S):\n",
    "    Nkey = re.search(r'\\d+', S)\n",
    "    Skey = re.search(r'[a-zA-Z]+', S)\n",
    "    if len(S)>=7:\n",
    "        return({})\n",
    "    else:\n",
    "        numK=int(Nkey.group())\n",
    "#         numK=numK+1\n",
    "        strK=Skey.group()\n",
    "        strKn=ord(strK[-1])+1\n",
    "        strK_pre=strK\n",
    "        strK=chr(strKn)\n",
    "        res=[strK+'1']\n",
    "        res={}\n",
    "        listT=[]\n",
    "#         Nd_tmp=np.random.randint(Nd)+1\n",
    "#         Sd_tmp=np.random.randint(Sd)+1\n",
    "        Nd_tmp=Nd\n",
    "        Sd_tmp=Sd\n",
    "        \n",
    "#         paramR=np.random.randint(Sd,size=[Nd_tmp,Sd_tmp])\n",
    "        paramR=np.array([[0,1],[0,1]])\n",
    "        for k in range(len(paramR)):\n",
    "            tmpS=[chr(ord('A')+d)+str(k+1) for d in list(set(paramR[k]))]\n",
    "            for d in tmpS:\n",
    "                res=dictMerge(res,genTree(strK_pre+d))\n",
    "                listT=listT+[strK_pre+d]\n",
    "        \n",
    "        d0={}\n",
    "        if numK==1:\n",
    "            d0[S]=listT\n",
    "        resD=dictMerge(d0,res)\n",
    "        return(resD)\n",
    "\n",
    "outDict=genTree('A1')\n",
    "print(outDict)"
   ]
  },
  {
   "cell_type": "code",
   "execution_count": 28,
   "id": "83bab642",
   "metadata": {},
   "outputs": [
    {
     "name": "stdout",
     "output_type": "stream",
     "text": [
      "[ 13 100  50  56  23   8  60  31 121  89 121  95 117  97  10  32  90  85\n",
      "  31  80]\n",
      "[4, 7, 7, 6, 4, 5, 6, 6, 5, 5, 5, 6, 7, 6, 6, 7, 7, 7, 6, 7]\n",
      "['ABBABA1', 'AAAABA1', 'ABBBBB2', 'ABBBBB1', 'AAAAAA2', 'ABABAB2', 'ABBAAB1', 'AAABA1', 'AABBB1', 'ABBAB1', 'ABAAB1', 'ABABA1', 'ABABA1', 'AAAAB1', 'ABAB1', 'ABBA2', 'AAAA2', 'AAAA2', 'AAB2', 'AAA1']\n",
      "[7 7 7 7 7 7 7 6 6 6 6 6 6 6 5 5 5 5 4 4]\n",
      "(array([0, 1, 2, 3, 4, 5, 6]),)\n",
      "['ABBABA1' 'AAAABA1' 'ABBBBB2' 'ABBBBB1' 'AAAAAA2' 'ABABAB2' 'ABBAAB1']\n",
      "['AAABA1', 'AABBB1', 'ABBAB1', 'ABAAB1', 'ABABA1', 'ABABA1', 'AAAAB1', 'ABAB1', 'ABBA2', 'AAAA2', 'AAAA2', 'AAB2', 'AAA1']\n"
     ]
    }
   ],
   "source": [
    "rNd=20\n",
    "all_Item=list(set(list(outDict.keys())+sum(outDict.values(), [])))\n",
    "rLIst=np.random.randint(len(all_Item),size=rNd)\n",
    "print(rLIst)\n",
    "\n",
    "all_Item_np=np.array(all_Item)\n",
    "itemR_np=all_Item_np[rLIst]\n",
    "itemR=all_Item_np[rLIst].tolist()\n",
    "lenR=[len(d) for d in itemR]\n",
    "lenR_np=np.array(lenR)\n",
    "print(lenR)\n",
    "key = np.argsort(lenR) \n",
    "key2=key[::-1]\n",
    "sortedD_np=itemR_np[key2]\n",
    "sortedD=itemR_np[key2].tolist()\n",
    "sortedN=lenR_np[key2]\n",
    "\n",
    "maxN=max(lenR)\n",
    "topKey=np.where(sortedN==maxN)\n",
    "\n",
    "topL=sortedD_np[topKey]\n",
    "otherL=sortedD_np[topKey[0][-1]+1:].tolist()\n",
    "\n",
    "print(sortedD)\n",
    "print(sortedN)\n",
    "print(topKey)\n",
    "\n",
    "print(topL)\n",
    "print(otherL)\n",
    "# otherL"
   ]
  },
  {
   "cell_type": "code",
   "execution_count": 232,
   "id": "5963bb7f",
   "metadata": {},
   "outputs": [
    {
     "name": "stdout",
     "output_type": "stream",
     "text": [
      "[ 90 113 115  39  82  64  92 124 113 100  88 106  91  78  85  62  41 111\n",
      " 116 117  89  20   3  36  22 119   5  75  36  91 108  24  16  54  76 123\n",
      " 100  75  57  89]\n"
     ]
    }
   ],
   "source": [
    "rNd=40\n",
    "all_Item=list(set(list(outDict.keys())+sum(outDict.values(), [])))\n",
    "rLIst=np.random.randint(len(all_Item),size=rNd)\n",
    "print(all_Item)\n",
    "print(rLIst)"
   ]
  },
  {
   "cell_type": "code",
   "execution_count": 234,
   "id": "fdcaff7d",
   "metadata": {},
   "outputs": [
    {
     "name": "stdout",
     "output_type": "stream",
     "text": [
      "[  2  56  36   2  56  79 115  92   8   6  42  19  25 115 122  24  28  92\n",
      " 112  25  46  58  45  96   2 114  54  57 106  27  54 120 118  26  44  92\n",
      "  46  92  70  84]\n",
      "[7, 6, 6, 7, 6, 7, 7, 6, 5, 5, 7, 6, 7, 7, 7, 7, 2, 6, 4, 7, 7, 7, 6, 6, 7, 5, 7, 7, 7, 6, 7, 7, 5, 6, 7, 6, 7, 6, 6, 7]\n",
      "[2 1 1 1 1 2 1 1 1 1 1 1 1 1 1 2 1 1 1 3 3]\n",
      "[['A1', 'ABBBB1', 'ABBBBA2'], ['A1', 'ABBBAA1'], ['A1', 'AAAAAA1'], ['A1', 'ABBABB1'], ['A1', 'AAAAAB2'], ['A1', 'ABBBB1', 'ABBBBA1'], ['A1', 'AAABBB2'], ['A1', 'AAAAAB2'], ['A1', 'AABBAA2'], ['A1', 'ABAABA2'], ['A1', 'ABBBAA2'], ['A1', 'ABAABB2'], ['A1', 'AAAAAA1'], ['A1', 'AAABBB2'], ['A1', 'AAAAAA1'], ['AABA1', 'A1', 'AABABA2'], ['A1', 'ABBBAA2'], ['A1', 'ABBBAA1'], ['A1', 'ABBABB2'], ['AABA1', 'A1', 'AABAA1', 'AABAAA1'], ['AABA1', 'A1', 'AABAA1', 'AABAAA2']]\n",
      "['A1', 'ABBBB1', 'ABBBBA2', 'A1', 'ABBBAA1', 'A1', 'AAAAAA1', 'A1', 'ABBABB1', 'A1', 'AAAAAB2', 'A1', 'ABBBB1', 'ABBBBA1', 'A1', 'AAABBB2', 'A1', 'AAAAAB2', 'A1', 'AABBAA2', 'A1', 'ABAABA2', 'A1', 'ABBBAA2', 'A1', 'ABAABB2', 'A1', 'AAAAAA1', 'A1', 'AAABBB2', 'A1', 'AAAAAA1', 'AABA1', 'A1', 'AABABA2', 'A1', 'ABBBAA2', 'A1', 'ABBBAA1', 'A1', 'ABBABB2', 'AABA1', 'A1', 'AABAA1', 'AABAAA1', 'AABA1', 'A1', 'AABAA1', 'AABAAA2']\n",
      "---\n",
      "18\n",
      "210\n",
      "210\n",
      "210\n",
      "[2, 2, 2, 2, 6, 2, 2, 2, 2, 2, 2, 2, 2, 2, 2, 2, 2, 2, 2, 2, 2, 2, 2, 2, 2, 2, 2, 2, 2, 2, 2, 2, 2, 2, 2, 7, 2, 2, 2, 2, 2, 2, 2, 2, 2, 2, 2, 2, 7, 2, 7, 2, 2, 2, 2, 2, 2, 2, 2, 2, 2, 2, 2, 2, 2, 2, 2, 2, 2, 2, 2, 2, 2, 2, 2, 2, 7, 2, 2, 2, 2, 2, 2, 2, 2, 2, 2, 2, 2, 2, 2, 2, 2, 2, 2, 2, 2, 2, 2, 2, 2, 2, 2, 2, 2, 2, 2, 2, 2, 2, 2, 7, 2, 2, 2, 2, 2, 2, 2, 2, 2, 2, 2, 2, 2, 2, 2, 2, 2, 2, 2, 2, 2, 2, 2, 2, 2, 2, 2, 2, 2, 2, 2, 2, 2, 2, 2, 2, 2, 2, 2, 2, 2, 2, 2, 2, 2, 2, 2, 2, 7, 2, 2, 2, 2, 2, 2, 2, 2, 2, 2, 2, 2, 2, 2, 7, 2, 2, 2, 2, 2, 2, 2, 2, 2, 2, 2, 2, 2, 2, 2, 2, 2, 2, 2, 2, 2, 2, 5, 5, 2, 2, 2, 2, 2, 2, 2, 2, 2, 6]\n",
      "[5]\n",
      "[11]\n",
      "---\n",
      "0.6071428571428572\n"
     ]
    }
   ],
   "source": [
    "rNd=40\n",
    "all_Item=list(set(list(outDict.keys())+sum(outDict.values(), [])))\n",
    "rLIst=np.random.randint(len(all_Item),size=rNd)\n",
    "print(rLIst)\n",
    "\n",
    "all_Item_np=np.array(all_Item)\n",
    "itemR_np=all_Item_np[rLIst]\n",
    "itemR=all_Item_np[rLIst].tolist()\n",
    "lenR=[len(d) for d in itemR]\n",
    "lenR_np=np.array(lenR)\n",
    "print(lenR)\n",
    "key = np.argsort(lenR) \n",
    "key2=key[::-1]\n",
    "sortedD_np=itemR_np[key2]\n",
    "sortedD=itemR_np[key2].tolist()\n",
    "sortedN=lenR_np[key2]\n",
    "\n",
    "maxN=max(lenR)\n",
    "topKey=np.where(sortedN==maxN)\n",
    "\n",
    "topL=sortedD_np[topKey]\n",
    "otherL=sortedD_np[topKey[0][-1]+1:].tolist()\n",
    "\n",
    "maxN=max(lenR)\n",
    "\n",
    "backTraceNP=np.empty(len(topL),dtype=object)\n",
    "for k in range(len(topL)):\n",
    "    st=topL[k]\n",
    "    tmpL=[st]\n",
    "    Skeys = [key for key, val in outDict.items() if st in val]\n",
    "    while len(Skeys)>0:\n",
    "        tmpL=Skeys+tmpL\n",
    "        st=Skeys[0]\n",
    "        Skeys = [key for key, val in outDict.items() if st in val]\n",
    "    backTraceNP[k]=tmpL\n",
    "\n",
    "matchN=np.full(len(topL),0,dtype=int)\n",
    "matchN2=np.full(len(topL),0,dtype=int)\n",
    "boolP_full=np.empty(len(topL),dtype=object)\n",
    "matchL_full=np.empty(len(topL),dtype=object)\n",
    "    \n",
    "for k in range(len(topL)):\n",
    "    matchL=set(backTraceNP[k])&set(otherL)\n",
    "    boolP=np.full(len(backTraceNP[k]),False,dtype=bool)\n",
    "    for d1 in matchL:\n",
    "        key=np.where(np.array(backTraceNP[k]) ==d1)[0]\n",
    "        boolP[key]=True\n",
    "    boolP_full[k]=boolP    \n",
    "    matchL_full[k]=list(matchL)+[topL[k]]\n",
    "    matchN[k]=len(matchL)\n",
    "    matchN2[k]=len(backTraceNP[k])\n",
    "#     print(len(matchL))\n",
    "\n",
    "key=np.where(matchN>0)\n",
    "matchL_full2=matchL_full[key].tolist()    \n",
    "matchL_flat=sum(matchL_full2,[])\n",
    "print(matchN)\n",
    "print(matchL_full2)\n",
    "print(matchL_flat)\n",
    "print('---')\n",
    "mergeN=np.full([len(matchL_full2),len(matchL_full2)],0,dtype=int)\n",
    "mergeL=[]\n",
    "mergeL2=[]\n",
    "boolL2=[]\n",
    "# sflag=True\n",
    "lenL=[]\n",
    "for j1 in range(len(matchL_full2)):\n",
    "    for j2 in range(j1,len(matchL_full2)):\n",
    "        if j1!=j2:\n",
    "            dupL=set(matchL_full2[j1])&set(matchL_full2[j2])           \n",
    "            dupN=len(dupL)\n",
    "            mergeN[j1,j2]=dupN\n",
    "            if dupN>0:\n",
    "                mergeL=mergeL+[list(set(matchL_full2[j1]+matchL_full2[j2]))]\n",
    "                mergeL2=mergeL2+[backTraceNP[j1]+backTraceNP[j2]]\n",
    "                boolL2=boolL2+[boolP_full[j1].tolist()+boolP_full[j2].tolist()]\n",
    "#                 if sflag:\n",
    "#                     boolL2=np.array([[boolP_full[j1],boolP_full[j2]]])\n",
    "#                     sflag=False\n",
    "#                 else:\n",
    "#                     boolL2=np.vstack([boolL2,np.array([[boolP_full[j1],boolP_full[j2]]])])\n",
    "                lenL=lenL+[max([len(d) for d in dupL] )]\n",
    "#                 print(mergeL2)\n",
    "#                 print((j1,j2))\n",
    "            \n",
    "\n",
    "# mergeN=np.triu(mergeN)            \n",
    "# print(mergeN)\n",
    "# print(mergeL)\n",
    "mLN=[len(d) for d in mergeL]\n",
    "# print(mLN)\n",
    "\n",
    "keyMax=np.argmax(mLN)\n",
    "print(keyMax)\n",
    "MaxList=mergeL[keyMax]\n",
    "MaxList2=mergeL2[keyMax]\n",
    "MaxBool=boolL2[keyMax]\n",
    "\n",
    "\n",
    "\n",
    "# MaxList\n",
    "# np.where(mergeN==np.max(np.max(mergeN)))\n",
    "# np.max(np.max(mergeN))\n",
    "print(len(mergeL))\n",
    "print(len(lenL))\n",
    "print(len(boolL2))\n",
    "print(lenL)\n",
    "\n",
    "\n",
    "MaxBool_NP=np.array(MaxBool)\n",
    "pickT=set(MaxList2)&set(topL)\n",
    "keyL=[]\n",
    "for d in pickT:\n",
    "    key=np.where(np.array(MaxList2)==d)[0]\n",
    "    print(key)\n",
    "    keyL=keyL+key.tolist()\n",
    "    MaxBool_NP[key]=True\n",
    "keyL=sorted(keyL+[0])\n",
    "# print(MaxBool_NP)\n",
    "# print(keyL)\n",
    "\n",
    "print('---')\n",
    "tRatio=[]\n",
    "for k in range(len(keyL)-1):\n",
    "    bL=MaxBool_NP[keyL[k]:keyL[k+1]+1]\n",
    "    st=np.where(bL)[0][0]\n",
    "    bL=bL[st:]\n",
    "    \n",
    "    tNum=len(np.where(bL)[0])\n",
    "    tRatio=tRatio+[tNum/len(bL)]\n",
    "#     print(tNum)\n",
    "#     print(tRatio)\n",
    "#     print(bL)\n",
    "# MaxBool\n",
    "tRatioAll=np.mean(tRatio)\n",
    "\n",
    "print(tRatioAll)\n",
    "\n",
    "#"
   ]
  },
  {
   "cell_type": "code",
   "execution_count": 238,
   "id": "4164a931",
   "metadata": {},
   "outputs": [
    {
     "data": {
      "text/plain": [
       "125"
      ]
     },
     "execution_count": 238,
     "metadata": {},
     "output_type": "execute_result"
    }
   ],
   "source": [
    "len(all_Item)"
   ]
  },
  {
   "cell_type": "code",
   "execution_count": 239,
   "id": "95d89b3c",
   "metadata": {},
   "outputs": [
    {
     "data": {
      "text/plain": [
       "0.32"
      ]
     },
     "execution_count": 239,
     "metadata": {},
     "output_type": "execute_result"
    }
   ],
   "source": [
    "rNd/len(all_Item)"
   ]
  },
  {
   "cell_type": "code",
   "execution_count": 236,
   "id": "c1635d06",
   "metadata": {},
   "outputs": [
    {
     "name": "stdout",
     "output_type": "stream",
     "text": [
      "[  9  22   3  85  77  94  62  23 122  45  19  28  31  63 114  98  12  40\n",
      "  75   8  93 105  54 121  44  59 118  61 110  15  62  47  67  14  95  55\n",
      "   9  21  48   8]\n",
      "[4, 7, 6, 7, 7, 7, 6, 4, 7, 6, 6, 2, 6, 6, 5, 4, 6, 3, 6, 5, 7, 5, 7, 5, 7, 3, 5, 5, 7, 6, 6, 7, 3, 6, 6, 7, 4, 7, 7, 5]\n",
      "[4 1 4 4 4 2 2 2 1 3 1 3 3]\n",
      "[['AA1', 'A1', 'AAAB1', 'AAABB1', 'AAABBB1'], ['A1', 'ABBBAA1'], ['AABA1', 'AA1', 'AAB1', 'A1', 'AABAAA1'], ['AABA1', 'AA1', 'AAB1', 'A1', 'AABAAB2'], ['AABA1', 'AA1', 'AAB1', 'A1', 'AABABB2'], ['AA1', 'A1', 'AAAABA1'], ['AA1', 'A1', 'AAAABA2'], ['A1', 'ABABB1', 'ABABBB1'], ['A1', 'ABAAAA1'], ['AA1', 'A1', 'AAB1', 'AABBBB2'], ['A1', 'ABBABA2'], ['AA1', 'A1', 'AAB1', 'AABBAB1'], ['AA1', 'A1', 'AAB1', 'AABBAA2']]\n",
      "['AA1', 'A1', 'AAAB1', 'AAABB1', 'AAABBB1', 'A1', 'ABBBAA1', 'AABA1', 'AA1', 'AAB1', 'A1', 'AABAAA1', 'AABA1', 'AA1', 'AAB1', 'A1', 'AABAAB2', 'AABA1', 'AA1', 'AAB1', 'A1', 'AABABB2', 'AA1', 'A1', 'AAAABA1', 'AA1', 'A1', 'AAAABA2', 'A1', 'ABABB1', 'ABABBB1', 'A1', 'ABAAAA1', 'AA1', 'A1', 'AAB1', 'AABBBB2', 'A1', 'ABBABA2', 'AA1', 'A1', 'AAB1', 'AABBAB1', 'AA1', 'A1', 'AAB1', 'AABBAA2']\n",
      "---\n",
      "1\n",
      "78\n",
      "78\n",
      "78\n",
      "[2, 3, 3, 3, 3, 3, 2, 2, 3, 2, 3, 3, 2, 2, 2, 2, 2, 2, 2, 2, 2, 2, 2, 5, 5, 3, 3, 2, 2, 4, 2, 4, 4, 5, 3, 3, 2, 2, 4, 2, 4, 4, 3, 3, 2, 2, 4, 2, 4, 4, 3, 2, 2, 3, 2, 3, 3, 2, 2, 3, 2, 3, 3, 2, 2, 2, 2, 2, 2, 2, 2, 2, 2, 4, 4, 2, 2, 4]\n",
      "[5]\n",
      "[11]\n",
      "---\n",
      "0.8452380952380952\n"
     ]
    }
   ],
   "source": [
    "# random generation of entities againt the generated network\n",
    "\n",
    "rNd=40\n",
    "all_Item=list(set(list(outDict.keys())+sum(outDict.values(), [])))\n",
    "rLIst=np.random.randint(len(all_Item),size=rNd)\n",
    "print(rLIst)\n",
    "\n",
    "#===4===\n",
    "\n",
    "all_Item_np=np.array(all_Item)\n",
    "itemR_np=all_Item_np[rLIst]\n",
    "itemR=all_Item_np[rLIst].tolist()\n",
    "lenR=[len(d) for d in itemR]\n",
    "lenR_np=np.array(lenR)\n",
    "print(lenR)\n",
    "key = np.argsort(lenR) \n",
    "key2=key[::-1]\n",
    "sortedD_np=itemR_np[key2]\n",
    "sortedD=itemR_np[key2].tolist()\n",
    "sortedN=lenR_np[key2]\n",
    "\n",
    "maxN=max(lenR)\n",
    "topKey=np.where(sortedN==maxN)\n",
    "#======\n",
    "\n",
    "#===5===\n",
    "topL=sortedD_np[topKey]\n",
    "otherL=sortedD_np[topKey[0][-1]+1:].tolist()\n",
    "\n",
    "backTraceNP=np.empty(len(topL),dtype=object)\n",
    "for k in range(len(topL)):\n",
    "    st=topL[k]\n",
    "    tmpL=[st]\n",
    "    Skeys = [key for key, val in outDict.items() if st in val]\n",
    "    while len(Skeys)>0:\n",
    "        tmpL=Skeys+tmpL\n",
    "        st=Skeys[0]\n",
    "        Skeys = [key for key, val in outDict.items() if st in val]\n",
    "    backTraceNP[k]=tmpL\n",
    "\n",
    "#======\n",
    "\n",
    "#===6===    \n",
    "matchN=np.full(len(topL),0,dtype=int)\n",
    "matchN2=np.full(len(topL),0,dtype=int)\n",
    "boolP_full=np.empty(len(topL),dtype=object)\n",
    "matchL_full=np.empty(len(topL),dtype=object)\n",
    "\n",
    "for k in range(len(topL)):\n",
    "    matchL=set(backTraceNP[k])&set(otherL)\n",
    "    boolP=np.full(len(backTraceNP[k]),False,dtype=bool)\n",
    "    for d1 in matchL:\n",
    "        key=np.where(np.array(backTraceNP[k]) ==d1)[0]\n",
    "        boolP[key]=True\n",
    "    boolP_full[k]=boolP    \n",
    "    matchL_full[k]=list(matchL)+[topL[k]]\n",
    "    matchN[k]=len(matchL)\n",
    "    matchN2[k]=len(backTraceNP[k])\n",
    "\n",
    "key=np.where(matchN>0)\n",
    "matchL_full2=matchL_full[key].tolist()    \n",
    "matchL_flat=sum(matchL_full2,[])\n",
    "print(matchN)\n",
    "print(matchL_full2)\n",
    "print(matchL_flat)\n",
    "\n",
    "#======\n",
    "\n",
    "#===7&8===\n",
    "mergeN=np.full([len(matchL_full2),len(matchL_full2)],0,dtype=int)\n",
    "mergeL=[]\n",
    "mergeL2=[]\n",
    "boolL2=[]\n",
    "# sflag=True\n",
    "lenL=[]\n",
    "for j1 in range(len(matchL_full2)):\n",
    "    for j2 in range(j1,len(matchL_full2)):\n",
    "        if j1!=j2:\n",
    "            dupL=set(matchL_full2[j1])&set(matchL_full2[j2])           \n",
    "            dupN=len(dupL)\n",
    "            mergeN[j1,j2]=dupN\n",
    "            if dupN>0:\n",
    "                mergeL=mergeL+[list(set(matchL_full2[j1]+matchL_full2[j2]))]\n",
    "                mergeL2=mergeL2+[backTraceNP[j1]+backTraceNP[j2]]\n",
    "                boolL2=boolL2+[boolP_full[j1].tolist()+boolP_full[j2].tolist()]\n",
    "                lenL=lenL+[max([len(d) for d in dupL] )]\n",
    "            \n",
    "mLN=[len(d) for d in mergeL]\n",
    "keyMax=np.argmax(mLN)\n",
    "MaxList=mergeL[keyMax]\n",
    "MaxList2=mergeL2[keyMax]\n",
    "MaxBool=boolL2[keyMax]\n",
    "\n",
    "print(keyMax)\n",
    "print(len(mergeL))\n",
    "print(len(lenL))\n",
    "print(len(boolL2))\n",
    "print(lenL)\n",
    "#======\n",
    "\n",
    "#===9===\n",
    "\n",
    "MaxBool_NP=np.array(MaxBool)\n",
    "pickT=set(MaxList2)&set(topL)\n",
    "keyL=[]\n",
    "for d in pickT:\n",
    "    key=np.where(np.array(MaxList2)==d)[0]\n",
    "    print(key)\n",
    "    keyL=keyL+key.tolist()\n",
    "    MaxBool_NP[key]=True\n",
    "keyL=sorted(keyL+[0])\n",
    "\n",
    "tRatio=[]\n",
    "for k in range(len(keyL)-1):\n",
    "    bL=MaxBool_NP[keyL[k]:keyL[k+1]+1]\n",
    "    st=np.where(bL)[0][0]\n",
    "    bL=bL[st:]\n",
    "    \n",
    "    tNum=len(np.where(bL)[0])\n",
    "    tRatio=tRatio+[tNum/len(bL)]\n",
    "tRatioAll=np.mean(tRatio)\n",
    "\n",
    "print(tRatioAll)"
   ]
  },
  {
   "cell_type": "code",
   "execution_count": 342,
   "id": "087b97e4",
   "metadata": {},
   "outputs": [
    {
     "data": {
      "text/plain": [
       "125"
      ]
     },
     "execution_count": 342,
     "metadata": {},
     "output_type": "execute_result"
    }
   ],
   "source": [
    "len(all_Item)"
   ]
  },
  {
   "cell_type": "code",
   "execution_count": 341,
   "id": "39f7bd7c",
   "metadata": {},
   "outputs": [
    {
     "name": "stdout",
     "output_type": "stream",
     "text": [
      "[0.6428571428571428, 0.5357142857142857, 0.6571428571428571, 0.6071428571428572, 0.5178571428571428, 0.7619047619047619, 0.6428571428571428, 0.5857142857142856, 0.8452380952380952, 0.6785714285714286, 0.47619047619047616, 0.5357142857142857, 0.5476190476190476, 0.6428571428571428, 0.6607142857142857, 0.4857142857142857, 0.6904761904761905, 0.6571428571428571, 0.6190476190476191, 0.5357142857142857, 0.5892857142857143, 0.5857142857142856, 0.6607142857142857, 0.7142857142857143, 0.7571428571428571, 0.7738095238095238, 0.6571428571428571, 0.6904761904761905, 0.5892857142857143, 0.7857142857142857, 0.6190476190476191, 0.5428571428571429, 0.9166666666666667, 0.8452380952380952, 0.8571428571428572, 0.6904761904761905, 0.7857142857142857, 0.6071428571428572, 0.7142857142857143, 0.5857142857142856, 0.6904761904761905, 0.7321428571428572, 0.9285714285714286, 0.6857142857142857, 0.6857142857142857, 0.8333333333333333, 0.6428571428571428, 0.7857142857142857, 0.5357142857142857, 0.6857142857142857, 0.6428571428571428, 0.5857142857142856, 0.5571428571428572, 0.7857142857142857, 0.7619047619047619, 0.7857142857142857, 0.7619047619047619, 0.9166666666666667, 0.7571428571428571, 0.8452380952380952, 0.6428571428571428, 0.7142857142857143, 0.7571428571428571, 0.7857142857142857, 0.7142857142857143, 0.7571428571428571, 0.6904761904761905, 0.5857142857142856, 0.8571428571428572, 0.7857142857142857, 0.5892857142857143, 0.6071428571428572, 0.6190476190476191, 0.6904761904761905, 0.7142857142857143, 0.6785714285714286, 0.6428571428571428, 0.6071428571428572, 0.5178571428571428, 0.7142857142857143, 0.5857142857142856, 0.6428571428571428, 0.6904761904761905, 0.6571428571428571, 0.8333333333333333, 0.4642857142857143, 0.6571428571428571, 0.7857142857142857, 0.75, 0.8571428571428572, 0.7142857142857143, 0.47619047619047616, 0.7571428571428571, 0.39285714285714285, 0.6904761904761905, 0.6904761904761905, 0.6571428571428571, 0.8285714285714285, 0.6904761904761905, 0.5178571428571428]\n"
     ]
    }
   ],
   "source": [
    "# random generation of entities againt the generated network\n",
    "\n",
    "# rNd=40\n",
    "def detectImportantSeries(rNd):\n",
    "    all_Item=list(set(list(outDict.keys())+sum(outDict.values(), [])))\n",
    "    rLIst=np.random.randint(len(all_Item),size=rNd)\n",
    "#     print(rLIst)\n",
    "\n",
    "    #===4===\n",
    "\n",
    "    all_Item_np=np.array(all_Item)\n",
    "    itemR_np=all_Item_np[rLIst]\n",
    "    itemR=all_Item_np[rLIst].tolist()\n",
    "    lenR=[len(d) for d in itemR]\n",
    "    lenR_np=np.array(lenR)\n",
    "#     print(lenR)\n",
    "    key = np.argsort(lenR) \n",
    "    key2=key[::-1]\n",
    "    sortedD_np=itemR_np[key2]\n",
    "    sortedD=itemR_np[key2].tolist()\n",
    "    sortedN=lenR_np[key2]\n",
    "\n",
    "    maxN=max(lenR)\n",
    "    topKey=np.where(sortedN==maxN)\n",
    "    #======\n",
    "\n",
    "    #===5===\n",
    "    topL=sortedD_np[topKey]\n",
    "    otherL=sortedD_np[topKey[0][-1]+1:].tolist()\n",
    "\n",
    "    backTraceNP=np.empty(len(topL),dtype=object)\n",
    "    for k in range(len(topL)):\n",
    "        st=topL[k]\n",
    "        tmpL=[st]\n",
    "        Skeys = [key for key, val in outDict.items() if st in val]\n",
    "        while len(Skeys)>0:\n",
    "            tmpL=Skeys+tmpL\n",
    "            st=Skeys[0]\n",
    "            Skeys = [key for key, val in outDict.items() if st in val]\n",
    "        backTraceNP[k]=tmpL\n",
    "\n",
    "    #======\n",
    "\n",
    "    #===6===    \n",
    "    matchN=np.full(len(topL),0,dtype=int)\n",
    "    matchN2=np.full(len(topL),0,dtype=int)\n",
    "    boolP_full=np.empty(len(topL),dtype=object)\n",
    "    matchL_full=np.empty(len(topL),dtype=object)\n",
    "\n",
    "    for k in range(len(topL)):\n",
    "        matchL=set(backTraceNP[k])&set(otherL)\n",
    "        boolP=np.full(len(backTraceNP[k]),False,dtype=bool)\n",
    "        for d1 in matchL:\n",
    "            key=np.where(np.array(backTraceNP[k]) ==d1)[0]\n",
    "            boolP[key]=True\n",
    "        boolP_full[k]=boolP    \n",
    "        matchL_full[k]=list(matchL)+[topL[k]]\n",
    "        matchN[k]=len(matchL)\n",
    "        matchN2[k]=len(backTraceNP[k])\n",
    "\n",
    "    key=np.where(matchN>0)\n",
    "    matchL_full2=matchL_full[key].tolist()    \n",
    "    matchL_flat=sum(matchL_full2,[])\n",
    "    #======\n",
    "\n",
    "    #===7&8===\n",
    "    mergeN=np.full([len(matchL_full2),len(matchL_full2)],0,dtype=int)\n",
    "    mergeL=[]\n",
    "    mergeL2=[]\n",
    "    boolL2=[]\n",
    "    # sflag=True\n",
    "    lenL=[]\n",
    "    for j1 in range(len(matchL_full2)):\n",
    "        for j2 in range(j1,len(matchL_full2)):\n",
    "            if j1!=j2:\n",
    "                dupL=set(matchL_full2[j1])&set(matchL_full2[j2])           \n",
    "                dupN=len(dupL)\n",
    "                mergeN[j1,j2]=dupN\n",
    "                if dupN>0:\n",
    "                    mergeL=mergeL+[list(set(matchL_full2[j1]+matchL_full2[j2]))]\n",
    "                    mergeL2=mergeL2+[backTraceNP[j1]+backTraceNP[j2]]\n",
    "                    boolL2=boolL2+[boolP_full[j1].tolist()+boolP_full[j2].tolist()]\n",
    "                    lenL=lenL+[max([len(d) for d in dupL] )]\n",
    "\n",
    "    mLN=[len(d) for d in mergeL]\n",
    "    if len(mLN)>0:\n",
    "        keyMax=np.argmax(mLN)\n",
    "        MaxList=mergeL[keyMax]\n",
    "        MaxList2=mergeL2[keyMax]\n",
    "        MaxBool=boolL2[keyMax]\n",
    "\n",
    "        #===9===\n",
    "\n",
    "        MaxBool_NP=np.array(MaxBool)\n",
    "        pickT=set(MaxList2)&set(topL)\n",
    "        keyL=[]\n",
    "        for d in pickT:\n",
    "            key=np.where(np.array(MaxList2)==d)[0]\n",
    "    #         print(key)\n",
    "            keyL=keyL+key.tolist()\n",
    "            MaxBool_NP[key]=True\n",
    "        keyL=sorted(keyL+[0])\n",
    "\n",
    "        tRatio=[]\n",
    "        for k in range(len(keyL)-1):\n",
    "            bL=MaxBool_NP[keyL[k]:keyL[k+1]+1]\n",
    "            st=np.where(bL)[0][0]\n",
    "            bL=bL[st:]\n",
    "\n",
    "            tNum=len(np.where(bL)[0])\n",
    "            tRatio=tRatio+[tNum/len(bL)]\n",
    "        tRatioAll=np.mean(tRatio)\n",
    "        \n",
    "        sList=sorted(mLN)\n",
    "        sListNP=np.array(sList)\n",
    "\n",
    "        dNP=np.abs(np.diff(np.array(sList)))\n",
    "        dDiff=np.where(dNP>0)[0]\n",
    "        stL=np.append(np.array([0]),dDiff+1)\n",
    "        endL=np.append(dDiff,len(sList)-1)\n",
    "        summaryD=np.array([sListNP[stL], (endL-stL+1)])\n",
    "    else:\n",
    "        tRatioAll=0\n",
    "        summaryD=[]\n",
    "    return([tRatioAll,summaryD])\n",
    "    \n",
    "paraD=[10, 20, 30, 40,50,60,70,80,90,100]    \n",
    "headerSt=''\n",
    "for d in paraD:  \n",
    "\n",
    "    resList=[]    \n",
    "    j=0\n",
    "    distNumL=np.full(d,0,dtype=int)\n",
    "    while j<100:\n",
    "        resAll=detectImportantSeries(d)\n",
    "        res=resAll[0]\n",
    "        \n",
    "        if res>0:\n",
    "            distL=resAll[1]\n",
    "            for k2 in range(len(distL[0])):\n",
    "                k3=distL[0,k2]\n",
    "                distNumL[k3]=distNumL[k3]+distL[1,k2]\n",
    "            \n",
    "            distNumL2=distNumL[:np.where(distNumL>0)[0][-1]+1]\n",
    "#             print(distNumL2)\n",
    "            distNumL3=np.array([np.arange(len(distNumL2)),distNumL2]).T\n",
    "            filename='dist'+str(d)+'.csv'\n",
    "            np.savetxt(filename, distNumL3 ,header='n,count',  delimiter=',')\n",
    "                \n",
    "            resList=resList+[res]\n",
    "            j=j+1\n",
    "    \n",
    "    if d==paraD[0]:\n",
    "        headerSt='rNd='+str(d)\n",
    "        resList_full=np.array([resList])\n",
    "    else:\n",
    "        headerSt=headerSt+',rNd='+str(d)\n",
    "        resList_full=np.vstack([resList_full,np.array([resList])])\n",
    "        \n",
    "# print(resList)\n",
    "\n",
    "filename='anaData.csv'\n",
    "np.savetxt(filename, resList_full.T ,header=headerSt,  delimiter=',')"
   ]
  },
  {
   "cell_type": "code",
   "execution_count": 338,
   "id": "c08d49aa",
   "metadata": {},
   "outputs": [
    {
     "data": {
      "text/plain": [
       "array([[   0,    0],\n",
       "       [   1,    0],\n",
       "       [   2,  203],\n",
       "       [   3, 2077],\n",
       "       [   4, 3887],\n",
       "       [   5, 4119],\n",
       "       [   6, 3081],\n",
       "       [   7, 1440],\n",
       "       [   8,  409],\n",
       "       [   9,   76],\n",
       "       [  10,   22]])"
      ]
     },
     "execution_count": 338,
     "metadata": {},
     "output_type": "execute_result"
    }
   ],
   "source": [
    "distNumL3.T"
   ]
  },
  {
   "cell_type": "code",
   "execution_count": 330,
   "id": "28225d2d",
   "metadata": {},
   "outputs": [
    {
     "data": {
      "text/plain": [
       "4"
      ]
     },
     "execution_count": 330,
     "metadata": {},
     "output_type": "execute_result"
    }
   ],
   "source": [
    "np.where(distNumL>0)[0][-1]"
   ]
  },
  {
   "cell_type": "code",
   "execution_count": 335,
   "id": "7c31a1ad",
   "metadata": {},
   "outputs": [
    {
     "name": "stdout",
     "output_type": "stream",
     "text": [
      "[ 0  0  4 29  8  0  0  0  0  0  0  0  0  0  0  0  0  0  0  0  0  0  0  0\n",
      "  0  0  0  0  0  0  0  0  0  0  0  0  0  0  0  0  0  0  0  0  0  0  0  0\n",
      "  0  0]\n",
      "[ 0  0  4 29  8]\n"
     ]
    },
    {
     "data": {
      "text/plain": [
       "array([[ 0,  1,  2,  3,  4],\n",
       "       [ 0,  0,  4, 29,  8]])"
      ]
     },
     "execution_count": 335,
     "metadata": {},
     "output_type": "execute_result"
    }
   ],
   "source": [
    "print(distNumL)\n",
    "distNumL2=distNumL[:np.where(distNumL>0)[0][-1]+1]\n",
    "print(distNumL2)\n",
    "np.array([np.arange(len(distNumL2)),distNumL2])"
   ]
  },
  {
   "cell_type": "code",
   "execution_count": 322,
   "id": "29146162",
   "metadata": {},
   "outputs": [
    {
     "name": "stdout",
     "output_type": "stream",
     "text": [
      "4\n",
      "29\n",
      "8\n"
     ]
    }
   ],
   "source": [
    "for k2 in range(len(distL[0])):\n",
    "    print(distL[1,k2])"
   ]
  },
  {
   "cell_type": "code",
   "execution_count": 324,
   "id": "b977675c",
   "metadata": {},
   "outputs": [
    {
     "data": {
      "text/plain": [
       "array([ 0,  0,  4, 29,  8,  0,  0,  0,  0,  0,  0,  0,  0,  0,  0,  0,  0,\n",
       "        0,  0,  0,  0,  0,  0,  0,  0,  0,  0,  0,  0,  0,  0,  0,  0,  0,\n",
       "        0,  0,  0,  0,  0,  0,  0,  0,  0,  0,  0,  0,  0,  0,  0,  0])"
      ]
     },
     "execution_count": 324,
     "metadata": {},
     "output_type": "execute_result"
    }
   ],
   "source": [
    "distNumL=np.full(d,0,dtype=int)\n",
    "distL=resAll[1]\n",
    "for k2 in range(len(distL[0])):\n",
    "    k3=distL[0,k2]\n",
    "    distNumL[k3]=distNumL[k3]+distL[1,k2]\n",
    "distNumL"
   ]
  },
  {
   "cell_type": "code",
   "execution_count": null,
   "id": "e2f4c8b3",
   "metadata": {},
   "outputs": [],
   "source": [
    "resAll[1]"
   ]
  },
  {
   "cell_type": "code",
   "execution_count": 255,
   "id": "adef2a55",
   "metadata": {},
   "outputs": [
    {
     "data": {
      "text/plain": [
       "0.7142857142857143"
      ]
     },
     "execution_count": 255,
     "metadata": {},
     "output_type": "execute_result"
    }
   ],
   "source": [
    "detectImportantSeries(d)"
   ]
  },
  {
   "cell_type": "code",
   "execution_count": 251,
   "id": "0509e481",
   "metadata": {},
   "outputs": [
    {
     "name": "stdout",
     "output_type": "stream",
     "text": [
      "10\n",
      "20\n",
      "30\n",
      "40\n",
      "50\n"
     ]
    }
   ],
   "source": [
    "for d in paraD:  \n",
    "    print(d)"
   ]
  },
  {
   "cell_type": "code",
   "execution_count": 304,
   "id": "6cf23576",
   "metadata": {},
   "outputs": [
    {
     "name": "stdout",
     "output_type": "stream",
     "text": [
      "[3, 3, 3, 4, 4, 4, 4, 4, 4, 4, 4, 4, 4, 5, 5, 5, 5, 5, 5, 5, 5, 5, 5, 5, 5, 5, 5, 5, 5, 5, 5, 5, 5, 6, 6, 6, 6, 6, 6, 6, 6, 6, 6, 6, 6, 6, 6, 6, 6, 6, 6, 6, 6, 6, 6, 6, 6, 6, 6, 6, 6, 6, 6, 6, 6, 6, 6, 6, 7, 7, 7, 7, 7, 7, 7, 8, 8, 8]\n",
      "[3 3 3]\n",
      "3\n",
      "[4 4 4 4 4 4 4 4 4 4]\n",
      "10\n",
      "[5 5 5 5 5 5 5 5 5 5 5 5 5 5 5 5 5 5 5 5]\n",
      "20\n",
      "[6 6 6 6 6 6 6 6 6 6 6 6 6 6 6 6 6 6 6 6 6 6 6 6 6 6 6 6 6 6 6 6 6 6 6]\n",
      "35\n",
      "[7 7 7 7 7 7 7]\n",
      "7\n",
      "[8 8 8]\n",
      "3\n",
      "[ 3 10 20 35  7  3]\n",
      "[3, 3, 3, 4, 4, 4, 4, 4, 4, 4, 4, 4, 4, 5, 5, 5, 5, 5, 5, 5, 5, 5, 5, 5, 5, 5, 5, 5, 5, 5, 5, 5, 5, 6, 6, 6, 6, 6, 6, 6, 6, 6, 6, 6, 6, 6, 6, 6, 6, 6, 6, 6, 6, 6, 6, 6, 6, 6, 6, 6, 6, 6, 6, 6, 6, 6, 6, 6, 7, 7, 7, 7, 7, 7, 7, 8, 8, 8]\n",
      "[ 0  3 13 33 68 75]\n",
      "[ 2 12 32 67 74 77]\n"
     ]
    },
    {
     "data": {
      "text/plain": [
       "array([[ 3,  4,  5,  6,  7,  8],\n",
       "       [ 3, 10, 20, 35,  7,  3]])"
      ]
     },
     "execution_count": 304,
     "metadata": {},
     "output_type": "execute_result"
    }
   ],
   "source": [
    "sList=sorted(mLN)\n",
    "# sList2=sList[::-1]\n",
    "print(sList)\n",
    "sListNP=np.array(sList)\n",
    "\n",
    "dNP=np.abs(np.diff(np.array(sList)))\n",
    "dDiff=np.where(dNP>0)[0]\n",
    "stL=np.append(np.array([0]),dDiff+1)\n",
    "endL=np.append(dDiff,len(sList)-1)\n",
    "for s,e in zip(stL,endL):\n",
    "#     print((s,e))\n",
    "    print(sListNP[s:e+1])\n",
    "    print(e-s+1)\n",
    "\n",
    "\n",
    "print(endL-stL+1)\n",
    "print(sList)\n",
    "print(stL)\n",
    "print(endL)\n",
    "np.array([sListNP[stL], (endL-stL+1)])\n",
    "# (endL-stL+1)\n",
    "# sListNP[stL]"
   ]
  },
  {
   "cell_type": "code",
   "execution_count": 237,
   "id": "dc0a3083",
   "metadata": {},
   "outputs": [
    {
     "name": "stdout",
     "output_type": "stream",
     "text": [
      "Local cdn resources have problems on chrome/safari when used in jupyter-notebook. \n"
     ]
    },
    {
     "data": {
      "text/html": [
       "\n",
       "        <iframe\n",
       "            width=\"1500px\"\n",
       "            height=\"500px\"\n",
       "            src=\"class_list6.html\"\n",
       "            frameborder=\"0\"\n",
       "            allowfullscreen\n",
       "            \n",
       "        ></iframe>\n",
       "        "
      ],
      "text/plain": [
       "<IPython.lib.display.IFrame at 0x12a657e20>"
      ]
     },
     "execution_count": 237,
     "metadata": {},
     "output_type": "execute_result"
    }
   ],
   "source": [
    "nodeSize=10\n",
    "conWidth=2\n",
    "rNd=40\n",
    "\n",
    "network = Network(\n",
    "    height=\"500px\",  # default param = 500px\n",
    "    width=\"1500px\",  # default param = 500px\n",
    "    notebook=True,  # For jupyter notebook, it should be True\n",
    "    bgcolor=\"rgb(255,255,255)\",  # default color = \"#ffffff\" \"rgb(255,255,255)\"\n",
    "    directed=True,   # directional graph = True, non- directinal graph = False\n",
    ")\n",
    "str2num=lambda S: [ord(d)-ord('A')+1 if not(str.isdecimal(d)) else int(d) for d in S ]\n",
    "\n",
    "all_Item=list(set(list(outDict.keys())+sum(outDict.values(), [])))\n",
    "# rLIst=np.random.randint(len(all_Item),size=rNd)\n",
    "\n",
    "# matchL_flat\n",
    "\n",
    "keyList=list(outDict.keys())\n",
    "for k in range(len(all_Item)):\n",
    "    nd= int(\"\".join(map(str, str2num(all_Item[k]))))\n",
    "    if k in rLIst:\n",
    "        colName=\"lightblue\"\n",
    "    else:\n",
    "        colName=\"gray\"\n",
    "    if all_Item[k] in matchL_flat:\n",
    "        colName=\"pink\"\n",
    "    if all_Item[k] in MaxList:\n",
    "        colName=\"red\"\n",
    "    network.add_node(n_id=nd,label=all_Item[k], shape=\"box\",size=nodeSize,color =colName)\n",
    "    \n",
    "for k in range(len(outDict)):\n",
    "    nodeMn= int(\"\".join(map(str, str2num(keyList[k]))))\n",
    "#     print(keyList[k])\n",
    "    nodeS=outDict[keyList[k]]\n",
    "#     print(nodeS)\n",
    "    nodeSn=[ int(\"\".join(map(str, str2num(d)))) for d in nodeS]\n",
    "#     print(nodeSn)\n",
    "    for j in range(len(nodeSn)):\n",
    "        network.add_edge(nodeMn,nodeSn[j], width=conWidth,smooth=\"dynamic\")\n",
    "\n",
    "# output the results in the HTML format (and visualization in the jupyter notebook panel)\n",
    "network.show(\"class_list6.html\")"
   ]
  },
  {
   "cell_type": "code",
   "execution_count": 230,
   "id": "6fe05578",
   "metadata": {},
   "outputs": [
    {
     "name": "stdout",
     "output_type": "stream",
     "text": [
      "[11]\n",
      "[5]\n",
      "[False False False False False  True False False False False  True  True]\n",
      "[0, 5, 11]\n",
      "---\n",
      "1\n",
      "[1.0]\n",
      "[ True]\n",
      "3\n",
      "[1.0, 0.42857142857142855]\n",
      "[ True False False False False  True  True]\n",
      "0.7142857142857143\n"
     ]
    }
   ],
   "source": [
    "MaxBool_NP=np.array(MaxBool)\n",
    "pickT=set(MaxList2)&set(topL)\n",
    "keyL=[]\n",
    "for d in pickT:\n",
    "    key=np.where(np.array(MaxList2)==d)[0]\n",
    "    print(key)\n",
    "    keyL=keyL+key.tolist()\n",
    "    MaxBool_NP[key]=True\n",
    "keyL=sorted(keyL+[0])\n",
    "print(MaxBool_NP)\n",
    "print(keyL)\n",
    "\n",
    "print('---')\n",
    "tRatio=[]\n",
    "for k in range(len(keyL)-1):\n",
    "    bL=MaxBool_NP[keyL[k]:keyL[k+1]+1]\n",
    "    st=np.where(bL)[0][0]\n",
    "    bL=bL[st:]\n",
    "    \n",
    "    tNum=len(np.where(bL)[0])\n",
    "    tRatio=tRatio+[tNum/len(bL)]\n",
    "    print(tNum)\n",
    "    print(tRatio)\n",
    "    print(bL)\n",
    "# MaxBool\n",
    "tRatioAll=np.mean(tRatio)\n",
    "\n",
    "print(tRatioAll)"
   ]
  },
  {
   "cell_type": "code",
   "execution_count": 210,
   "id": "c671b40b",
   "metadata": {},
   "outputs": [
    {
     "name": "stdout",
     "output_type": "stream",
     "text": [
      "[False  True False False  True  True False  True  True False  True  True]\n"
     ]
    }
   ],
   "source": [
    "keyL[k+1]\n",
    "print(MaxBool_NP)"
   ]
  },
  {
   "cell_type": "code",
   "execution_count": 190,
   "id": "12d80930",
   "metadata": {},
   "outputs": [
    {
     "name": "stdout",
     "output_type": "stream",
     "text": [
      "['AABAAB2' 'ABBAAA1' 'ABBBAB1' 'AAABBB1' 'AAAABA1' 'ABBAAB2' 'AABBAB2'\n",
      " 'ABBBBA2' 'AAAABA1' 'ABBBBB1' 'ABBBBB1' 'AABBAA1' 'ABBABB1' 'ABAABB1'\n",
      " 'AABAAB2' 'AABBAA1' 'AABABA2' 'ABAABB2' 'AABAAA1' 'AAABAA1' 'ABBABA1'\n",
      " 'ABBABA2']\n"
     ]
    },
    {
     "data": {
      "text/plain": [
       "(['A1',\n",
       "  'AB1',\n",
       "  'ABB1',\n",
       "  'ABBB1',\n",
       "  'ABBBB1',\n",
       "  'ABBBBA2',\n",
       "  'A1',\n",
       "  'AB1',\n",
       "  'ABA1',\n",
       "  'ABAA1',\n",
       "  'ABAAB1',\n",
       "  'ABAABB1'],\n",
       " [False,\n",
       "  True,\n",
       "  False,\n",
       "  False,\n",
       "  True,\n",
       "  False,\n",
       "  False,\n",
       "  True,\n",
       "  True,\n",
       "  False,\n",
       "  True,\n",
       "  False],\n",
       " ['ABAABB1', 'ABA1', 'ABBBB1', 'ABBBBA2', 'AB1', 'ABAAB1'])"
      ]
     },
     "execution_count": 190,
     "metadata": {},
     "output_type": "execute_result"
    }
   ],
   "source": [
    "print(topL)\n",
    "MaxList2,MaxBool,MaxList\n"
   ]
  },
  {
   "cell_type": "code",
   "execution_count": null,
   "id": "28894717",
   "metadata": {},
   "outputs": [],
   "source": [
    "boolL2=np.vstack([boolL2,np.array([boolP_full[j1],boolP_full[j2]])])"
   ]
  },
  {
   "cell_type": "code",
   "execution_count": 144,
   "id": "34420002",
   "metadata": {},
   "outputs": [
    {
     "data": {
      "text/plain": [
       "(11, 16, 16)"
      ]
     },
     "execution_count": 144,
     "metadata": {},
     "output_type": "execute_result"
    }
   ],
   "source": [
    "len(matchL_full2),len(matchL_full),len(backTraceNP)"
   ]
  },
  {
   "cell_type": "code",
   "execution_count": 184,
   "id": "6cffede7",
   "metadata": {},
   "outputs": [
    {
     "name": "stdout",
     "output_type": "stream",
     "text": [
      "[2] AAB1\n"
     ]
    },
    {
     "data": {
      "text/plain": [
       "({'AAB1'},\n",
       " ['A1', 'AA1', 'AAB1', 'AABA1', 'AABAA1', 'AABAAB2'],\n",
       " array([False, False,  True, False, False, False]))"
      ]
     },
     "execution_count": 184,
     "metadata": {},
     "output_type": "execute_result"
    }
   ],
   "source": [
    "k=0\n",
    "matchL=set(backTraceNP[k])&set(otherL)\n",
    "boolP=np.full(len(backTraceNP[k]),False,dtype=bool)\n",
    "for d1 in matchL:\n",
    "    key=np.where(np.array(backTraceNP[k]) ==d1)[0]\n",
    "    print(key,d1)\n",
    "    boolP[key]=True\n",
    "matchL,backTraceNP[k],boolP"
   ]
  },
  {
   "cell_type": "code",
   "execution_count": 186,
   "id": "2b821a49",
   "metadata": {},
   "outputs": [
    {
     "name": "stdout",
     "output_type": "stream",
     "text": [
      "{'AAB1'}\n",
      "['AABBAB2', 'AAB1', 'AABAAB2']\n",
      "['A1', 'AA1', 'AAB1', 'AABA1', 'AABAA1', 'AABAAB2', 'A1', 'AA1', 'AAB1', 'AABB1', 'AABBA1', 'AABBAB2']\n",
      "[False, False, True, False, False, False, False, False, True, False, False, False]\n",
      "{'AB1'}\n",
      "['AABBAA1', 'AAB1', 'AABAAB2']\n",
      "['A1', 'AA1', 'AAB1', 'AABA1', 'AABAA1', 'AABAAB2', 'A1', 'AA1', 'AAB1', 'AABB1', 'AABBA1', 'AABBAA1']\n",
      "[False, False, True, False, False, False, False, False, True, False, False, False]\n",
      "{'AB1'}\n",
      "['AAB1', 'AABAAB2']\n",
      "['A1', 'AA1', 'AAB1', 'AABA1', 'AABAA1', 'AABAAB2', 'A1', 'AA1', 'AAB1', 'AABA1', 'AABAA1', 'AABAAB2']\n",
      "[False, False, True, False, False, False, False, False, True, False, False, False]\n",
      "{'AAABB1'}\n",
      "['AABBAA1', 'AAB1', 'AABAAB2']\n",
      "['A1', 'AA1', 'AAB1', 'AABA1', 'AABAA1', 'AABAAB2', 'A1', 'AA1', 'AAB1', 'AABB1', 'AABBA1', 'AABBAA1']\n",
      "[False, False, True, False, False, False, False, False, True, False, False, False]\n",
      "{'AAAAB1'}\n",
      "['AABABA2', 'AAB1', 'AABAAB2', 'AABAB1']\n",
      "['A1', 'AA1', 'AAB1', 'AABA1', 'AABAA1', 'AABAAB2', 'A1', 'AA1', 'AAB1', 'AABA1', 'AABAB1', 'AABABA2']\n",
      "[False, False, True, False, False, False, False, False, True, False, True, False]\n",
      "{'AB1'}\n",
      "['AAB1', 'AABAAB2', 'AABAAA1']\n",
      "['A1', 'AA1', 'AAB1', 'AABA1', 'AABAA1', 'AABAAB2', 'A1', 'AA1', 'AAB1', 'AABA1', 'AABAA1', 'AABAAA1']\n",
      "[False, False, True, False, False, False, False, False, True, False, False, False]\n",
      "{'AAB1'}\n",
      "['AB1', 'ABBAAA1', 'ABBBAB1']\n",
      "['A1', 'AB1', 'ABB1', 'ABBA1', 'ABBAA1', 'ABBAAA1', 'A1', 'AB1', 'ABB1', 'ABBB1', 'ABBBA1', 'ABBBAB1']\n",
      "[False, True, False, False, False, False, False, True, False, False, False, False]\n",
      "{'ABBBB1', 'AB1'}\n",
      "['AB1', 'ABBAAA1', 'ABBAAB2']\n",
      "['A1', 'AB1', 'ABB1', 'ABBA1', 'ABBAA1', 'ABBAAA1', 'A1', 'AB1', 'ABB1', 'ABBA1', 'ABBAA1', 'ABBAAB2']\n",
      "[False, True, False, False, False, False, False, True, False, False, False, False]\n",
      "{'AAAAB1'}\n",
      "['ABBBBA2', 'ABBBB1', 'AB1', 'ABBAAA1']\n",
      "['A1', 'AB1', 'ABB1', 'ABBA1', 'ABBAA1', 'ABBAAA1', 'A1', 'AB1', 'ABB1', 'ABBB1', 'ABBBB1', 'ABBBBA2']\n",
      "[False, True, False, False, False, False, False, True, False, False, True, False]\n",
      "{'ABBBB1', 'AB1'}\n",
      "['ABBBB1', 'AB1', 'ABBAAA1', 'ABBBBB1']\n",
      "['A1', 'AB1', 'ABB1', 'ABBA1', 'ABBAA1', 'ABBAAA1', 'A1', 'AB1', 'ABB1', 'ABBB1', 'ABBBB1', 'ABBBBB1']\n",
      "[False, True, False, False, False, False, False, True, False, False, True, False]\n",
      "{'ABBBB1', 'AB1'}\n",
      "['ABBBB1', 'AB1', 'ABBAAA1', 'ABBBBB1']\n",
      "['A1', 'AB1', 'ABB1', 'ABBA1', 'ABBAA1', 'ABBAAA1', 'A1', 'AB1', 'ABB1', 'ABBB1', 'ABBBB1', 'ABBBBB1']\n",
      "[False, True, False, False, False, False, False, True, False, False, True, False]\n",
      "{'AAB1'}\n",
      "['ABBABB1', 'AB1', 'ABBAAA1']\n",
      "['A1', 'AB1', 'ABB1', 'ABBA1', 'ABBAA1', 'ABBAAA1', 'A1', 'AB1', 'ABB1', 'ABBA1', 'ABBAB1', 'ABBABB1']\n",
      "[False, True, False, False, False, False, False, True, False, False, False, False]\n",
      "{'AB1'}\n",
      "['ABAABB1', 'ABA1', 'ABBAAA1', 'AB1', 'ABAAB1']\n",
      "['A1', 'AB1', 'ABB1', 'ABBA1', 'ABBAA1', 'ABBAAA1', 'A1', 'AB1', 'ABA1', 'ABAA1', 'ABAAB1', 'ABAABB1']\n",
      "[False, True, False, False, False, False, False, True, True, False, True, False]\n",
      "{'ABAAB1', 'AB1', 'ABA1'}\n",
      "['ABA1', 'ABBAAA1', 'ABAABB2', 'AB1', 'ABAAB1']\n",
      "['A1', 'AB1', 'ABB1', 'ABBA1', 'ABBAA1', 'ABBAAA1', 'A1', 'AB1', 'ABA1', 'ABAA1', 'ABAAB1', 'ABAABB2']\n",
      "[False, True, False, False, False, False, False, True, True, False, True, False]\n",
      "{'AAB1'}\n",
      "['ABBABA1', 'AB1', 'ABBAAA1']\n",
      "['A1', 'AB1', 'ABB1', 'ABBA1', 'ABBAA1', 'ABBAAA1', 'A1', 'AA1', 'AAA1', 'AAAB1', 'AAABA1', 'AAABAA1']\n",
      "[False, True, False, False, False, False, False, False, False, False, False, False]\n",
      "{'AAB1'}\n",
      "['AB1', 'ABBAAA1', 'ABBABA2']\n",
      "['A1', 'AB1', 'ABB1', 'ABBA1', 'ABBAA1', 'ABBAAA1', 'A1', 'AB1', 'ABB1', 'ABBA1', 'ABBAB1', 'ABBABA1']\n",
      "[False, True, False, False, False, False, False, True, False, False, False, False]\n",
      "{'AAB1', 'AABAB1'}\n",
      "['AB1', 'ABBAAB2', 'ABBBAB1']\n",
      "['A1', 'AB1', 'ABB1', 'ABBB1', 'ABBBA1', 'ABBBAB1', 'A1', 'AB1', 'ABB1', 'ABBA1', 'ABBAA1', 'ABBAAB2']\n",
      "[False, True, False, False, False, False, False, True, False, False, False, False]\n",
      "{'ABAAB1', 'AB1', 'ABA1'}\n",
      "['ABBBBA2', 'ABBBB1', 'AB1', 'ABBBAB1']\n",
      "['A1', 'AB1', 'ABB1', 'ABBB1', 'ABBBA1', 'ABBBAB1', 'A1', 'AB1', 'ABB1', 'ABBB1', 'ABBBB1', 'ABBBBA2']\n",
      "[False, True, False, False, False, False, False, True, False, False, True, False]\n",
      "{'AAB1'}\n",
      "['ABBBB1', 'AB1', 'ABBBBB1', 'ABBBAB1']\n",
      "['A1', 'AB1', 'ABB1', 'ABBB1', 'ABBBA1', 'ABBBAB1', 'A1', 'AB1', 'ABB1', 'ABBB1', 'ABBBB1', 'ABBBBB1']\n",
      "[False, True, False, False, False, False, False, True, False, False, True, False]\n",
      "set()\n",
      "['ABBBB1', 'AB1', 'ABBBBB1', 'ABBBAB1']\n",
      "['A1', 'AB1', 'ABB1', 'ABBB1', 'ABBBA1', 'ABBBAB1', 'A1', 'AB1', 'ABB1', 'ABBB1', 'ABBBB1', 'ABBBBB1']\n",
      "[False, True, False, False, False, False, False, True, False, False, True, False]\n",
      "{'AB1'}\n",
      "['ABBABB1', 'AB1', 'ABBBAB1']\n",
      "['A1', 'AB1', 'ABB1', 'ABBB1', 'ABBBA1', 'ABBBAB1', 'A1', 'AB1', 'ABB1', 'ABBA1', 'ABBAB1', 'ABBABB1']\n",
      "[False, True, False, False, False, False, False, True, False, False, False, False]\n",
      "{'AB1'}\n",
      "['ABAABB1', 'ABA1', 'ABBBAB1', 'AB1', 'ABAAB1']\n",
      "['A1', 'AB1', 'ABB1', 'ABBB1', 'ABBBA1', 'ABBBAB1', 'A1', 'AB1', 'ABA1', 'ABAA1', 'ABAAB1', 'ABAABB1']\n",
      "[False, True, False, False, False, False, False, True, True, False, True, False]\n"
     ]
    }
   ],
   "source": [
    "for k in range(len(backTraceNP)):\n",
    "    print(set(backTraceNP[k])&set(otherL))\n",
    "    print(mergeL[k])\n",
    "#     print(matchL_full2[k])\n",
    "    print(mergeL2[k])\n",
    "    print(boolL2[k])\n",
    "    "
   ]
  },
  {
   "cell_type": "code",
   "execution_count": 148,
   "id": "cb308edf",
   "metadata": {},
   "outputs": [
    {
     "name": "stdout",
     "output_type": "stream",
     "text": [
      "{'AA1', 'AAAAB1', 'AAAA1'}\n",
      "['A1', 'AA1', 'AAA1', 'AAAA1', 'AAAAB1', 'AAAABB1']\n",
      "[False  True False  True  True False]\n",
      "set()\n",
      "['A1', 'AB1', 'ABA1', 'ABAB1', 'ABABA1', 'ABABAA2']\n",
      "[False False False False False False]\n",
      "{'AABA1', 'AA1'}\n",
      "['A1', 'AA1', 'AAB1', 'AABA1', 'AABAA1', 'AABAAB2']\n",
      "[False  True False  True False False]\n",
      "{'AABA1', 'AA1'}\n",
      "['A1', 'AA1', 'AAB1', 'AABA1', 'AABAB1', 'AABABB2']\n",
      "[False  True False  True False False]\n",
      "{'ABAA1'}\n",
      "['A1', 'AB1', 'ABA1', 'ABAA1', 'ABAAA1', 'ABAAAB1']\n",
      "[False False False  True False False]\n",
      "{'ABABB1'}\n",
      "['A1', 'AB1', 'ABA1', 'ABAB1', 'ABABB1', 'ABABBA1']\n",
      "[False False False False  True False]\n",
      "{'ABAA1'}\n",
      "['A1', 'AB1', 'ABA1', 'ABAA1', 'ABAAA1', 'ABAAAB2']\n",
      "[False False False  True False False]\n",
      "set()\n",
      "['A1', 'AB1', 'ABB1', 'ABBA1', 'ABBAA1', 'ABBAAA1']\n",
      "[False False False False False False]\n",
      "set()\n",
      "['A1', 'AB1', 'ABB1', 'ABBB1', 'ABBBA1', 'ABBBAA2']\n",
      "[False False False False False False]\n",
      "set()\n",
      "['A1', 'AB1', 'ABA1', 'ABAB1', 'ABABA1', 'ABABAA2']\n",
      "[False False False False False False]\n",
      "{'AA1', 'AAAA1'}\n",
      "['A1', 'AA1', 'AAA1', 'AAAA1', 'AAAAA1', 'AAAAAB1']\n",
      "[False  True False  True False False]\n",
      "{'AA1', 'AAAA1'}\n",
      "['A1', 'AA1', 'AAA1', 'AAAA1', 'AAAAA1', 'AAAAAA1']\n",
      "[False  True False  True False False]\n",
      "{'AA1'}\n",
      "['A1', 'AA1', 'AAA1', 'AAAB1', 'AAABA1', 'AAABAA1']\n",
      "[False  True False False False False]\n",
      "set()\n",
      "['A1', 'AB1', 'ABA1', 'ABAB1', 'ABABA1', 'ABABAB2']\n",
      "[False False False False False False]\n",
      "{'ABABB1'}\n",
      "['A1', 'AB1', 'ABA1', 'ABAB1', 'ABABB1', 'ABABBB2']\n",
      "[False False False False  True False]\n",
      "{'AA1'}\n",
      "['A1', 'AA1', 'AAA1', 'AAAB1', 'AAABA1', 'AAABAB2']\n",
      "[False  True False False False False]\n"
     ]
    }
   ],
   "source": [
    "for k in range(len(backTraceNP)):\n",
    "    print(set(backTraceNP[k])&set(otherL))\n",
    "#     print(matchL_full2[k])\n",
    "    print(backTraceNP[k])\n",
    "    print(boolP_full[k])\n",
    "    "
   ]
  },
  {
   "cell_type": "code",
   "execution_count": 104,
   "id": "06c4b932",
   "metadata": {},
   "outputs": [
    {
     "data": {
      "text/plain": [
       "[[['ABBB1', 'ABBBB1', 'AB1', 'ABBBBB2']],\n",
       " [['ABBB1', 'ABBBB1', 'AB1', 'ABBBBB2']],\n",
       " [['ABBB1', 'ABBBB1', 'AB1', 'ABBBBB2']],\n",
       " [['ABBB1', 'ABBBB1', 'AB1', 'ABBBBB2']]]"
      ]
     },
     "execution_count": 104,
     "metadata": {},
     "output_type": "execute_result"
    }
   ],
   "source": [
    "a=a+[[matchL_full2[j1]],[matchL_full2[j2]]]\n",
    "a"
   ]
  },
  {
   "cell_type": "code",
   "execution_count": 91,
   "id": "dbed1268",
   "metadata": {},
   "outputs": [
    {
     "name": "stdout",
     "output_type": "stream",
     "text": [
      "['ABBB1', 'AB1', 'ABBBAB2']\n"
     ]
    }
   ],
   "source": [
    "print(mergeL2[0])"
   ]
  },
  {
   "cell_type": "code",
   "execution_count": 106,
   "id": "b73d8084",
   "metadata": {},
   "outputs": [
    {
     "name": "stdout",
     "output_type": "stream",
     "text": [
      "['AAB1', 'AABAAA2', 'AABAA1', 'AB1', 'A1', 'ABBABA2']\n",
      "['A1', 'AB1', 'ABBABA2', 'AABAA1', 'A1', 'AAB1', 'AABAAA2']\n",
      "[ True False False False False False]\n"
     ]
    }
   ],
   "source": [
    "print(MaxList)\n",
    "print(MaxList2)\n",
    "print(MaxBool)"
   ]
  },
  {
   "cell_type": "code",
   "execution_count": 63,
   "id": "5d01c5aa",
   "metadata": {},
   "outputs": [
    {
     "data": {
      "text/plain": [
       "array([array([ True, False, False, False, False, False]),\n",
       "       array([ True, False, False, False, False, False]),\n",
       "       array([ True, False, False, False, False, False]),\n",
       "       array([ True, False, False, False, False, False]),\n",
       "       array([ True, False, False, False, False, False]),\n",
       "       array([ True, False, False, False, False, False]),\n",
       "       array([ True, False, False, False, False, False]),\n",
       "       array([ True, False, False, False, False, False]),\n",
       "       array([ True, False, False, False, False, False]),\n",
       "       array([ True, False, False, False, False, False]),\n",
       "       array([False, False, False, False, False, False]),\n",
       "       array([ True, False, False, False, False, False]),\n",
       "       array([False, False, False, False, False, False]),\n",
       "       array([ True, False, False, False, False, False]),\n",
       "       array([ True, False, False, False, False, False]),\n",
       "       array([ True, False, False, False, False, False]),\n",
       "       array([ True, False, False, False, False, False]),\n",
       "       array([False, False, False, False, False, False]),\n",
       "       array([ True, False, False, False, False, False]),\n",
       "       array([ True, False, False, False, False, False]),\n",
       "       array([ True, False, False, False, False, False])], dtype=object)"
      ]
     },
     "execution_count": 63,
     "metadata": {},
     "output_type": "execute_result"
    }
   ],
   "source": [
    "boolP_full"
   ]
  },
  {
   "cell_type": "code",
   "execution_count": 42,
   "id": "551c1f1d",
   "metadata": {},
   "outputs": [
    {
     "data": {
      "text/plain": [
       "array([0.33333333, 0.16666667, 0.16666667, 0.16666667, 0.16666667,\n",
       "       0.16666667, 0.5       , 0.16666667, 0.16666667, 0.33333333,\n",
       "       0.5       , 0.33333333, 0.5       , 0.16666667, 0.16666667,\n",
       "       0.33333333])"
      ]
     },
     "execution_count": 42,
     "metadata": {},
     "output_type": "execute_result"
    }
   ],
   "source": [
    "matchN/matchN2"
   ]
  },
  {
   "cell_type": "code",
   "execution_count": 233,
   "id": "a6a859e5",
   "metadata": {
    "scrolled": true
   },
   "outputs": [
    {
     "name": "stdout",
     "output_type": "stream",
     "text": [
      "Local cdn resources have problems on chrome/safari when used in jupyter-notebook. \n"
     ]
    },
    {
     "data": {
      "text/html": [
       "\n",
       "        <iframe\n",
       "            width=\"1500px\"\n",
       "            height=\"500px\"\n",
       "            src=\"class_list6.html\"\n",
       "            frameborder=\"0\"\n",
       "            allowfullscreen\n",
       "            \n",
       "        ></iframe>\n",
       "        "
      ],
      "text/plain": [
       "<IPython.lib.display.IFrame at 0x12a856610>"
      ]
     },
     "execution_count": 233,
     "metadata": {},
     "output_type": "execute_result"
    }
   ],
   "source": [
    "nodeSize=10\n",
    "conWidth=2\n",
    "rNd=40\n",
    "\n",
    "network = Network(\n",
    "    height=\"500px\",  # default param = 500px\n",
    "    width=\"1500px\",  # default param = 500px\n",
    "    notebook=True,  # For jupyter notebook, it should be True\n",
    "    bgcolor=\"rgb(255,255,255)\",  # default color = \"#ffffff\" \"rgb(255,255,255)\"\n",
    "    directed=True,   # directional graph = True, non- directinal graph = False\n",
    ")\n",
    "str2num=lambda S: [ord(d)-ord('A')+1 if not(str.isdecimal(d)) else int(d) for d in S ]\n",
    "\n",
    "all_Item=list(set(list(outDict.keys())+sum(outDict.values(), [])))\n",
    "# rLIst=np.random.randint(len(all_Item),size=rNd)\n",
    "\n",
    "# matchL_flat\n",
    "\n",
    "keyList=list(outDict.keys())\n",
    "for k in range(len(all_Item)):\n",
    "    nd= int(\"\".join(map(str, str2num(all_Item[k]))))\n",
    "    if k in rLIst:\n",
    "        colName=\"lightblue\"\n",
    "    else:\n",
    "        colName=\"gray\"\n",
    "    if all_Item[k] in matchL_flat:\n",
    "        colName=\"pink\"\n",
    "    if all_Item[k] in MaxList:\n",
    "        colName=\"red\"\n",
    "    network.add_node(n_id=nd,label=all_Item[k], shape=\"box\",size=nodeSize,color =colName)\n",
    "    \n",
    "for k in range(len(outDict)):\n",
    "    nodeMn= int(\"\".join(map(str, str2num(keyList[k]))))\n",
    "#     print(keyList[k])\n",
    "    nodeS=outDict[keyList[k]]\n",
    "#     print(nodeS)\n",
    "    nodeSn=[ int(\"\".join(map(str, str2num(d)))) for d in nodeS]\n",
    "#     print(nodeSn)\n",
    "    for j in range(len(nodeSn)):\n",
    "        network.add_edge(nodeMn,nodeSn[j], width=conWidth,smooth=\"dynamic\")\n",
    "\n",
    "# output the results in the HTML format (and visualization in the jupyter notebook panel)\n",
    "network.show(\"class_list6.html\")"
   ]
  },
  {
   "cell_type": "code",
   "execution_count": 20,
   "id": "966a0421",
   "metadata": {},
   "outputs": [],
   "source": [
    "# all_Item"
   ]
  }
 ],
 "metadata": {
  "kernelspec": {
   "display_name": "Python 3 (ipykernel)",
   "language": "python",
   "name": "python3"
  },
  "language_info": {
   "codemirror_mode": {
    "name": "ipython",
    "version": 3
   },
   "file_extension": ".py",
   "mimetype": "text/x-python",
   "name": "python",
   "nbconvert_exporter": "python",
   "pygments_lexer": "ipython3",
   "version": "3.9.16"
  }
 },
 "nbformat": 4,
 "nbformat_minor": 5
}
