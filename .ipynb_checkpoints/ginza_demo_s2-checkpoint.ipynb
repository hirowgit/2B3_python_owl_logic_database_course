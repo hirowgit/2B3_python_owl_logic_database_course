{
 "cells": [
  {
   "cell_type": "code",
   "execution_count": 29,
   "metadata": {},
   "outputs": [
    {
     "name": "stdout",
     "output_type": "stream",
     "text": [
      "【トークン】 バルセロナ　->　【レンマ】 バルセロナ\n",
      "【トークン】 五輪　->　【レンマ】 五輪\n",
      "【トークン】 柔道　->　【レンマ】 柔道\n",
      "【トークン】 金　->　【レンマ】 金\n",
      "【トークン】 メダリスト　->　【レンマ】 メダリスト\n",
      "【トークン】 と　->　【レンマ】 と\n",
      "【トークン】 し　->　【レンマ】 する\n",
      "【トークン】 て　->　【レンマ】 て\n",
      "【トークン】 の　->　【レンマ】 の\n",
      "【トークン】 実績　->　【レンマ】 実績\n",
      "【トークン】 を　->　【レンマ】 を\n",
      "【トークン】 引っさげ　->　【レンマ】 引っさげる\n",
      "【トークン】 、　->　【レンマ】 、\n",
      "【トークン】 2002　->　【レンマ】 2002\n",
      "【トークン】 年　->　【レンマ】 年\n",
      "【トークン】 に　->　【レンマ】 に\n",
      "【トークン】 プロ　->　【レンマ】 プロ\n",
      "【トークン】 総合　->　【レンマ】 総合\n",
      "【トークン】 格闘家　->　【レンマ】 格闘家\n",
      "【トークン】 に　->　【レンマ】 に\n",
      "【トークン】 転向　->　【レンマ】 転向\n"
     ]
    }
   ],
   "source": [
    "#トークン化，レンマ化\n",
    "import spacy\n",
    "\n",
    "nlp = spacy.load('ja_ginza_electra')\n",
    "doc = nlp('バルセロナ五輪柔道金メダリストとしての実績を引っさげ、2002年にプロ総合格闘家に転向')\n",
    "\n",
    "for token in doc:\n",
    "    print(\n",
    "       '【トークン】' ,token.text+'　->　'+ \n",
    "       '【レンマ】' ,token.lemma_)"
   ]
  },
  {
   "cell_type": "code",
   "execution_count": null,
   "metadata": {},
   "outputs": [],
   "source": [
    "#品詞解析\n",
    "import spacy\n",
    "\n",
    "nlp = spacy.load('ja_ginza_electra')\n",
    "doc = nlp('バルセロナ五輪柔道金メダリストとしての実績を引っさげ、'\n",
    "    '総合格闘家・吉田秀彦の引退試合興行「ASTRA」の開催が発表された。ATCアーム')\n",
    "\n",
    "for token in doc:\n",
    "    print(\n",
    "       '【トークン】' ,token.text+'　=　'+ \n",
    "       '【品詞】' ,token.tag_)"
   ]
  },
  {
   "cell_type": "code",
   "execution_count": 25,
   "metadata": {},
   "outputs": [
    {
     "name": "stdout",
     "output_type": "stream",
     "text": [
      "[名詞節] これ  [ROOT(文の根)] これ  [DEPENDENCY(依存関係)] nsubj  [HEAD(主辞)] 料理\n",
      "[名詞節] 母  [ROOT(文の根)] 母  [DEPENDENCY(依存関係)] nsubj  [HEAD(主辞)] 作っ\n",
      "[名詞節] 美味しい料理  [ROOT(文の根)] 料理  [DEPENDENCY(依存関係)] ROOT  [HEAD(主辞)] 料理\n"
     ]
    }
   ],
   "source": [
    "#名詞句の依存関係\n",
    "import spacy\n",
    "\n",
    "nlp = spacy.load(\"ja_ginza_electra\")\n",
    "doc = nlp(\"これは母が作った美味しい料理です\")\n",
    "\n",
    "for chunk in doc.noun_chunks:\n",
    "    print('[名詞節]',chunk.text, ' [ROOT(文の根)]',chunk.root.text, ' [DEPENDENCY(依存関係)]',chunk.root.dep_,\n",
    "            ' [HEAD(主辞)]',chunk.root.head.text)\n",
    "\n",
    "#タグの意味はspacy.explain('pobj')で調べることができる\n"
   ]
  },
  {
   "cell_type": "code",
   "execution_count": 28,
   "metadata": {},
   "outputs": [
    {
     "name": "stdout",
     "output_type": "stream",
     "text": [
      "[TEXT] [DEP] [HEAD TEXT] [HEAD POS] [CHILDREN]\n",
      "これ nsubj 料理 NOUN [は]\n",
      "は case これ PRON []\n",
      "母 nsubj 作っ VERB [が]\n",
      "が case 母 NOUN []\n",
      "作っ acl 料理 NOUN [母, た]\n",
      "た aux 作っ VERB []\n",
      "美味しい acl 料理 NOUN []\n",
      "料理 ROOT 料理 NOUN [これ, 作っ, 美味しい, です]\n",
      "です cop 料理 NOUN []\n"
     ]
    },
    {
     "name": "stderr",
     "output_type": "stream",
     "text": [
      "/Users/kotaseri/.pyenv/versions/3.10.4/lib/python3.10/site-packages/torch/amp/autocast_mode.py:198: UserWarning: User provided device_type of 'cuda', but CUDA is not available. Disabling\n",
      "  warnings.warn('User provided device_type of \\'cuda\\', but CUDA is not available. Disabling')\n"
     ]
    }
   ],
   "source": [
    "#文全体の依存関係\n",
    "#headとchildの有効グラフで全ての依存関係が示される\n",
    "import spacy\n",
    "\n",
    "nlp = spacy.load('ja_ginza_electra')\n",
    "doc = nlp(\"これは母が作った美味しい料理です\")\n",
    "\n",
    "print('[TEXT]','[DEP]','[HEAD TEXT]','[HEAD POS]','[CHILDREN]')\n",
    "for token in doc:\n",
    "    print(token.text, token.dep_, token.head.text, token.head.pos_,\n",
    "            [child for child in token.children])"
   ]
  },
  {
   "cell_type": "code",
   "execution_count": null,
   "metadata": {},
   "outputs": [],
   "source": [
    "#依存関係の可視化\n",
    "import spacy\n",
    "from spacy import displacy\n",
    "\n",
    "nlp = spacy.load('ja_ginza_electra')\n",
    "doc = nlp(\"これは母が作った美味しい料理です\")\n",
    "\n",
    "displacy.render(doc, style=\"dep\")"
   ]
  },
  {
   "cell_type": "code",
   "execution_count": 43,
   "metadata": {},
   "outputs": [
    {
     "name": "stdout",
     "output_type": "stream",
     "text": [
      "(大正時代, 主人公, 竈門炭治郎, 山田太郎)\n",
      "text 大正時代 0 4 Era\n",
      "text 主人公 9 12 Position_Vocation\n",
      "text 竈門炭治郎 13 18 Person\n",
      "text 山田太郎 25 29 Person\n",
      "complete\n"
     ]
    }
   ],
   "source": [
    "#NER(固有表現抽出)\n",
    "import spacy\n",
    "\n",
    "nlp = spacy.load('ja_ginza_electra')\n",
    "doc = nlp(\"大正時代を舞台に、主人公(竈門炭治郎)とその友人(山田太郎)\")\n",
    "\n",
    "print(doc.ents) #固有表現が検出されなければ空のリストになる\n",
    "for ent in doc.ents:\n",
    "    print('text',ent.text, ent.start_char, ent.end_char, ent.label_)\n"
   ]
  },
  {
   "cell_type": "code",
   "execution_count": 45,
   "metadata": {},
   "outputs": [
    {
     "data": {
      "text/html": [
       "<span class=\"tex2jax_ignore\"><div class=\"entities\" style=\"line-height: 2.5; direction: ltr\">\n",
       "<mark class=\"entity\" style=\"background: #ddd; padding: 0.45em 0.6em; margin: 0 0.25em; line-height: 1; border-radius: 0.35em;\">\n",
       "    ATC\n",
       "    <span style=\"font-size: 0.8em; font-weight: bold; line-height: 1; border-radius: 0.35em; vertical-align: middle; margin-left: 0.5rem\">Doctrine_Method_Other</span>\n",
       "</mark>\n",
       "アーム振込動作，\n",
       "<mark class=\"entity\" style=\"background: #ddd; padding: 0.45em 0.6em; margin: 0 0.25em; line-height: 1; border-radius: 0.35em;\">\n",
       "    大正時代\n",
       "    <span style=\"font-size: 0.8em; font-weight: bold; line-height: 1; border-radius: 0.35em; vertical-align: middle; margin-left: 0.5rem\">Era</span>\n",
       "</mark>\n",
       "を舞台に、主人公(\n",
       "<mark class=\"entity\" style=\"background: #ddd; padding: 0.45em 0.6em; margin: 0 0.25em; line-height: 1; border-radius: 0.35em;\">\n",
       "    竈門炭治郎\n",
       "    <span style=\"font-size: 0.8em; font-weight: bold; line-height: 1; border-radius: 0.35em; vertical-align: middle; margin-left: 0.5rem\">Show_Organization</span>\n",
       "</mark>\n",
       ")とその友人(\n",
       "<mark class=\"entity\" style=\"background: #aa9cfc; padding: 0.45em 0.6em; margin: 0 0.25em; line-height: 1; border-radius: 0.35em;\">\n",
       "    山田太郎\n",
       "    <span style=\"font-size: 0.8em; font-weight: bold; line-height: 1; border-radius: 0.35em; vertical-align: middle; margin-left: 0.5rem\">Person</span>\n",
       "</mark>\n",
       ")</div></span>"
      ],
      "text/plain": [
       "<IPython.core.display.HTML object>"
      ]
     },
     "metadata": {},
     "output_type": "display_data"
    }
   ],
   "source": [
    "#NERの可視化\n",
    "import spacy\n",
    "from spacy import displacy\n",
    "\n",
    "nlp = spacy.load('ja_ginza_electra')\n",
    "doc = nlp(\"ATCアーム振込動作，大正時代を舞台に、主人公(竈門炭治郎)とその友人(山田太郎)\")\n",
    "\n",
    "displacy.render(doc, style=\"ent\")"
   ]
  },
  {
   "cell_type": "code",
   "execution_count": 47,
   "metadata": {},
   "outputs": [
    {
     "name": "stdout",
     "output_type": "stream",
     "text": [
      "[(15578876784678163569, 0, 2)]\n"
     ]
    },
    {
     "name": "stderr",
     "output_type": "stream",
     "text": [
      "/Users/kotaseri/.pyenv/versions/3.10.4/lib/python3.10/site-packages/torch/amp/autocast_mode.py:198: UserWarning: User provided device_type of 'cuda', but CUDA is not available. Disabling\n",
      "  warnings.warn('User provided device_type of \\'cuda\\', but CUDA is not available. Disabling')\n"
     ]
    }
   ],
   "source": [
    "from spacy.matcher import Matcher\n",
    "\n",
    "matcher = Matcher(nlp.vocab)\n",
    "pattern = [{\"LOWER\": \"hello\"}, {\"LOWER\": \"world\"}]\n",
    "matcher.add(\"HelloWorld\", [pattern])\n",
    "doc = nlp(\"hello world!\")\n",
    "matches = matcher(doc)\n",
    "\n",
    "print(matches)"
   ]
  }
 ],
 "metadata": {
  "kernelspec": {
   "display_name": "Python 3",
   "language": "python",
   "name": "python3"
  },
  "language_info": {
   "codemirror_mode": {
    "name": "ipython",
    "version": 3
   },
   "file_extension": ".py",
   "mimetype": "text/x-python",
   "name": "python",
   "nbconvert_exporter": "python",
   "pygments_lexer": "ipython3",
   "version": "3.9.13"
  },
  "vscode": {
   "interpreter": {
    "hash": "3518c76ac2e27c8eeca9f3949406b6132e0bedc92d170e6fc4ccaa4c9bfb7e2c"
   }
  }
 },
 "nbformat": 4,
 "nbformat_minor": 2
}
