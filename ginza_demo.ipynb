{
 "cells": [
  {
   "cell_type": "code",
   "execution_count": 29,
   "metadata": {},
   "outputs": [
    {
     "name": "stdout",
     "output_type": "stream",
     "text": [
      "【トークン】 バルセロナ　->　【レンマ】 バルセロナ\n",
      "【トークン】 五輪　->　【レンマ】 五輪\n",
      "【トークン】 柔道　->　【レンマ】 柔道\n",
      "【トークン】 金　->　【レンマ】 金\n",
      "【トークン】 メダリスト　->　【レンマ】 メダリスト\n",
      "【トークン】 と　->　【レンマ】 と\n",
      "【トークン】 し　->　【レンマ】 する\n",
      "【トークン】 て　->　【レンマ】 て\n",
      "【トークン】 の　->　【レンマ】 の\n",
      "【トークン】 実績　->　【レンマ】 実績\n",
      "【トークン】 を　->　【レンマ】 を\n",
      "【トークン】 引っさげ　->　【レンマ】 引っさげる\n",
      "【トークン】 、　->　【レンマ】 、\n",
      "【トークン】 2002　->　【レンマ】 2002\n",
      "【トークン】 年　->　【レンマ】 年\n",
      "【トークン】 に　->　【レンマ】 に\n",
      "【トークン】 プロ　->　【レンマ】 プロ\n",
      "【トークン】 総合　->　【レンマ】 総合\n",
      "【トークン】 格闘家　->　【レンマ】 格闘家\n",
      "【トークン】 に　->　【レンマ】 に\n",
      "【トークン】 転向　->　【レンマ】 転向\n"
     ]
    }
   ],
   "source": [
    "#トークン化，レンマ化\n",
    "import spacy\n",
    "\n",
    "nlp = spacy.load('ja_ginza_electra')\n",
    "doc = nlp('バルセロナ五輪柔道金メダリストとしての実績を引っさげ、2002年にプロ総合格闘家に転向')\n",
    "\n",
    "for token in doc:\n",
    "    print(\n",
    "       '【トークン】' ,token.text+'　->　'+ \n",
    "       '【レンマ】' ,token.lemma_)"
   ]
  },
  {
   "cell_type": "code",
   "execution_count": 7,
   "metadata": {},
   "outputs": [
    {
     "name": "stdout",
     "output_type": "stream",
     "text": [
      "【トークン】 バルセロナ　=　【品詞】 名詞-固有名詞-地名-一般\n",
      "【トークン】 五輪　=　【品詞】 名詞-普通名詞-一般\n",
      "【トークン】 柔道　=　【品詞】 名詞-普通名詞-一般\n",
      "【トークン】 金　=　【品詞】 接尾辞-名詞的-一般\n",
      "【トークン】 メダリスト　=　【品詞】 名詞-普通名詞-一般\n",
      "【トークン】 と　=　【品詞】 助詞-格助詞\n",
      "【トークン】 し　=　【品詞】 動詞-非自立可能\n",
      "【トークン】 て　=　【品詞】 助詞-接続助詞\n",
      "【トークン】 の　=　【品詞】 助詞-格助詞\n",
      "【トークン】 実績　=　【品詞】 名詞-普通名詞-一般\n",
      "【トークン】 を　=　【品詞】 助詞-格助詞\n",
      "【トークン】 引っさげ　=　【品詞】 動詞-一般\n",
      "【トークン】 、　=　【品詞】 補助記号-読点\n",
      "【トークン】 総合　=　【品詞】 名詞-普通名詞-サ変可能\n",
      "【トークン】 格闘家　=　【品詞】 名詞-普通名詞-一般\n",
      "【トークン】 ・　=　【品詞】 補助記号-一般\n",
      "【トークン】 吉田　=　【品詞】 名詞-固有名詞-人名-姓\n",
      "【トークン】 秀彦　=　【品詞】 名詞-固有名詞-人名-名\n",
      "【トークン】 の　=　【品詞】 助詞-格助詞\n",
      "【トークン】 引退　=　【品詞】 名詞-普通名詞-サ変可能\n",
      "【トークン】 試合　=　【品詞】 名詞-普通名詞-サ変可能\n",
      "【トークン】 興行　=　【品詞】 名詞-普通名詞-サ変可能\n",
      "【トークン】 「　=　【品詞】 補助記号-括弧開\n",
      "【トークン】 ASTRA　=　【品詞】 名詞-普通名詞-一般\n",
      "【トークン】 」　=　【品詞】 補助記号-括弧閉\n",
      "【トークン】 の　=　【品詞】 助詞-格助詞\n",
      "【トークン】 開催　=　【品詞】 名詞-普通名詞-サ変可能\n",
      "【トークン】 が　=　【品詞】 助詞-格助詞\n",
      "【トークン】 発表　=　【品詞】 名詞-普通名詞-サ変可能\n",
      "【トークン】 さ　=　【品詞】 動詞-非自立可能\n",
      "【トークン】 れ　=　【品詞】 助動詞\n",
      "【トークン】 た　=　【品詞】 助動詞\n",
      "【トークン】 。　=　【品詞】 補助記号-句点\n",
      "【トークン】 ATC　=　【品詞】 名詞-普通名詞-一般\n",
      "【トークン】 アーム　=　【品詞】 名詞-普通名詞-一般\n"
     ]
    }
   ],
   "source": [
    "#品詞解析\n",
    "import spacy\n",
    "\n",
    "nlp = spacy.load('ja_ginza_electra')\n",
    "doc = nlp('バルセロナ五輪柔道金メダリストとしての実績を引っさげ、'\n",
    "    '総合格闘家・吉田秀彦の引退試合興行「ASTRA」の開催が発表された。ATCアーム')\n",
    "\n",
    "for token in doc:\n",
    "    print(\n",
    "       '【トークン】' ,token.text+'　=　'+ \n",
    "       '【品詞】' ,token.tag_)"
   ]
  },
  {
   "cell_type": "code",
   "execution_count": 25,
   "metadata": {},
   "outputs": [
    {
     "name": "stdout",
     "output_type": "stream",
     "text": [
      "[名詞節] これ  [ROOT(文の根)] これ  [DEPENDENCY(依存関係)] nsubj  [HEAD(主辞)] 料理\n",
      "[名詞節] 母  [ROOT(文の根)] 母  [DEPENDENCY(依存関係)] nsubj  [HEAD(主辞)] 作っ\n",
      "[名詞節] 美味しい料理  [ROOT(文の根)] 料理  [DEPENDENCY(依存関係)] ROOT  [HEAD(主辞)] 料理\n"
     ]
    }
   ],
   "source": [
    "#名詞句の依存関係\n",
    "import spacy\n",
    "\n",
    "nlp = spacy.load(\"ja_ginza_electra\")\n",
    "doc = nlp(\"これは母が作った美味しい料理です\")\n",
    "\n",
    "for chunk in doc.noun_chunks:\n",
    "    print('[名詞節]',chunk.text, ' [ROOT(文の根)]',chunk.root.text, ' [DEPENDENCY(依存関係)]',chunk.root.dep_,\n",
    "            ' [HEAD(主辞)]',chunk.root.head.text)\n",
    "\n",
    "#タグの意味はspacy.explain('pobj')で調べることができる\n"
   ]
  },
  {
   "cell_type": "code",
   "execution_count": 3,
   "metadata": {},
   "outputs": [
    {
     "name": "stdout",
     "output_type": "stream",
     "text": [
      "[TEXT] [DEP] [HEAD TEXT] [HEAD POS] [CHILDREN]\n",
      "これ nsubj 料理 NOUN [は]\n",
      "は case これ PRON []\n",
      "母 nsubj 作っ VERB [が]\n",
      "が case 母 NOUN []\n",
      "作っ acl 料理 NOUN [母, た]\n",
      "た aux 作っ VERB []\n",
      "美味しい acl 料理 NOUN []\n",
      "料理 ROOT 料理 NOUN [これ, 作っ, 美味しい, です]\n",
      "です cop 料理 NOUN []\n"
     ]
    }
   ],
   "source": [
    "#文全体の依存関係\n",
    "#headとchildの有効グラフで全ての依存関係が示される\n",
    "import spacy\n",
    "\n",
    "nlp = spacy.load('ja_ginza_electra')\n",
    "doc = nlp(\"これは母が作った美味しい料理です\")\n",
    "\n",
    "print('[TEXT]','[DEP]','[HEAD TEXT]','[HEAD POS]','[CHILDREN]')\n",
    "for token in doc:\n",
    "    print(token.text, token.dep_, token.head.text, token.head.pos_,\n",
    "            [child for child in token.children])"
   ]
  },
  {
   "cell_type": "code",
   "execution_count": 6,
   "metadata": {},
   "outputs": [
    {
     "data": {
      "text/html": [
       "<span class=\"tex2jax_ignore\"><svg xmlns=\"http://www.w3.org/2000/svg\" xmlns:xlink=\"http://www.w3.org/1999/xlink\" xml:lang=\"ja\" id=\"ed786e9b8a09491aac58745d438504dc-0\" class=\"displacy\" width=\"1625\" height=\"487.0\" direction=\"ltr\" style=\"max-width: none; height: 487.0px; color: #000000; background: #ffffff; font-family: Arial; direction: ltr\">\n",
       "<text class=\"displacy-token\" fill=\"currentColor\" text-anchor=\"middle\" y=\"397.0\">\n",
       "    <tspan class=\"displacy-word\" fill=\"currentColor\" x=\"50\">これ</tspan>\n",
       "    <tspan class=\"displacy-tag\" dy=\"2em\" fill=\"currentColor\" x=\"50\">PRON</tspan>\n",
       "</text>\n",
       "\n",
       "<text class=\"displacy-token\" fill=\"currentColor\" text-anchor=\"middle\" y=\"397.0\">\n",
       "    <tspan class=\"displacy-word\" fill=\"currentColor\" x=\"225\">は</tspan>\n",
       "    <tspan class=\"displacy-tag\" dy=\"2em\" fill=\"currentColor\" x=\"225\">ADP</tspan>\n",
       "</text>\n",
       "\n",
       "<text class=\"displacy-token\" fill=\"currentColor\" text-anchor=\"middle\" y=\"397.0\">\n",
       "    <tspan class=\"displacy-word\" fill=\"currentColor\" x=\"400\">母</tspan>\n",
       "    <tspan class=\"displacy-tag\" dy=\"2em\" fill=\"currentColor\" x=\"400\">NOUN</tspan>\n",
       "</text>\n",
       "\n",
       "<text class=\"displacy-token\" fill=\"currentColor\" text-anchor=\"middle\" y=\"397.0\">\n",
       "    <tspan class=\"displacy-word\" fill=\"currentColor\" x=\"575\">が</tspan>\n",
       "    <tspan class=\"displacy-tag\" dy=\"2em\" fill=\"currentColor\" x=\"575\">ADP</tspan>\n",
       "</text>\n",
       "\n",
       "<text class=\"displacy-token\" fill=\"currentColor\" text-anchor=\"middle\" y=\"397.0\">\n",
       "    <tspan class=\"displacy-word\" fill=\"currentColor\" x=\"750\">作っ</tspan>\n",
       "    <tspan class=\"displacy-tag\" dy=\"2em\" fill=\"currentColor\" x=\"750\">VERB</tspan>\n",
       "</text>\n",
       "\n",
       "<text class=\"displacy-token\" fill=\"currentColor\" text-anchor=\"middle\" y=\"397.0\">\n",
       "    <tspan class=\"displacy-word\" fill=\"currentColor\" x=\"925\">た</tspan>\n",
       "    <tspan class=\"displacy-tag\" dy=\"2em\" fill=\"currentColor\" x=\"925\">AUX</tspan>\n",
       "</text>\n",
       "\n",
       "<text class=\"displacy-token\" fill=\"currentColor\" text-anchor=\"middle\" y=\"397.0\">\n",
       "    <tspan class=\"displacy-word\" fill=\"currentColor\" x=\"1100\">美味しい</tspan>\n",
       "    <tspan class=\"displacy-tag\" dy=\"2em\" fill=\"currentColor\" x=\"1100\">ADJ</tspan>\n",
       "</text>\n",
       "\n",
       "<text class=\"displacy-token\" fill=\"currentColor\" text-anchor=\"middle\" y=\"397.0\">\n",
       "    <tspan class=\"displacy-word\" fill=\"currentColor\" x=\"1275\">料理</tspan>\n",
       "    <tspan class=\"displacy-tag\" dy=\"2em\" fill=\"currentColor\" x=\"1275\">NOUN</tspan>\n",
       "</text>\n",
       "\n",
       "<text class=\"displacy-token\" fill=\"currentColor\" text-anchor=\"middle\" y=\"397.0\">\n",
       "    <tspan class=\"displacy-word\" fill=\"currentColor\" x=\"1450\">です</tspan>\n",
       "    <tspan class=\"displacy-tag\" dy=\"2em\" fill=\"currentColor\" x=\"1450\">AUX</tspan>\n",
       "</text>\n",
       "\n",
       "<g class=\"displacy-arrow\">\n",
       "    <path class=\"displacy-arc\" id=\"arrow-ed786e9b8a09491aac58745d438504dc-0-0\" stroke-width=\"2px\" d=\"M70,352.0 C70,2.0 1275.0,2.0 1275.0,352.0\" fill=\"none\" stroke=\"currentColor\"/>\n",
       "    <text dy=\"1.25em\" style=\"font-size: 0.8em; letter-spacing: 1px\">\n",
       "        <textPath xlink:href=\"#arrow-ed786e9b8a09491aac58745d438504dc-0-0\" class=\"displacy-label\" startOffset=\"50%\" side=\"left\" fill=\"currentColor\" text-anchor=\"middle\">nsubj</textPath>\n",
       "    </text>\n",
       "    <path class=\"displacy-arrowhead\" d=\"M70,354.0 L62,342.0 78,342.0\" fill=\"currentColor\"/>\n",
       "</g>\n",
       "\n",
       "<g class=\"displacy-arrow\">\n",
       "    <path class=\"displacy-arc\" id=\"arrow-ed786e9b8a09491aac58745d438504dc-0-1\" stroke-width=\"2px\" d=\"M70,352.0 C70,264.5 210.0,264.5 210.0,352.0\" fill=\"none\" stroke=\"currentColor\"/>\n",
       "    <text dy=\"1.25em\" style=\"font-size: 0.8em; letter-spacing: 1px\">\n",
       "        <textPath xlink:href=\"#arrow-ed786e9b8a09491aac58745d438504dc-0-1\" class=\"displacy-label\" startOffset=\"50%\" side=\"left\" fill=\"currentColor\" text-anchor=\"middle\">case</textPath>\n",
       "    </text>\n",
       "    <path class=\"displacy-arrowhead\" d=\"M210.0,354.0 L218.0,342.0 202.0,342.0\" fill=\"currentColor\"/>\n",
       "</g>\n",
       "\n",
       "<g class=\"displacy-arrow\">\n",
       "    <path class=\"displacy-arc\" id=\"arrow-ed786e9b8a09491aac58745d438504dc-0-2\" stroke-width=\"2px\" d=\"M420,352.0 C420,177.0 740.0,177.0 740.0,352.0\" fill=\"none\" stroke=\"currentColor\"/>\n",
       "    <text dy=\"1.25em\" style=\"font-size: 0.8em; letter-spacing: 1px\">\n",
       "        <textPath xlink:href=\"#arrow-ed786e9b8a09491aac58745d438504dc-0-2\" class=\"displacy-label\" startOffset=\"50%\" side=\"left\" fill=\"currentColor\" text-anchor=\"middle\">nsubj</textPath>\n",
       "    </text>\n",
       "    <path class=\"displacy-arrowhead\" d=\"M420,354.0 L412,342.0 428,342.0\" fill=\"currentColor\"/>\n",
       "</g>\n",
       "\n",
       "<g class=\"displacy-arrow\">\n",
       "    <path class=\"displacy-arc\" id=\"arrow-ed786e9b8a09491aac58745d438504dc-0-3\" stroke-width=\"2px\" d=\"M420,352.0 C420,264.5 560.0,264.5 560.0,352.0\" fill=\"none\" stroke=\"currentColor\"/>\n",
       "    <text dy=\"1.25em\" style=\"font-size: 0.8em; letter-spacing: 1px\">\n",
       "        <textPath xlink:href=\"#arrow-ed786e9b8a09491aac58745d438504dc-0-3\" class=\"displacy-label\" startOffset=\"50%\" side=\"left\" fill=\"currentColor\" text-anchor=\"middle\">case</textPath>\n",
       "    </text>\n",
       "    <path class=\"displacy-arrowhead\" d=\"M560.0,354.0 L568.0,342.0 552.0,342.0\" fill=\"currentColor\"/>\n",
       "</g>\n",
       "\n",
       "<g class=\"displacy-arrow\">\n",
       "    <path class=\"displacy-arc\" id=\"arrow-ed786e9b8a09491aac58745d438504dc-0-4\" stroke-width=\"2px\" d=\"M770,352.0 C770,89.5 1270.0,89.5 1270.0,352.0\" fill=\"none\" stroke=\"currentColor\"/>\n",
       "    <text dy=\"1.25em\" style=\"font-size: 0.8em; letter-spacing: 1px\">\n",
       "        <textPath xlink:href=\"#arrow-ed786e9b8a09491aac58745d438504dc-0-4\" class=\"displacy-label\" startOffset=\"50%\" side=\"left\" fill=\"currentColor\" text-anchor=\"middle\">acl</textPath>\n",
       "    </text>\n",
       "    <path class=\"displacy-arrowhead\" d=\"M770,354.0 L762,342.0 778,342.0\" fill=\"currentColor\"/>\n",
       "</g>\n",
       "\n",
       "<g class=\"displacy-arrow\">\n",
       "    <path class=\"displacy-arc\" id=\"arrow-ed786e9b8a09491aac58745d438504dc-0-5\" stroke-width=\"2px\" d=\"M770,352.0 C770,264.5 910.0,264.5 910.0,352.0\" fill=\"none\" stroke=\"currentColor\"/>\n",
       "    <text dy=\"1.25em\" style=\"font-size: 0.8em; letter-spacing: 1px\">\n",
       "        <textPath xlink:href=\"#arrow-ed786e9b8a09491aac58745d438504dc-0-5\" class=\"displacy-label\" startOffset=\"50%\" side=\"left\" fill=\"currentColor\" text-anchor=\"middle\">aux</textPath>\n",
       "    </text>\n",
       "    <path class=\"displacy-arrowhead\" d=\"M910.0,354.0 L918.0,342.0 902.0,342.0\" fill=\"currentColor\"/>\n",
       "</g>\n",
       "\n",
       "<g class=\"displacy-arrow\">\n",
       "    <path class=\"displacy-arc\" id=\"arrow-ed786e9b8a09491aac58745d438504dc-0-6\" stroke-width=\"2px\" d=\"M1120,352.0 C1120,264.5 1260.0,264.5 1260.0,352.0\" fill=\"none\" stroke=\"currentColor\"/>\n",
       "    <text dy=\"1.25em\" style=\"font-size: 0.8em; letter-spacing: 1px\">\n",
       "        <textPath xlink:href=\"#arrow-ed786e9b8a09491aac58745d438504dc-0-6\" class=\"displacy-label\" startOffset=\"50%\" side=\"left\" fill=\"currentColor\" text-anchor=\"middle\">acl</textPath>\n",
       "    </text>\n",
       "    <path class=\"displacy-arrowhead\" d=\"M1120,354.0 L1112,342.0 1128,342.0\" fill=\"currentColor\"/>\n",
       "</g>\n",
       "\n",
       "<g class=\"displacy-arrow\">\n",
       "    <path class=\"displacy-arc\" id=\"arrow-ed786e9b8a09491aac58745d438504dc-0-7\" stroke-width=\"2px\" d=\"M1295,352.0 C1295,264.5 1435.0,264.5 1435.0,352.0\" fill=\"none\" stroke=\"currentColor\"/>\n",
       "    <text dy=\"1.25em\" style=\"font-size: 0.8em; letter-spacing: 1px\">\n",
       "        <textPath xlink:href=\"#arrow-ed786e9b8a09491aac58745d438504dc-0-7\" class=\"displacy-label\" startOffset=\"50%\" side=\"left\" fill=\"currentColor\" text-anchor=\"middle\">cop</textPath>\n",
       "    </text>\n",
       "    <path class=\"displacy-arrowhead\" d=\"M1435.0,354.0 L1443.0,342.0 1427.0,342.0\" fill=\"currentColor\"/>\n",
       "</g>\n",
       "</svg></span>"
      ],
      "text/plain": [
       "<IPython.core.display.HTML object>"
      ]
     },
     "metadata": {},
     "output_type": "display_data"
    }
   ],
   "source": [
    "#依存関係の可視化\n",
    "import spacy\n",
    "from spacy import displacy\n",
    "\n",
    "nlp = spacy.load('ja_ginza_electra')\n",
    "doc = nlp(\"これは母が作った美味しい料理です\")\n",
    "\n",
    "displacy.render(doc, style=\"dep\")"
   ]
  },
  {
   "cell_type": "code",
   "execution_count": 4,
   "metadata": {},
   "outputs": [
    {
     "name": "stdout",
     "output_type": "stream",
     "text": [
      "(大正時代, 主人公, 竈門炭治郎, 山田太郎)\n",
      "text 大正時代 0 4 Era\n",
      "text 主人公 9 12 Position_Vocation\n",
      "text 竈門炭治郎 13 18 Person\n",
      "text 山田太郎 25 29 Person\n"
     ]
    }
   ],
   "source": [
    "#NER(固有表現抽出)\n",
    "import spacy\n",
    "\n",
    "nlp = spacy.load('ja_ginza_electra')\n",
    "doc = nlp(\"大正時代を舞台に、主人公(竈門炭治郎)とその友人(山田太郎)\")\n",
    "\n",
    "print(doc.ents) #固有表現が検出されなければ空のリストになる\n",
    "for ent in doc.ents:\n",
    "    print('text',ent.text, ent.start_char, ent.end_char, ent.label_)\n"
   ]
  },
  {
   "cell_type": "code",
   "execution_count": 5,
   "metadata": {},
   "outputs": [
    {
     "data": {
      "text/html": [
       "<span class=\"tex2jax_ignore\"><div class=\"entities\" style=\"line-height: 2.5; direction: ltr\">\n",
       "<mark class=\"entity\" style=\"background: #ddd; padding: 0.45em 0.6em; margin: 0 0.25em; line-height: 1; border-radius: 0.35em;\">\n",
       "    A\n",
       "    <span style=\"font-size: 0.8em; font-weight: bold; line-height: 1; border-radius: 0.35em; vertical-align: middle; margin-left: 0.5rem\">Ordinal_Number</span>\n",
       "</mark>\n",
       "アーム投入動作，\n",
       "<mark class=\"entity\" style=\"background: #ddd; padding: 0.45em 0.6em; margin: 0 0.25em; line-height: 1; border-radius: 0.35em;\">\n",
       "    大正時代\n",
       "    <span style=\"font-size: 0.8em; font-weight: bold; line-height: 1; border-radius: 0.35em; vertical-align: middle; margin-left: 0.5rem\">Era</span>\n",
       "</mark>\n",
       "を舞台に、主人公(\n",
       "<mark class=\"entity\" style=\"background: #ddd; padding: 0.45em 0.6em; margin: 0 0.25em; line-height: 1; border-radius: 0.35em;\">\n",
       "    竈門炭治郎\n",
       "    <span style=\"font-size: 0.8em; font-weight: bold; line-height: 1; border-radius: 0.35em; vertical-align: middle; margin-left: 0.5rem\">Broadcast_Program</span>\n",
       "</mark>\n",
       ")とその友人(\n",
       "<mark class=\"entity\" style=\"background: #aa9cfc; padding: 0.45em 0.6em; margin: 0 0.25em; line-height: 1; border-radius: 0.35em;\">\n",
       "    山田太郎\n",
       "    <span style=\"font-size: 0.8em; font-weight: bold; line-height: 1; border-radius: 0.35em; vertical-align: middle; margin-left: 0.5rem\">Person</span>\n",
       "</mark>\n",
       ")</div></span>"
      ],
      "text/plain": [
       "<IPython.core.display.HTML object>"
      ]
     },
     "metadata": {},
     "output_type": "display_data"
    }
   ],
   "source": [
    "#NERの可視化\n",
    "import spacy\n",
    "from spacy import displacy\n",
    "\n",
    "nlp = spacy.load('ja_ginza_electra')\n",
    "doc = nlp(\"Aアーム投入動作，大正時代を舞台に、主人公(竈門炭治郎)とその友人(山田太郎)\")\n",
    "\n",
    "displacy.render(doc, style=\"ent\")"
   ]
  },
  {
   "cell_type": "code",
   "execution_count": 2,
   "metadata": {},
   "outputs": [
    {
     "name": "stdout",
     "output_type": "stream",
     "text": [
      "[(15578876784678163569, 0, 2)]\n"
     ]
    }
   ],
   "source": [
    "from spacy.matcher import Matcher\n",
    "\n",
    "matcher = Matcher(nlp.vocab)\n",
    "pattern = [{\"LOWER\": \"hello\"}, {\"LOWER\": \"world\"}]\n",
    "matcher.add(\"HelloWorld\", [pattern])\n",
    "doc = nlp(\"hello world!\")\n",
    "matches = matcher(doc)\n",
    "\n",
    "print(matches)"
   ]
  },
  {
   "cell_type": "code",
   "execution_count": null,
   "metadata": {},
   "outputs": [],
   "source": []
  }
 ],
 "metadata": {
  "kernelspec": {
   "display_name": "Python 3",
   "language": "python",
   "name": "python3"
  },
  "language_info": {
   "codemirror_mode": {
    "name": "ipython",
    "version": 3
   },
   "file_extension": ".py",
   "mimetype": "text/x-python",
   "name": "python",
   "nbconvert_exporter": "python",
   "pygments_lexer": "ipython3",
   "version": "3.9.13"
  },
  "vscode": {
   "interpreter": {
    "hash": "3518c76ac2e27c8eeca9f3949406b6132e0bedc92d170e6fc4ccaa4c9bfb7e2c"
   }
  }
 },
 "nbformat": 4,
 "nbformat_minor": 2
}
