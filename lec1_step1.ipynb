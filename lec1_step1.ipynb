{
 "cells": [
  {
   "cell_type": "code",
   "execution_count": 15,
   "metadata": {},
   "outputs": [],
   "source": [
    "## Python course for data scientists in a moderate level, supported by Wagatsuma Lab@Kyutech \n",
    "#\n",
    "# The MIT License (MIT): Copyright (c) 2022 Hiroaki Wagatsuma and Wagatsuma Lab@Kyutech\n",
    "# \n",
    "# Permission is hereby granted, free of charge, to any person obtaining a copy of this software and associated documentation files (the \"Software\"), to deal in the Software without restriction, including without limitation the rights to use, copy, modify, merge, publish, distribute, sublicense, and/or sell copies of the Software, and to permit persons to whom the Software is furnished to do so, subject to the following conditions:\n",
    "# The above copyright notice and this permission notice shall be included in all copies or substantial portions of the Software.\n",
    "# THE SOFTWARE IS PROVIDED \"AS IS\", WITHOUT WARRANTY OF ANY KIND, EXPRESS OR IMPLIED, INCLUDING BUT NOT LIMITED TO THE WARRANTIES OF MERCHANTABILITY, FITNESS FOR A PARTICULAR PURPOSE AND NONINFRINGEMENT. IN NO EVENT SHALL THE AUTHORS OR COPYRIGHT HOLDERS BE LIABLE FOR ANY CLAIM, DAMAGES OR OTHER LIABILITY, WHETHER IN AN ACTION OF CONTRACT, TORT OR OTHERWISE, ARISING FROM, OUT OF OR IN CONNECTION WITH THE SOFTWARE OR THE USE OR OTHER DEALINGS IN THE SOFTWARE. */\n",
    "#\n",
    "# # @Time    : 2022-03-27 \n",
    "# # @Author  : Hiroaki Wagatsuma\n",
    "# # @Site    : https://github.com/hirowgit/2B3_python_owl_logic_database_course\n",
    "# # @IDE     : Python 3.9.7 (default, Oct 17 2021, 16:26:06) [Clang 10.0.0 (clang-1000.11.45.5)] on darwin\n",
    "# # @File    : lec1_step1.py "
   ]
  },
  {
   "cell_type": "code",
   "execution_count": 1,
   "metadata": {},
   "outputs": [
    {
     "name": "stdout",
     "output_type": "stream",
     "text": [
      "['strawberry', 'grape', 'tomato']\n"
     ]
    }
   ],
   "source": [
    "fruits = ['strawberry', 'grape', 'tomato'];\n",
    "print(fruits);"
   ]
  },
  {
   "cell_type": "code",
   "execution_count": 2,
   "metadata": {},
   "outputs": [
    {
     "name": "stdout",
     "output_type": "stream",
     "text": [
      "strawberry\n",
      "grape\n",
      "tomato\n"
     ]
    }
   ],
   "source": [
    "fruits = ['strawberry', 'grape', 'tomato'];\n",
    "for x in fruits:\n",
    "  print(x)"
   ]
  },
  {
   "cell_type": "code",
   "execution_count": 5,
   "metadata": {},
   "outputs": [
    {
     "name": "stdout",
     "output_type": "stream",
     "text": [
      "OK\n"
     ]
    }
   ],
   "source": [
    "import requests\n",
    "import xml.etree.ElementTree as et\n",
    "print(\"OK\")"
   ]
  },
  {
   "cell_type": "code",
   "execution_count": 6,
   "metadata": {},
   "outputs": [],
   "source": [
    "#  code from https://www.y-shinno.com/pubmed-api/\n",
    "import requests\n",
    "import xml.etree.ElementTree as et\n",
    "\n",
    "# 検索\n",
    "url = \"https://eutils.ncbi.nlm.nih.gov/entrez/eutils/esearch.fcgi\"\n",
    "payload = {\n",
    "    \"db\":\"pubmed\",\n",
    "    \"term\":\"collagen AND skin AND (intake OR adsorption OR supplementation) AND (meta-analysis[pt] OR review[pt] OR systematic review[pt])\",\n",
    "    \"usehistory\":\"y\"\n",
    "}\n",
    "\n",
    "ret = requests.get(url, params=payload)\n",
    "xml = ret.text.encode(\"utf-8\")\n",
    "root = et.fromstring(xml)\n",
    "\n",
    "\n",
    "# 検索結果から論文タイトルとAbstractを取得しテキストファイルに書き込む\n",
    "url = \"https://eutils.ncbi.nlm.nih.gov/entrez/eutils/efetch.fcgi\"\n",
    "payload = {\n",
    "    \"db\" : \"pubmed\",\n",
    "    \"query_key\" : root.findtext(\"QueryKey\"),\n",
    "    \"WebEnv\" : root.findtext(\"WebEnv\"),\n",
    "    \"retmode\" : \"text\",\n",
    "    \"rettype\" : \"abstract\"\n",
    "}\n",
    "\n",
    "ret = requests.get(url, params=payload)\n",
    "with open(\"sample.txt\", \"w\", encoding=\"utf-8\") as f:\n",
    "    f.write(ret.text)"
   ]
  },
  {
   "cell_type": "code",
   "execution_count": 39,
   "metadata": {},
   "outputs": [
    {
     "name": "stdout",
     "output_type": "stream",
     "text": [
      "marmoset AND parkinson\n",
      "marmoset AND parkinson AND disease\n",
      "<Response [200]>\n"
     ]
    }
   ],
   "source": [
    "import requests\n",
    "import xml.etree.ElementTree as xmlet\n",
    "\n",
    "#pubmed URL\n",
    "url_header=\"https://eutils.ncbi.nlm.nih.gov/entrez/eutils/\"\n",
    "url_footer=[\"esearch.fcgi\",\"efetch.fcgi\"]\n",
    "\n",
    "#backup data\n",
    "fout_name=\"fout_test.txt\"\n",
    "\n",
    "fkeys=[\"marmoset\",\"parkinson\",\"disease\"]\n",
    "conj=\" AND \"\n",
    "kterm=fkeys[0]\n",
    "for label in fkeys[1:len(fkeys)]:\n",
    "    kterm=kterm+conj+label\n",
    "    print(kterm)\n",
    "\n",
    "# search\n",
    "pubmed_search_url = url_header+url_footer[0]\n",
    "query_keys = {\n",
    "    \"db\":\"pubmed\",\n",
    "    \"term\":kterm,\n",
    "    \"usehistory\":\"y\"\n",
    "    # keeping data for the next fetch action\n",
    "}\n",
    "\n",
    "resD = requests.get(pubmed_search_url, params=query_keys)\n",
    "xmlD = resD.text.encode(\"utf-8\")\n",
    "targetD = xmlet.fromstring(xmlD)\n",
    "print(resD)\n",
    "\n",
    "# dig and get from target ID obtained the previous action\n",
    "pubmed_fetch_url = url_header+url_footer[1]\n",
    "query_keys = {\n",
    "    \"db\" : \"pubmed\",\n",
    "    \"query_key\" : targetD.findtext(\"QueryKey\"),\n",
    "    \"WebEnv\" : targetD.findtext(\"WebEnv\"),\n",
    "    \"retmode\" : \"text\",\n",
    "    \"rettype\" : \"abstract\"\n",
    "}\n",
    "\n",
    "resD = requests.get(pubmed_fetch_url, params=query_keys)\n",
    "with open(fout_name, \"w\", encoding=\"utf-8\") as fid:\n",
    "    fid.write(resD.text)\n"
   ]
  },
  {
   "cell_type": "code",
   "execution_count": 37,
   "metadata": {},
   "outputs": [
    {
     "data": {
      "text/plain": [
       "'https://eutils.ncbi.nlm.nih.gov/entrez/eutils/esearch.fcgi'"
      ]
     },
     "execution_count": 37,
     "metadata": {},
     "output_type": "execute_result"
    }
   ],
   "source": [
    "pubmed_search_url"
   ]
  },
  {
   "cell_type": "code",
   "execution_count": 38,
   "metadata": {},
   "outputs": [
    {
     "name": "stdout",
     "output_type": "stream",
     "text": [
      "<Response [200]>\n"
     ]
    }
   ],
   "source": [
    "print(resD)"
   ]
  },
  {
   "cell_type": "code",
   "execution_count": 16,
   "metadata": {},
   "outputs": [
    {
     "data": {
      "text/plain": [
       "'https://eutils.ncbi.nlm.nih.gov/entrez/eutils/efetch.fcgi'"
      ]
     },
     "execution_count": 16,
     "metadata": {},
     "output_type": "execute_result"
    }
   ],
   "source": [
    "url_header=\"https://eutils.ncbi.nlm.nih.gov/entrez/eutils/\"\n",
    "url_footer=[\"esearch.fcgi\",\"efetch.fcgi\"]\n",
    "url_header+url_footer[1]"
   ]
  },
  {
   "cell_type": "code",
   "execution_count": 9,
   "metadata": {},
   "outputs": [
    {
     "data": {
      "text/plain": [
       "<Response [200]>"
      ]
     },
     "execution_count": 9,
     "metadata": {},
     "output_type": "execute_result"
    }
   ],
   "source": [
    "ret"
   ]
  },
  {
   "cell_type": "code",
   "execution_count": 11,
   "metadata": {},
   "outputs": [
    {
     "data": {
      "text/plain": [
       "b'<?xml version=\"1.0\" encoding=\"UTF-8\" ?>\\n<!DOCTYPE eSearchResult PUBLIC \"-//NLM//DTD esearch 20060628//EN\" \"https://eutils.ncbi.nlm.nih.gov/eutils/dtd/20060628/esearch.dtd\">\\n<eSearchResult><Count>29</Count><RetMax>20</RetMax><RetStart>0</RetStart><QueryKey>1</QueryKey><WebEnv>MCID_623e7c4d46f09b79bb5f8fdc</WebEnv><IdList>\\n<Id>34694676</Id>\\n<Id>34342708</Id>\\n<Id>34196407</Id>\\n<Id>34028179</Id>\\n<Id>33742704</Id>\\n<Id>33291628</Id>\\n<Id>32655772</Id>\\n<Id>32436266</Id>\\n<Id>31600106</Id>\\n<Id>31595607</Id>\\n<Id>31411379</Id>\\n<Id>30813433</Id>\\n<Id>30681787</Id>\\n<Id>30129530</Id>\\n<Id>30127251</Id>\\n<Id>29743767</Id>\\n<Id>28805671</Id>\\n<Id>28629129</Id>\\n<Id>28357176</Id>\\n<Id>27447105</Id>\\n</IdList><TranslationSet><Translation>     <From>collagen</From>     <To>\"collagen\"[MeSH Terms] OR \"collagen\"[All Fields]</To>    </Translation><Translation>     <From>skin</From>     <To>\"skin\"[MeSH Terms] OR \"skin\"[All Fields]</To>    </Translation><Translation>     <From>adsorption</From>     <To>\"adsorption\"[MeSH Terms] OR \"adsorption\"[All Fields]</To>    </Translation></TranslationSet><TranslationStack>   <TermSet>    <Term>\"collagen\"[MeSH Terms]</Term>    <Field>MeSH Terms</Field>    <Count>128680</Count>    <Explode>Y</Explode>   </TermSet>   <TermSet>    <Term>\"collagen\"[All Fields]</Term>    <Field>All Fields</Field>    <Count>238557</Count>    <Explode>N</Explode>   </TermSet>   <OP>OR</OP>   <OP>GROUP</OP>   <TermSet>    <Term>\"skin\"[MeSH Terms]</Term>    <Field>MeSH Terms</Field>    <Count>238707</Count>    <Explode>Y</Explode>   </TermSet>   <TermSet>    <Term>\"skin\"[All Fields]</Term>    <Field>All Fields</Field>    <Count>856962</Count>    <Explode>N</Explode>   </TermSet>   <OP>OR</OP>   <OP>GROUP</OP>   <OP>AND</OP>   <TermSet>    <Term>intake[All Fields]</Term>    <Field>All Fields</Field>    <Count>314821</Count>    <Explode>N</Explode>   </TermSet>   <TermSet>    <Term>\"adsorption\"[MeSH Terms]</Term>    <Field>MeSH Terms</Field>    <Count>71367</Count>    <Explode>Y</Explode>   </TermSet>   <TermSet>    <Term>\"adsorption\"[All Fields]</Term>    <Field>All Fields</Field>    <Count>155683</Count>    <Explode>N</Explode>   </TermSet>   <OP>OR</OP>   <OP>GROUP</OP>   <OP>OR</OP>   <TermSet>    <Term>supplementation[All Fields]</Term>    <Field>All Fields</Field>    <Count>138714</Count>    <Explode>N</Explode>   </TermSet>   <OP>OR</OP>   <OP>GROUP</OP>   <OP>AND</OP>   <TermSet>    <Term>meta-analysis[pt]</Term>    <Field>pt</Field>    <Count>155716</Count>    <Explode>Y</Explode>   </TermSet>   <TermSet>    <Term>review[pt]</Term>    <Field>pt</Field>    <Count>2954156</Count>    <Explode>Y</Explode>   </TermSet>   <OP>OR</OP>   <TermSet>    <Term>systematic review[pt]</Term>    <Field>pt</Field>    <Count>189283</Count>    <Explode>Y</Explode>   </TermSet>   <OP>OR</OP>   <OP>GROUP</OP>   <OP>AND</OP>  </TranslationStack><QueryTranslation>(\"collagen\"[MeSH Terms] OR \"collagen\"[All Fields]) AND (\"skin\"[MeSH Terms] OR \"skin\"[All Fields]) AND (intake[All Fields] OR (\"adsorption\"[MeSH Terms] OR \"adsorption\"[All Fields]) OR supplementation[All Fields]) AND (meta-analysis[pt] OR review[pt] OR systematic review[pt])</QueryTranslation></eSearchResult>\\n'"
      ]
     },
     "execution_count": 11,
     "metadata": {},
     "output_type": "execute_result"
    }
   ],
   "source": [
    "xml"
   ]
  },
  {
   "cell_type": "code",
   "execution_count": 14,
   "metadata": {},
   "outputs": [
    {
     "data": {
      "text/plain": [
       "<Element 'eSearchResult' at 0x10bd93ea0>"
      ]
     },
     "execution_count": 14,
     "metadata": {},
     "output_type": "execute_result"
    }
   ],
   "source": [
    "root"
   ]
  },
  {
   "cell_type": "code",
   "execution_count": 17,
   "metadata": {},
   "outputs": [
    {
     "ename": "SyntaxError",
     "evalue": "unexpected EOF while parsing (2493802091.py, line 1)",
     "output_type": "error",
     "traceback": [
      "\u001b[0;36m  File \u001b[0;32m\"/var/folders/mg/w5t8lkhc8xj79f001s7kzpfh0000gp/T/ipykernel_3790/2493802091.py\"\u001b[0;36m, line \u001b[0;32m1\u001b[0m\n\u001b[0;31m    pubmed_search_url =[\"https://eutils.ncbi.nlm.nih.gov/entrez/eutils/esearch.fcgi\",\u001b[0m\n\u001b[0m                                                                                     ^\u001b[0m\n\u001b[0;31mSyntaxError\u001b[0m\u001b[0;31m:\u001b[0m unexpected EOF while parsing\n"
     ]
    }
   ],
   "source": [
    "pubmed_search_url =[\"https://eutils.ncbi.nlm.nih.gov/entrez/eutils/esearch.fcgi\",\n"
   ]
  },
  {
   "cell_type": "code",
   "execution_count": 28,
   "metadata": {},
   "outputs": [
    {
     "name": "stdout",
     "output_type": "stream",
     "text": [
      "marmoset AND parkinson\n",
      "marmoset AND parkinson AND disease\n"
     ]
    }
   ],
   "source": [
    "fkeys=[\"marmoset\",\"parkinson\",\"disease\"]\n",
    "conj=\" AND \"\n",
    "kterm=fkeys[0]\n",
    "for label in fkeys[1:len(fkeys)]:\n",
    "    kterm=kterm+conj+label\n",
    "    print(kterm)\n",
    "    "
   ]
  }
 ],
 "metadata": {
  "kernelspec": {
   "display_name": "Python 3 (ipykernel)",
   "language": "python",
   "name": "python3"
  },
  "language_info": {
   "codemirror_mode": {
    "name": "ipython",
    "version": 3
   },
   "file_extension": ".py",
   "mimetype": "text/x-python",
   "name": "python",
   "nbconvert_exporter": "python",
   "pygments_lexer": "ipython3",
   "version": "3.9.7"
  }
 },
 "nbformat": 4,
 "nbformat_minor": 2
}
