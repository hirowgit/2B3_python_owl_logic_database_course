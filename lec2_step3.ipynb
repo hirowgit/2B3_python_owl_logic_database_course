{
 "cells": [
  {
   "cell_type": "code",
   "execution_count": null,
   "id": "2962698f",
   "metadata": {},
   "outputs": [],
   "source": [
    "## Python course for data scientists in a moderate level, supported by Wagatsuma Lab@Kyutech \n",
    "#\n",
    "# The MIT License (MIT): Copyright (c) 2022 Hiroaki Wagatsuma and Wagatsuma Lab@Kyutech\n",
    "# \n",
    "# Permission is hereby granted, free of charge, to any person obtaining a copy of this software and associated documentation files (the \"Software\"), to deal in the Software without restriction, including without limitation the rights to use, copy, modify, merge, publish, distribute, sublicense, and/or sell copies of the Software, and to permit persons to whom the Software is furnished to do so, subject to the following conditions:\n",
    "# The above copyright notice and this permission notice shall be included in all copies or substantial portions of the Software.\n",
    "# THE SOFTWARE IS PROVIDED \"AS IS\", WITHOUT WARRANTY OF ANY KIND, EXPRESS OR IMPLIED, INCLUDING BUT NOT LIMITED TO THE WARRANTIES OF MERCHANTABILITY, FITNESS FOR A PARTICULAR PURPOSE AND NONINFRINGEMENT. IN NO EVENT SHALL THE AUTHORS OR COPYRIGHT HOLDERS BE LIABLE FOR ANY CLAIM, DAMAGES OR OTHER LIABILITY, WHETHER IN AN ACTION OF CONTRACT, TORT OR OTHERWISE, ARISING FROM, OUT OF OR IN CONNECTION WITH THE SOFTWARE OR THE USE OR OTHER DEALINGS IN THE SOFTWARE. */\n",
    "#\n",
    "# # @Time    : 2023-02-03 \n",
    "# # @Author  : Hiroaki Wagatsuma\n",
    "# # @Site    : https://github.com/hirowgit/2B3_python_owl_logic_database_course\n",
    "# # @IDE     : Python 3.9.16 (main, Dec  7 2022, 10:15:43) [Clang 14.0.0 (clang-1400.0.29.202)] on darwin\n",
    "# # @File    : lec2_step3.py \n"
   ]
  },
  {
   "cell_type": "code",
   "execution_count": 1,
   "id": "8e1bbb09",
   "metadata": {},
   "outputs": [],
   "source": [
    "import numpy as np\n",
    "import re\n",
    "from pyvis.network import Network\n",
    "import networkx as nx\n",
    "import matplotlib.pyplot as plt"
   ]
  },
  {
   "cell_type": "code",
   "execution_count": 9,
   "id": "f7763fa9",
   "metadata": {},
   "outputs": [
    {
     "name": "stdout",
     "output_type": "stream",
     "text": [
      "{'A1': ['AA1', 'AB1', 'AA2', 'AB2'], 'AA1': ['AAA1', 'AAB1', 'AAA2', 'AAB2'], 'AAA1': ['AAAB2', 'AAAA1', 'AAAB1', 'AAAA2'], 'AAAA1': ['AAAAA1', 'AAAAA2', 'AAAAB1', 'AAAAB2'], 'AAAAA1': ['AAAAAB1', 'AAAAAB2', 'AAAAAA2', 'AAAAAA1'], 'AAAAB1': ['AAAABA1', 'AAAABA2', 'AAAABB1', 'AAAABB2'], 'AAAB1': ['AAABA2', 'AAABA1', 'AAABB2', 'AAABB1'], 'AAABA1': ['AAABAA1', 'AAABAA2', 'AAABAB1', 'AAABAB2'], 'AAABB1': ['AAABBA2', 'AAABBB2', 'AAABBA1', 'AAABBB1'], 'AAB1': ['AABB2', 'AABA1', 'AABA2', 'AABB1'], 'AABA1': ['AABAB1', 'AABAB2', 'AABAA1', 'AABAA2'], 'AABAA1': ['AABAAA1', 'AABAAA2', 'AABAAB2', 'AABAAB1'], 'AABAB1': ['AABABA2', 'AABABB2', 'AABABA1', 'AABABB1'], 'AABB1': ['AABBB1', 'AABBA1', 'AABBB2', 'AABBA2'], 'AABBA1': ['AABBAA1', 'AABBAB2', 'AABBAB1', 'AABBAA2'], 'AABBB1': ['AABBBA2', 'AABBBB1', 'AABBBB2', 'AABBBA1'], 'AB1': ['ABA1', 'ABB1', 'ABA2', 'ABB2'], 'ABA1': ['ABAB2', 'ABAB1', 'ABAA1', 'ABAA2'], 'ABAA1': ['ABAAA1', 'ABAAA2', 'ABAAB1', 'ABAAB2'], 'ABAAA1': ['ABAAAB2', 'ABAAAA1', 'ABAAAA2', 'ABAAAB1'], 'ABAAB1': ['ABAABB1', 'ABAABA2', 'ABAABB2', 'ABAABA1'], 'ABAB1': ['ABABA2', 'ABABA1', 'ABABB1', 'ABABB2'], 'ABABA1': ['ABABAA2', 'ABABAB2', 'ABABAB1', 'ABABAA1'], 'ABABB1': ['ABABBA2', 'ABABBB1', 'ABABBA1', 'ABABBB2'], 'ABB1': ['ABBB2', 'ABBA2', 'ABBA1', 'ABBB1'], 'ABBA1': ['ABBAB1', 'ABBAA2', 'ABBAB2', 'ABBAA1'], 'ABBAA1': ['ABBAAB2', 'ABBAAA2', 'ABBAAA1', 'ABBAAB1'], 'ABBAB1': ['ABBABA2', 'ABBABA1', 'ABBABB1', 'ABBABB2'], 'ABBB1': ['ABBBA2', 'ABBBA1', 'ABBBB2', 'ABBBB1'], 'ABBBA1': ['ABBBAA1', 'ABBBAB1', 'ABBBAA2', 'ABBBAB2'], 'ABBBB1': ['ABBBBB1', 'ABBBBA1', 'ABBBBA2', 'ABBBBB2']}\n"
     ]
    }
   ],
   "source": [
    "# completed version of making a network of class nodes\n",
    "\n",
    "Nd=2\n",
    "Sd=3\n",
    "\n",
    "def dictMerge(d1,d2):\n",
    "    d1c=d1.copy()\n",
    "    d2c=d2.copy()\n",
    "    cKey=list(set(list(d1c.keys()))&set(list(d2c.keys())))\n",
    "    for key in cKey:\n",
    "        tmpL=d1c[key]+d2c[key]\n",
    "        d2c[key]=list(set(tmpL))\n",
    "    d1c.update(d2c)\n",
    "    return(d1c)\n",
    "\n",
    "def genTree(S):\n",
    "    Nkey = re.search(r'\\d+', S)\n",
    "    Skey = re.search(r'[a-zA-Z]+', S)\n",
    "    if len(S)>=7:\n",
    "        return({})\n",
    "    else:\n",
    "        numK=int(Nkey.group())\n",
    "#         numK=numK+1\n",
    "        strK=Skey.group()\n",
    "        strKn=ord(strK[-1])+1\n",
    "        strK_pre=strK\n",
    "        strK=chr(strKn)\n",
    "        res=[strK+'1']\n",
    "        res={}\n",
    "        listT=[]\n",
    "#         Nd_tmp=np.random.randint(Nd)+1\n",
    "#         Sd_tmp=np.random.randint(Sd)+1\n",
    "        Nd_tmp=Nd\n",
    "        Sd_tmp=Sd\n",
    "        \n",
    "#         paramR=np.random.randint(Sd,size=[Nd_tmp,Sd_tmp])\n",
    "        paramR=np.array([[0,1],[0,1]])\n",
    "        for k in range(len(paramR)):\n",
    "            tmpS=[chr(ord('A')+d)+str(k+1) for d in list(set(paramR[k]))]\n",
    "            for d in tmpS:\n",
    "                res=dictMerge(res,genTree(strK_pre+d))\n",
    "                listT=listT+[strK_pre+d]\n",
    "        \n",
    "        d0={}\n",
    "        if numK==1:\n",
    "            d0[S]=listT\n",
    "        resD=dictMerge(d0,res)\n",
    "        return(resD)\n",
    "\n",
    "outDict=genTree('A1')\n",
    "print(outDict)"
   ]
  },
  {
   "cell_type": "code",
   "execution_count": 12,
   "id": "0044c292",
   "metadata": {},
   "outputs": [
    {
     "name": "stdout",
     "output_type": "stream",
     "text": [
      "[0 2 1 0]\n",
      "[['ABB1', 'ABBB1', 'ABBBAA1'], ['AAABB1', 'AAABBB2']]\n",
      "['ABB1', 'ABBB1', 'ABBBAA1', 'AAABB1', 'AAABBB2']\n",
      "[[0 0]\n",
      " [0 0]]\n",
      "[]\n",
      "[]\n"
     ]
    },
    {
     "ename": "ValueError",
     "evalue": "attempt to get argmax of an empty sequence",
     "output_type": "error",
     "traceback": [
      "\u001b[0;31m---------------------------------------------------------------------------\u001b[0m",
      "\u001b[0;31mValueError\u001b[0m                                Traceback (most recent call last)",
      "\u001b[0;32m/var/folders/mg/w5t8lkhc8xj79f001s7kzpfh0000gp/T/ipykernel_23127/1612885328.py\u001b[0m in \u001b[0;36m<module>\u001b[0;34m\u001b[0m\n\u001b[1;32m     46\u001b[0m \u001b[0mprint\u001b[0m\u001b[0;34m(\u001b[0m\u001b[0mmLN\u001b[0m\u001b[0;34m)\u001b[0m\u001b[0;34m\u001b[0m\u001b[0;34m\u001b[0m\u001b[0m\n\u001b[1;32m     47\u001b[0m \u001b[0;34m\u001b[0m\u001b[0m\n\u001b[0;32m---> 48\u001b[0;31m \u001b[0mkeyMax\u001b[0m\u001b[0;34m=\u001b[0m\u001b[0mnp\u001b[0m\u001b[0;34m.\u001b[0m\u001b[0margmax\u001b[0m\u001b[0;34m(\u001b[0m\u001b[0mmLN\u001b[0m\u001b[0;34m)\u001b[0m\u001b[0;34m\u001b[0m\u001b[0;34m\u001b[0m\u001b[0m\n\u001b[0m\u001b[1;32m     49\u001b[0m \u001b[0;34m\u001b[0m\u001b[0m\n\u001b[1;32m     50\u001b[0m \u001b[0mMaxList\u001b[0m\u001b[0;34m=\u001b[0m\u001b[0mmergeL\u001b[0m\u001b[0;34m[\u001b[0m\u001b[0mkeyMax\u001b[0m\u001b[0;34m]\u001b[0m\u001b[0;34m\u001b[0m\u001b[0;34m\u001b[0m\u001b[0m\n",
      "\u001b[0;32m<__array_function__ internals>\u001b[0m in \u001b[0;36margmax\u001b[0;34m(*args, **kwargs)\u001b[0m\n",
      "\u001b[0;32m/usr/local/lib/python3.9/site-packages/numpy/core/fromnumeric.py\u001b[0m in \u001b[0;36margmax\u001b[0;34m(a, axis, out)\u001b[0m\n\u001b[1;32m   1193\u001b[0m \u001b[0;34m\u001b[0m\u001b[0m\n\u001b[1;32m   1194\u001b[0m     \"\"\"\n\u001b[0;32m-> 1195\u001b[0;31m     \u001b[0;32mreturn\u001b[0m \u001b[0m_wrapfunc\u001b[0m\u001b[0;34m(\u001b[0m\u001b[0ma\u001b[0m\u001b[0;34m,\u001b[0m \u001b[0;34m'argmax'\u001b[0m\u001b[0;34m,\u001b[0m \u001b[0maxis\u001b[0m\u001b[0;34m=\u001b[0m\u001b[0maxis\u001b[0m\u001b[0;34m,\u001b[0m \u001b[0mout\u001b[0m\u001b[0;34m=\u001b[0m\u001b[0mout\u001b[0m\u001b[0;34m)\u001b[0m\u001b[0;34m\u001b[0m\u001b[0;34m\u001b[0m\u001b[0m\n\u001b[0m\u001b[1;32m   1196\u001b[0m \u001b[0;34m\u001b[0m\u001b[0m\n\u001b[1;32m   1197\u001b[0m \u001b[0;34m\u001b[0m\u001b[0m\n",
      "\u001b[0;32m/usr/local/lib/python3.9/site-packages/numpy/core/fromnumeric.py\u001b[0m in \u001b[0;36m_wrapfunc\u001b[0;34m(obj, method, *args, **kwds)\u001b[0m\n\u001b[1;32m     52\u001b[0m     \u001b[0mbound\u001b[0m \u001b[0;34m=\u001b[0m \u001b[0mgetattr\u001b[0m\u001b[0;34m(\u001b[0m\u001b[0mobj\u001b[0m\u001b[0;34m,\u001b[0m \u001b[0mmethod\u001b[0m\u001b[0;34m,\u001b[0m \u001b[0;32mNone\u001b[0m\u001b[0;34m)\u001b[0m\u001b[0;34m\u001b[0m\u001b[0;34m\u001b[0m\u001b[0m\n\u001b[1;32m     53\u001b[0m     \u001b[0;32mif\u001b[0m \u001b[0mbound\u001b[0m \u001b[0;32mis\u001b[0m \u001b[0;32mNone\u001b[0m\u001b[0;34m:\u001b[0m\u001b[0;34m\u001b[0m\u001b[0;34m\u001b[0m\u001b[0m\n\u001b[0;32m---> 54\u001b[0;31m         \u001b[0;32mreturn\u001b[0m \u001b[0m_wrapit\u001b[0m\u001b[0;34m(\u001b[0m\u001b[0mobj\u001b[0m\u001b[0;34m,\u001b[0m \u001b[0mmethod\u001b[0m\u001b[0;34m,\u001b[0m \u001b[0;34m*\u001b[0m\u001b[0margs\u001b[0m\u001b[0;34m,\u001b[0m \u001b[0;34m**\u001b[0m\u001b[0mkwds\u001b[0m\u001b[0;34m)\u001b[0m\u001b[0;34m\u001b[0m\u001b[0;34m\u001b[0m\u001b[0m\n\u001b[0m\u001b[1;32m     55\u001b[0m \u001b[0;34m\u001b[0m\u001b[0m\n\u001b[1;32m     56\u001b[0m     \u001b[0;32mtry\u001b[0m\u001b[0;34m:\u001b[0m\u001b[0;34m\u001b[0m\u001b[0;34m\u001b[0m\u001b[0m\n",
      "\u001b[0;32m/usr/local/lib/python3.9/site-packages/numpy/core/fromnumeric.py\u001b[0m in \u001b[0;36m_wrapit\u001b[0;34m(obj, method, *args, **kwds)\u001b[0m\n\u001b[1;32m     41\u001b[0m     \u001b[0;32mexcept\u001b[0m \u001b[0mAttributeError\u001b[0m\u001b[0;34m:\u001b[0m\u001b[0;34m\u001b[0m\u001b[0;34m\u001b[0m\u001b[0m\n\u001b[1;32m     42\u001b[0m         \u001b[0mwrap\u001b[0m \u001b[0;34m=\u001b[0m \u001b[0;32mNone\u001b[0m\u001b[0;34m\u001b[0m\u001b[0;34m\u001b[0m\u001b[0m\n\u001b[0;32m---> 43\u001b[0;31m     \u001b[0mresult\u001b[0m \u001b[0;34m=\u001b[0m \u001b[0mgetattr\u001b[0m\u001b[0;34m(\u001b[0m\u001b[0masarray\u001b[0m\u001b[0;34m(\u001b[0m\u001b[0mobj\u001b[0m\u001b[0;34m)\u001b[0m\u001b[0;34m,\u001b[0m \u001b[0mmethod\u001b[0m\u001b[0;34m)\u001b[0m\u001b[0;34m(\u001b[0m\u001b[0;34m*\u001b[0m\u001b[0margs\u001b[0m\u001b[0;34m,\u001b[0m \u001b[0;34m**\u001b[0m\u001b[0mkwds\u001b[0m\u001b[0;34m)\u001b[0m\u001b[0;34m\u001b[0m\u001b[0;34m\u001b[0m\u001b[0m\n\u001b[0m\u001b[1;32m     44\u001b[0m     \u001b[0;32mif\u001b[0m \u001b[0mwrap\u001b[0m\u001b[0;34m:\u001b[0m\u001b[0;34m\u001b[0m\u001b[0;34m\u001b[0m\u001b[0m\n\u001b[1;32m     45\u001b[0m         \u001b[0;32mif\u001b[0m \u001b[0;32mnot\u001b[0m \u001b[0misinstance\u001b[0m\u001b[0;34m(\u001b[0m\u001b[0mresult\u001b[0m\u001b[0;34m,\u001b[0m \u001b[0mmu\u001b[0m\u001b[0;34m.\u001b[0m\u001b[0mndarray\u001b[0m\u001b[0;34m)\u001b[0m\u001b[0;34m:\u001b[0m\u001b[0;34m\u001b[0m\u001b[0;34m\u001b[0m\u001b[0m\n",
      "\u001b[0;31mValueError\u001b[0m: attempt to get argmax of an empty sequence"
     ]
    }
   ],
   "source": [
    "maxN=max(lenR)\n",
    "\n",
    "backTraceNP=np.empty(len(topL),dtype=object)\n",
    "for k in range(len(topL)):\n",
    "    st=topL[k]\n",
    "    tmpL=[st]\n",
    "    Skeys = [key for key, val in outDict.items() if st in val]\n",
    "    while len(Skeys)>0:\n",
    "        tmpL=Skeys+tmpL\n",
    "        st=Skeys[0]\n",
    "        Skeys = [key for key, val in outDict.items() if st in val]\n",
    "    backTraceNP[k]=tmpL\n",
    "\n",
    "matchN=np.full(len(topL),0,dtype=int)\n",
    "matchL_full=np.empty(len(topL),dtype=object)\n",
    "    \n",
    "for k in range(len(topL)):\n",
    "    matchL=set(backTraceNP[k])&set(otherL)\n",
    "    matchL_full[k]=list(matchL)+[topL[k]]\n",
    "    matchN[k]=len(matchL)\n",
    "#     print(len(matchL))\n",
    "\n",
    "key=np.where(matchN>0)\n",
    "matchL_full2=matchL_full[key].tolist()    \n",
    "matchL_flat=sum(matchL_full2,[])\n",
    "print(matchN)\n",
    "print(matchL_full2)\n",
    "print(matchL_flat)\n",
    "\n",
    "mergeN=np.full([len(matchL_full2),len(matchL_full2)],0,dtype=int)\n",
    "mergeL=[]\n",
    "for j1 in range(len(matchL_full2)):\n",
    "    for j2 in range(j1,len(matchL_full2)):\n",
    "        if j1!=j2:\n",
    "            dupN=len(set(matchL_full2[j1])&set(matchL_full2[j2]))\n",
    "            mergeN[j1,j2]=dupN\n",
    "            if dupN>0:\n",
    "                mergeL=mergeL+[list(set(matchL_full2[j1]+matchL_full2[j2]))]\n",
    "                print((j1,j2))\n",
    "            \n",
    "\n",
    "# mergeN=np.triu(mergeN)            \n",
    "print(mergeN)\n",
    "print(mergeL)\n",
    "mLN=[len(d) for d in mergeL]\n",
    "print(mLN)\n",
    "\n",
    "keyMax=np.argmax(mLN)\n",
    "\n",
    "MaxList=mergeL[keyMax]\n",
    "MaxList\n",
    "# np.where(mergeN==np.max(np.max(mergeN)))\n",
    "# np.max(np.max(mergeN))"
   ]
  },
  {
   "cell_type": "code",
   "execution_count": 10,
   "id": "1e7746ad",
   "metadata": {},
   "outputs": [
    {
     "name": "stdout",
     "output_type": "stream",
     "text": [
      "Local cdn resources have problems on chrome/safari when used in jupyter-notebook. \n"
     ]
    },
    {
     "ename": "NameError",
     "evalue": "name 'MaxList' is not defined",
     "output_type": "error",
     "traceback": [
      "\u001b[0;31m---------------------------------------------------------------------------\u001b[0m",
      "\u001b[0;31mNameError\u001b[0m                                 Traceback (most recent call last)",
      "\u001b[0;32m/var/folders/mg/w5t8lkhc8xj79f001s7kzpfh0000gp/T/ipykernel_23127/3603347721.py\u001b[0m in \u001b[0;36m<module>\u001b[0;34m\u001b[0m\n\u001b[1;32m     26\u001b[0m     \u001b[0;32mif\u001b[0m \u001b[0mall_Item\u001b[0m\u001b[0;34m[\u001b[0m\u001b[0mk\u001b[0m\u001b[0;34m]\u001b[0m \u001b[0;32min\u001b[0m \u001b[0mmatchL_flat\u001b[0m\u001b[0;34m:\u001b[0m\u001b[0;34m\u001b[0m\u001b[0;34m\u001b[0m\u001b[0m\n\u001b[1;32m     27\u001b[0m         \u001b[0mcolName\u001b[0m\u001b[0;34m=\u001b[0m\u001b[0;34m\"pink\"\u001b[0m\u001b[0;34m\u001b[0m\u001b[0;34m\u001b[0m\u001b[0m\n\u001b[0;32m---> 28\u001b[0;31m     \u001b[0;32mif\u001b[0m \u001b[0mall_Item\u001b[0m\u001b[0;34m[\u001b[0m\u001b[0mk\u001b[0m\u001b[0;34m]\u001b[0m \u001b[0;32min\u001b[0m \u001b[0mMaxList\u001b[0m\u001b[0;34m:\u001b[0m\u001b[0;34m\u001b[0m\u001b[0;34m\u001b[0m\u001b[0m\n\u001b[0m\u001b[1;32m     29\u001b[0m         \u001b[0mcolName\u001b[0m\u001b[0;34m=\u001b[0m\u001b[0;34m\"red\"\u001b[0m\u001b[0;34m\u001b[0m\u001b[0;34m\u001b[0m\u001b[0m\n\u001b[1;32m     30\u001b[0m     \u001b[0mnetwork\u001b[0m\u001b[0;34m.\u001b[0m\u001b[0madd_node\u001b[0m\u001b[0;34m(\u001b[0m\u001b[0mn_id\u001b[0m\u001b[0;34m=\u001b[0m\u001b[0mnd\u001b[0m\u001b[0;34m,\u001b[0m\u001b[0mlabel\u001b[0m\u001b[0;34m=\u001b[0m\u001b[0mall_Item\u001b[0m\u001b[0;34m[\u001b[0m\u001b[0mk\u001b[0m\u001b[0;34m]\u001b[0m\u001b[0;34m,\u001b[0m \u001b[0mshape\u001b[0m\u001b[0;34m=\u001b[0m\u001b[0;34m\"box\"\u001b[0m\u001b[0;34m,\u001b[0m\u001b[0msize\u001b[0m\u001b[0;34m=\u001b[0m\u001b[0mnodeSize\u001b[0m\u001b[0;34m,\u001b[0m\u001b[0mcolor\u001b[0m \u001b[0;34m=\u001b[0m\u001b[0mcolName\u001b[0m\u001b[0;34m)\u001b[0m\u001b[0;34m\u001b[0m\u001b[0;34m\u001b[0m\u001b[0m\n",
      "\u001b[0;31mNameError\u001b[0m: name 'MaxList' is not defined"
     ]
    }
   ],
   "source": [
    "nodeSize=10\n",
    "conWidth=2\n",
    "rNd=40\n",
    "\n",
    "network = Network(\n",
    "    height=\"500px\",  # default param = 500px\n",
    "    width=\"2000px\",  # default param = 500px\n",
    "    notebook=True,  # For jupyter notebook, it should be True\n",
    "    bgcolor=\"rgb(255,255,255)\",  # default color = \"#ffffff\" \"rgb(255,255,255)\"\n",
    "    directed=True,   # directional graph = True, non- directinal graph = False\n",
    ")\n",
    "str2num=lambda S: [ord(d)-ord('A')+1 if not(str.isdecimal(d)) else int(d) for d in S ]\n",
    "\n",
    "all_Item=list(set(list(outDict.keys())+sum(outDict.values(), [])))\n",
    "# rLIst=np.random.randint(len(all_Item),size=rNd)\n",
    "\n",
    "# matchL_flat\n",
    "\n",
    "keyList=list(outDict.keys())\n",
    "for k in range(len(all_Item)):\n",
    "    nd= int(\"\".join(map(str, str2num(all_Item[k]))))\n",
    "    if k in rLIst:\n",
    "        colName=\"lightblue\"\n",
    "    else:\n",
    "        colName=\"gray\"\n",
    "    if all_Item[k] in matchL_flat:\n",
    "        colName=\"pink\"\n",
    "    if all_Item[k] in MaxList:\n",
    "        colName=\"red\"\n",
    "    network.add_node(n_id=nd,label=all_Item[k], shape=\"box\",size=nodeSize,color =colName)\n",
    "    \n",
    "for k in range(len(outDict)):\n",
    "    nodeMn= int(\"\".join(map(str, str2num(keyList[k]))))\n",
    "#     print(keyList[k])\n",
    "    nodeS=outDict[keyList[k]]\n",
    "#     print(nodeS)\n",
    "    nodeSn=[ int(\"\".join(map(str, str2num(d)))) for d in nodeS]\n",
    "#     print(nodeSn)\n",
    "    for j in range(len(nodeSn)):\n",
    "        network.add_edge(nodeMn,nodeSn[j], width=conWidth,smooth=\"dynamic\")\n",
    "\n",
    "# output the results in the HTML format (and visualization in the jupyter notebook panel)\n",
    "network.show(\"class_list6.html\")"
   ]
  },
  {
   "cell_type": "code",
   "execution_count": null,
   "id": "2e36fe78",
   "metadata": {},
   "outputs": [],
   "source": []
  },
  {
   "cell_type": "code",
   "execution_count": null,
   "id": "9ca8a9b6",
   "metadata": {},
   "outputs": [],
   "source": []
  },
  {
   "cell_type": "code",
   "execution_count": 5,
   "id": "f1612dc3",
   "metadata": {},
   "outputs": [
    {
     "name": "stdout",
     "output_type": "stream",
     "text": [
      "[ 25 103   8  45  49  12  27  95  61  92]\n"
     ]
    }
   ],
   "source": [
    "rNd=10\n",
    "all_Item=list(set(list(outDict.keys())+sum(outDict.values(), [])))\n",
    "rLIst=np.random.randint(len(all_Item),size=rNd)\n",
    "print(rLIst)"
   ]
  },
  {
   "cell_type": "code",
   "execution_count": 11,
   "id": "e62ec511",
   "metadata": {},
   "outputs": [
    {
     "data": {
      "text/plain": [
       "False"
      ]
     },
     "execution_count": 11,
     "metadata": {},
     "output_type": "execute_result"
    }
   ],
   "source": [
    "8 in rLIst"
   ]
  },
  {
   "cell_type": "code",
   "execution_count": 6,
   "id": "83bab642",
   "metadata": {},
   "outputs": [
    {
     "name": "stdout",
     "output_type": "stream",
     "text": [
      "[4, 5, 6, 7, 7, 5, 5, 4, 7, 7]\n",
      "['AABAAB2', 'ABBBAA1', 'AAABBB2', 'AABBBB1', 'AAABB1', 'ABBB1', 'AAAA1', 'ABBB2', 'ABB1', 'AAB2']\n",
      "[7 7 7 7 6 5 5 5 4 4]\n",
      "(array([0, 1, 2, 3]),)\n",
      "['AABAAB2' 'ABBBAA1' 'AAABBB2' 'AABBBB1']\n",
      "['AAABB1', 'ABBB1', 'AAAA1', 'ABBB2', 'ABB1', 'AAB2']\n"
     ]
    }
   ],
   "source": [
    "all_Item_np=np.array(all_Item)\n",
    "itemR_np=all_Item_np[rLIst]\n",
    "itemR=all_Item_np[rLIst].tolist()\n",
    "lenR=[len(d) for d in itemR]\n",
    "lenR_np=np.array(lenR)\n",
    "print(lenR)\n",
    "key = np.argsort(lenR) \n",
    "key2=key[::-1]\n",
    "sortedD_np=itemR_np[key2]\n",
    "sortedD=itemR_np[key2].tolist()\n",
    "sortedN=lenR_np[key2]\n",
    "\n",
    "maxN=max(lenR)\n",
    "topKey=np.where(sortedN==maxN)\n",
    "\n",
    "topL=sortedD_np[topKey]\n",
    "otherL=sortedD_np[topKey[0][-1]+1:].tolist()\n",
    "\n",
    "print(sortedD)\n",
    "print(sortedN)\n",
    "print(topKey)\n",
    "\n",
    "print(topL)\n",
    "print(otherL)\n",
    "# otherL"
   ]
  },
  {
   "cell_type": "code",
   "execution_count": 46,
   "id": "7469c42e",
   "metadata": {},
   "outputs": [
    {
     "data": {
      "text/plain": [
       "18"
      ]
     },
     "execution_count": 46,
     "metadata": {},
     "output_type": "execute_result"
    }
   ],
   "source": [
    "AABABB1\n",
    "AAAAA1"
   ]
  },
  {
   "cell_type": "code",
   "execution_count": 36,
   "id": "a7654a49",
   "metadata": {},
   "outputs": [
    {
     "data": {
      "text/plain": [
       "dict_items([('A1', ['AA1', 'AB1', 'AA2', 'AB2']), ('AA1', ['AAA1', 'AAB1', 'AAA2', 'AAB2']), ('AAA1', ['AAAA1', 'AAAB1', 'AAAB2', 'AAAA2']), ('AAAA1', ['AAAAB2', 'AAAAA1', 'AAAAB1', 'AAAAA2']), ('AAAAA1', ['AAAAAB2', 'AAAAAA1', 'AAAAAB1', 'AAAAAA2']), ('AAAAB1', ['AAAABA2', 'AAAABB2', 'AAAABB1', 'AAAABA1']), ('AAAB1', ['AAABA1', 'AAABA2', 'AAABB2', 'AAABB1']), ('AAABA1', ['AAABAB2', 'AAABAB1', 'AAABAA2', 'AAABAA1']), ('AAABB1', ['AAABBA1', 'AAABBB2', 'AAABBA2', 'AAABBB1']), ('AAB1', ['AABB1', 'AABB2', 'AABA2', 'AABA1']), ('AABA1', ['AABAB1', 'AABAA2', 'AABAA1', 'AABAB2']), ('AABAA1', ['AABAAA2', 'AABAAB2', 'AABAAB1', 'AABAAA1']), ('AABAB1', ['AABABB1', 'AABABA1', 'AABABA2', 'AABABB2']), ('AABB1', ['AABBB1', 'AABBA2', 'AABBA1', 'AABBB2']), ('AABBA1', ['AABBAB1', 'AABBAA1', 'AABBAB2', 'AABBAA2']), ('AABBB1', ['AABBBA2', 'AABBBA1', 'AABBBB2', 'AABBBB1']), ('AB1', ['ABA1', 'ABB1', 'ABA2', 'ABB2']), ('ABA1', ['ABAA1', 'ABAB1', 'ABAB2', 'ABAA2']), ('ABAA1', ['ABAAB1', 'ABAAA2', 'ABAAA1', 'ABAAB2']), ('ABAAA1', ['ABAAAA2', 'ABAAAB1', 'ABAAAA1', 'ABAAAB2']), ('ABAAB1', ['ABAABA1', 'ABAABB1', 'ABAABA2', 'ABAABB2']), ('ABAB1', ['ABABA1', 'ABABB2', 'ABABA2', 'ABABB1']), ('ABABA1', ['ABABAA2', 'ABABAB2', 'ABABAB1', 'ABABAA1']), ('ABABB1', ['ABABBA1', 'ABABBB1', 'ABABBB2', 'ABABBA2']), ('ABB1', ['ABBB1', 'ABBA2', 'ABBA1', 'ABBB2']), ('ABBA1', ['ABBAA1', 'ABBAB2', 'ABBAA2', 'ABBAB1']), ('ABBAA1', ['ABBAAB1', 'ABBAAA2', 'ABBAAA1', 'ABBAAB2']), ('ABBAB1', ['ABBABA1', 'ABBABB2', 'ABBABA2', 'ABBABB1']), ('ABBB1', ['ABBBA1', 'ABBBA2', 'ABBBB2', 'ABBBB1']), ('ABBBA1', ['ABBBAB1', 'ABBBAA2', 'ABBBAB2', 'ABBBAA1']), ('ABBBB1', ['ABBBBB2', 'ABBBBA1', 'ABBBBB1', 'ABBBBA2'])])"
      ]
     },
     "execution_count": 36,
     "metadata": {},
     "output_type": "execute_result"
    }
   ],
   "source": [
    "# AABAAA2\n",
    "\n",
    "outDict.items() "
   ]
  },
  {
   "cell_type": "code",
   "execution_count": 50,
   "id": "7acf7802",
   "metadata": {},
   "outputs": [
    {
     "ename": "IndexError",
     "evalue": "list assignment index out of range",
     "output_type": "error",
     "traceback": [
      "\u001b[0;31m---------------------------------------------------------------------------\u001b[0m",
      "\u001b[0;31mIndexError\u001b[0m                                Traceback (most recent call last)",
      "\u001b[0;32m/var/folders/mg/w5t8lkhc8xj79f001s7kzpfh0000gp/T/ipykernel_71653/4238505135.py\u001b[0m in \u001b[0;36m<module>\u001b[0;34m\u001b[0m\n\u001b[1;32m      1\u001b[0m \u001b[0mmatchN\u001b[0m\u001b[0;34m=\u001b[0m\u001b[0;34m[\u001b[0m\u001b[0;34m]\u001b[0m\u001b[0;34m\u001b[0m\u001b[0;34m\u001b[0m\u001b[0m\n\u001b[0;32m----> 2\u001b[0;31m \u001b[0mmatchN\u001b[0m\u001b[0;34m[\u001b[0m\u001b[0;36m0\u001b[0m\u001b[0;34m]\u001b[0m\u001b[0;34m=\u001b[0m\u001b[0;36m1\u001b[0m\u001b[0;34m\u001b[0m\u001b[0;34m\u001b[0m\u001b[0m\n\u001b[0m",
      "\u001b[0;31mIndexError\u001b[0m: list assignment index out of range"
     ]
    }
   ],
   "source": [
    "matchN=[]\n",
    "matchN[0]=1"
   ]
  },
  {
   "cell_type": "code",
   "execution_count": 7,
   "id": "fdcaff7d",
   "metadata": {},
   "outputs": [
    {
     "name": "stdout",
     "output_type": "stream",
     "text": [
      "[0 2 1 0]\n",
      "[['ABB1', 'ABBB1', 'ABBBAA1'], ['AAABB1', 'AAABBB2']]\n",
      "['ABB1', 'ABBB1', 'ABBBAA1', 'AAABB1', 'AAABBB2']\n",
      "[[0 0]\n",
      " [0 0]]\n",
      "[]\n",
      "[]\n"
     ]
    },
    {
     "ename": "ValueError",
     "evalue": "attempt to get argmax of an empty sequence",
     "output_type": "error",
     "traceback": [
      "\u001b[0;31m---------------------------------------------------------------------------\u001b[0m",
      "\u001b[0;31mValueError\u001b[0m                                Traceback (most recent call last)",
      "\u001b[0;32m/var/folders/mg/w5t8lkhc8xj79f001s7kzpfh0000gp/T/ipykernel_23127/1612885328.py\u001b[0m in \u001b[0;36m<module>\u001b[0;34m\u001b[0m\n\u001b[1;32m     46\u001b[0m \u001b[0mprint\u001b[0m\u001b[0;34m(\u001b[0m\u001b[0mmLN\u001b[0m\u001b[0;34m)\u001b[0m\u001b[0;34m\u001b[0m\u001b[0;34m\u001b[0m\u001b[0m\n\u001b[1;32m     47\u001b[0m \u001b[0;34m\u001b[0m\u001b[0m\n\u001b[0;32m---> 48\u001b[0;31m \u001b[0mkeyMax\u001b[0m\u001b[0;34m=\u001b[0m\u001b[0mnp\u001b[0m\u001b[0;34m.\u001b[0m\u001b[0margmax\u001b[0m\u001b[0;34m(\u001b[0m\u001b[0mmLN\u001b[0m\u001b[0;34m)\u001b[0m\u001b[0;34m\u001b[0m\u001b[0;34m\u001b[0m\u001b[0m\n\u001b[0m\u001b[1;32m     49\u001b[0m \u001b[0;34m\u001b[0m\u001b[0m\n\u001b[1;32m     50\u001b[0m \u001b[0mMaxList\u001b[0m\u001b[0;34m=\u001b[0m\u001b[0mmergeL\u001b[0m\u001b[0;34m[\u001b[0m\u001b[0mkeyMax\u001b[0m\u001b[0;34m]\u001b[0m\u001b[0;34m\u001b[0m\u001b[0;34m\u001b[0m\u001b[0m\n",
      "\u001b[0;32m<__array_function__ internals>\u001b[0m in \u001b[0;36margmax\u001b[0;34m(*args, **kwargs)\u001b[0m\n",
      "\u001b[0;32m/usr/local/lib/python3.9/site-packages/numpy/core/fromnumeric.py\u001b[0m in \u001b[0;36margmax\u001b[0;34m(a, axis, out)\u001b[0m\n\u001b[1;32m   1193\u001b[0m \u001b[0;34m\u001b[0m\u001b[0m\n\u001b[1;32m   1194\u001b[0m     \"\"\"\n\u001b[0;32m-> 1195\u001b[0;31m     \u001b[0;32mreturn\u001b[0m \u001b[0m_wrapfunc\u001b[0m\u001b[0;34m(\u001b[0m\u001b[0ma\u001b[0m\u001b[0;34m,\u001b[0m \u001b[0;34m'argmax'\u001b[0m\u001b[0;34m,\u001b[0m \u001b[0maxis\u001b[0m\u001b[0;34m=\u001b[0m\u001b[0maxis\u001b[0m\u001b[0;34m,\u001b[0m \u001b[0mout\u001b[0m\u001b[0;34m=\u001b[0m\u001b[0mout\u001b[0m\u001b[0;34m)\u001b[0m\u001b[0;34m\u001b[0m\u001b[0;34m\u001b[0m\u001b[0m\n\u001b[0m\u001b[1;32m   1196\u001b[0m \u001b[0;34m\u001b[0m\u001b[0m\n\u001b[1;32m   1197\u001b[0m \u001b[0;34m\u001b[0m\u001b[0m\n",
      "\u001b[0;32m/usr/local/lib/python3.9/site-packages/numpy/core/fromnumeric.py\u001b[0m in \u001b[0;36m_wrapfunc\u001b[0;34m(obj, method, *args, **kwds)\u001b[0m\n\u001b[1;32m     52\u001b[0m     \u001b[0mbound\u001b[0m \u001b[0;34m=\u001b[0m \u001b[0mgetattr\u001b[0m\u001b[0;34m(\u001b[0m\u001b[0mobj\u001b[0m\u001b[0;34m,\u001b[0m \u001b[0mmethod\u001b[0m\u001b[0;34m,\u001b[0m \u001b[0;32mNone\u001b[0m\u001b[0;34m)\u001b[0m\u001b[0;34m\u001b[0m\u001b[0;34m\u001b[0m\u001b[0m\n\u001b[1;32m     53\u001b[0m     \u001b[0;32mif\u001b[0m \u001b[0mbound\u001b[0m \u001b[0;32mis\u001b[0m \u001b[0;32mNone\u001b[0m\u001b[0;34m:\u001b[0m\u001b[0;34m\u001b[0m\u001b[0;34m\u001b[0m\u001b[0m\n\u001b[0;32m---> 54\u001b[0;31m         \u001b[0;32mreturn\u001b[0m \u001b[0m_wrapit\u001b[0m\u001b[0;34m(\u001b[0m\u001b[0mobj\u001b[0m\u001b[0;34m,\u001b[0m \u001b[0mmethod\u001b[0m\u001b[0;34m,\u001b[0m \u001b[0;34m*\u001b[0m\u001b[0margs\u001b[0m\u001b[0;34m,\u001b[0m \u001b[0;34m**\u001b[0m\u001b[0mkwds\u001b[0m\u001b[0;34m)\u001b[0m\u001b[0;34m\u001b[0m\u001b[0;34m\u001b[0m\u001b[0m\n\u001b[0m\u001b[1;32m     55\u001b[0m \u001b[0;34m\u001b[0m\u001b[0m\n\u001b[1;32m     56\u001b[0m     \u001b[0;32mtry\u001b[0m\u001b[0;34m:\u001b[0m\u001b[0;34m\u001b[0m\u001b[0;34m\u001b[0m\u001b[0m\n",
      "\u001b[0;32m/usr/local/lib/python3.9/site-packages/numpy/core/fromnumeric.py\u001b[0m in \u001b[0;36m_wrapit\u001b[0;34m(obj, method, *args, **kwds)\u001b[0m\n\u001b[1;32m     41\u001b[0m     \u001b[0;32mexcept\u001b[0m \u001b[0mAttributeError\u001b[0m\u001b[0;34m:\u001b[0m\u001b[0;34m\u001b[0m\u001b[0;34m\u001b[0m\u001b[0m\n\u001b[1;32m     42\u001b[0m         \u001b[0mwrap\u001b[0m \u001b[0;34m=\u001b[0m \u001b[0;32mNone\u001b[0m\u001b[0;34m\u001b[0m\u001b[0;34m\u001b[0m\u001b[0m\n\u001b[0;32m---> 43\u001b[0;31m     \u001b[0mresult\u001b[0m \u001b[0;34m=\u001b[0m \u001b[0mgetattr\u001b[0m\u001b[0;34m(\u001b[0m\u001b[0masarray\u001b[0m\u001b[0;34m(\u001b[0m\u001b[0mobj\u001b[0m\u001b[0;34m)\u001b[0m\u001b[0;34m,\u001b[0m \u001b[0mmethod\u001b[0m\u001b[0;34m)\u001b[0m\u001b[0;34m(\u001b[0m\u001b[0;34m*\u001b[0m\u001b[0margs\u001b[0m\u001b[0;34m,\u001b[0m \u001b[0;34m**\u001b[0m\u001b[0mkwds\u001b[0m\u001b[0;34m)\u001b[0m\u001b[0;34m\u001b[0m\u001b[0;34m\u001b[0m\u001b[0m\n\u001b[0m\u001b[1;32m     44\u001b[0m     \u001b[0;32mif\u001b[0m \u001b[0mwrap\u001b[0m\u001b[0;34m:\u001b[0m\u001b[0;34m\u001b[0m\u001b[0;34m\u001b[0m\u001b[0m\n\u001b[1;32m     45\u001b[0m         \u001b[0;32mif\u001b[0m \u001b[0;32mnot\u001b[0m \u001b[0misinstance\u001b[0m\u001b[0;34m(\u001b[0m\u001b[0mresult\u001b[0m\u001b[0;34m,\u001b[0m \u001b[0mmu\u001b[0m\u001b[0;34m.\u001b[0m\u001b[0mndarray\u001b[0m\u001b[0;34m)\u001b[0m\u001b[0;34m:\u001b[0m\u001b[0;34m\u001b[0m\u001b[0;34m\u001b[0m\u001b[0m\n",
      "\u001b[0;31mValueError\u001b[0m: attempt to get argmax of an empty sequence"
     ]
    }
   ],
   "source": [
    "maxN=max(lenR)\n",
    "\n",
    "backTraceNP=np.empty(len(topL),dtype=object)\n",
    "for k in range(len(topL)):\n",
    "    st=topL[k]\n",
    "    tmpL=[st]\n",
    "    Skeys = [key for key, val in outDict.items() if st in val]\n",
    "    while len(Skeys)>0:\n",
    "        tmpL=Skeys+tmpL\n",
    "        st=Skeys[0]\n",
    "        Skeys = [key for key, val in outDict.items() if st in val]\n",
    "    backTraceNP[k]=tmpL\n",
    "\n",
    "matchN=np.full(len(topL),0,dtype=int)\n",
    "matchL_full=np.empty(len(topL),dtype=object)\n",
    "    \n",
    "for k in range(len(topL)):\n",
    "    matchL=set(backTraceNP[k])&set(otherL)\n",
    "    matchL_full[k]=list(matchL)+[topL[k]]\n",
    "    matchN[k]=len(matchL)\n",
    "#     print(len(matchL))\n",
    "\n",
    "key=np.where(matchN>0)\n",
    "matchL_full2=matchL_full[key].tolist()    \n",
    "matchL_flat=sum(matchL_full2,[])\n",
    "print(matchN)\n",
    "print(matchL_full2)\n",
    "print(matchL_flat)\n",
    "\n",
    "mergeN=np.full([len(matchL_full2),len(matchL_full2)],0,dtype=int)\n",
    "mergeL=[]\n",
    "for j1 in range(len(matchL_full2)):\n",
    "    for j2 in range(j1,len(matchL_full2)):\n",
    "        if j1!=j2:\n",
    "            dupN=len(set(matchL_full2[j1])&set(matchL_full2[j2]))\n",
    "            mergeN[j1,j2]=dupN\n",
    "            if dupN>0:\n",
    "                mergeL=mergeL+[list(set(matchL_full2[j1]+matchL_full2[j2]))]\n",
    "                print((j1,j2))\n",
    "            \n",
    "\n",
    "# mergeN=np.triu(mergeN)            \n",
    "print(mergeN)\n",
    "print(mergeL)\n",
    "mLN=[len(d) for d in mergeL]\n",
    "print(mLN)\n",
    "\n",
    "keyMax=np.argmax(mLN)\n",
    "\n",
    "MaxList=mergeL[keyMax]\n",
    "MaxList\n",
    "# np.where(mergeN==np.max(np.max(mergeN)))\n",
    "# np.max(np.max(mergeN))"
   ]
  },
  {
   "cell_type": "code",
   "execution_count": 65,
   "id": "724aae82",
   "metadata": {},
   "outputs": [
    {
     "data": {
      "text/plain": [
       "[['AAAA1', 'AAAAB1', 'AAAABA1'],\n",
       " ['ABAAB1', 'ABAABA1'],\n",
       " ['AAAA1', 'AAAAA1', 'AAAAAB2'],\n",
       " ['ABB1', 'ABBA1', 'ABBABA2'],\n",
       " ['AAAA1', 'AAAAB1', 'AAAABA1'],\n",
       " ['ABB1', 'ABBA1', 'ABBAAB2']]"
      ]
     },
     "execution_count": 65,
     "metadata": {},
     "output_type": "execute_result"
    }
   ],
   "source": [
    "matchL_full2"
   ]
  },
  {
   "cell_type": "code",
   "execution_count": 3,
   "id": "05e80baa",
   "metadata": {},
   "outputs": [
    {
     "name": "stdout",
     "output_type": "stream",
     "text": [
      "Local cdn resources have problems on chrome/safari when used in jupyter-notebook. \n"
     ]
    },
    {
     "ename": "NameError",
     "evalue": "name 'matchL_flat' is not defined",
     "output_type": "error",
     "traceback": [
      "\u001b[0;31m---------------------------------------------------------------------------\u001b[0m",
      "\u001b[0;31mNameError\u001b[0m                                 Traceback (most recent call last)",
      "\u001b[0;32m/var/folders/mg/w5t8lkhc8xj79f001s7kzpfh0000gp/T/ipykernel_23127/207220901.py\u001b[0m in \u001b[0;36m<module>\u001b[0;34m\u001b[0m\n\u001b[1;32m     15\u001b[0m \u001b[0;31m# rLIst=np.random.randint(len(all_Item),size=rNd)\u001b[0m\u001b[0;34m\u001b[0m\u001b[0;34m\u001b[0m\u001b[0m\n\u001b[1;32m     16\u001b[0m \u001b[0;34m\u001b[0m\u001b[0m\n\u001b[0;32m---> 17\u001b[0;31m \u001b[0mmatchL_flat\u001b[0m\u001b[0;34m\u001b[0m\u001b[0;34m\u001b[0m\u001b[0m\n\u001b[0m\u001b[1;32m     18\u001b[0m \u001b[0;34m\u001b[0m\u001b[0m\n\u001b[1;32m     19\u001b[0m \u001b[0mkeyList\u001b[0m\u001b[0;34m=\u001b[0m\u001b[0mlist\u001b[0m\u001b[0;34m(\u001b[0m\u001b[0moutDict\u001b[0m\u001b[0;34m.\u001b[0m\u001b[0mkeys\u001b[0m\u001b[0;34m(\u001b[0m\u001b[0;34m)\u001b[0m\u001b[0;34m)\u001b[0m\u001b[0;34m\u001b[0m\u001b[0;34m\u001b[0m\u001b[0m\n",
      "\u001b[0;31mNameError\u001b[0m: name 'matchL_flat' is not defined"
     ]
    }
   ],
   "source": [
    "nodeSize=10\n",
    "conWidth=2\n",
    "rNd=40\n",
    "\n",
    "network = Network(\n",
    "    height=\"500px\",  # default param = 500px\n",
    "    width=\"1000px\",  # default param = 500px\n",
    "    notebook=True,  # For jupyter notebook, it should be True\n",
    "    bgcolor=\"rgb(255,255,255)\",  # default color = \"#ffffff\" \"rgb(255,255,255)\"\n",
    "    directed=True,   # directional graph = True, non- directinal graph = False\n",
    ")\n",
    "str2num=lambda S: [ord(d)-ord('A')+1 if not(str.isdecimal(d)) else int(d) for d in S ]\n",
    "\n",
    "all_Item=list(set(list(outDict.keys())+sum(outDict.values(), [])))\n",
    "# rLIst=np.random.randint(len(all_Item),size=rNd)\n",
    "\n",
    "matchL_flat\n",
    "\n",
    "keyList=list(outDict.keys())\n",
    "for k in range(len(all_Item)):\n",
    "    nd= int(\"\".join(map(str, str2num(all_Item[k]))))\n",
    "    if k in rLIst:\n",
    "        colName=\"lightblue\"\n",
    "    else:\n",
    "        colName=\"gray\"\n",
    "    if all_Item[k] in matchL_flat:\n",
    "        colName=\"pink\"\n",
    "    if all_Item[k] in MaxList:\n",
    "        colName=\"red\"\n",
    "    network.add_node(n_id=nd,label=all_Item[k], shape=\"box\",size=nodeSize,color =colName)\n",
    "    \n",
    "for k in range(len(outDict)):\n",
    "    nodeMn= int(\"\".join(map(str, str2num(keyList[k]))))\n",
    "#     print(keyList[k])\n",
    "    nodeS=outDict[keyList[k]]\n",
    "#     print(nodeS)\n",
    "    nodeSn=[ int(\"\".join(map(str, str2num(d)))) for d in nodeS]\n",
    "#     print(nodeSn)\n",
    "    for j in range(len(nodeSn)):\n",
    "        network.add_edge(nodeMn,nodeSn[j], width=conWidth,smooth=\"dynamic\")\n",
    "\n",
    "# output the results in the HTML format (and visualization in the jupyter notebook panel)\n",
    "network.show(\"class_list5.html\")"
   ]
  },
  {
   "cell_type": "code",
   "execution_count": 8,
   "id": "a6a859e5",
   "metadata": {},
   "outputs": [
    {
     "name": "stdout",
     "output_type": "stream",
     "text": [
      "Local cdn resources have problems on chrome/safari when used in jupyter-notebook. \n"
     ]
    },
    {
     "ename": "NameError",
     "evalue": "name 'MaxList' is not defined",
     "output_type": "error",
     "traceback": [
      "\u001b[0;31m---------------------------------------------------------------------------\u001b[0m",
      "\u001b[0;31mNameError\u001b[0m                                 Traceback (most recent call last)",
      "\u001b[0;32m/var/folders/mg/w5t8lkhc8xj79f001s7kzpfh0000gp/T/ipykernel_23127/1097802519.py\u001b[0m in \u001b[0;36m<module>\u001b[0;34m\u001b[0m\n\u001b[1;32m     26\u001b[0m     \u001b[0;32mif\u001b[0m \u001b[0mall_Item\u001b[0m\u001b[0;34m[\u001b[0m\u001b[0mk\u001b[0m\u001b[0;34m]\u001b[0m \u001b[0;32min\u001b[0m \u001b[0mmatchL_flat\u001b[0m\u001b[0;34m:\u001b[0m\u001b[0;34m\u001b[0m\u001b[0;34m\u001b[0m\u001b[0m\n\u001b[1;32m     27\u001b[0m         \u001b[0mcolName\u001b[0m\u001b[0;34m=\u001b[0m\u001b[0;34m\"pink\"\u001b[0m\u001b[0;34m\u001b[0m\u001b[0;34m\u001b[0m\u001b[0m\n\u001b[0;32m---> 28\u001b[0;31m     \u001b[0;32mif\u001b[0m \u001b[0mall_Item\u001b[0m\u001b[0;34m[\u001b[0m\u001b[0mk\u001b[0m\u001b[0;34m]\u001b[0m \u001b[0;32min\u001b[0m \u001b[0mMaxList\u001b[0m\u001b[0;34m:\u001b[0m\u001b[0;34m\u001b[0m\u001b[0;34m\u001b[0m\u001b[0m\n\u001b[0m\u001b[1;32m     29\u001b[0m         \u001b[0mcolName\u001b[0m\u001b[0;34m=\u001b[0m\u001b[0;34m\"red\"\u001b[0m\u001b[0;34m\u001b[0m\u001b[0;34m\u001b[0m\u001b[0m\n\u001b[1;32m     30\u001b[0m     \u001b[0mnetwork\u001b[0m\u001b[0;34m.\u001b[0m\u001b[0madd_node\u001b[0m\u001b[0;34m(\u001b[0m\u001b[0mn_id\u001b[0m\u001b[0;34m=\u001b[0m\u001b[0mnd\u001b[0m\u001b[0;34m,\u001b[0m\u001b[0mlabel\u001b[0m\u001b[0;34m=\u001b[0m\u001b[0mall_Item\u001b[0m\u001b[0;34m[\u001b[0m\u001b[0mk\u001b[0m\u001b[0;34m]\u001b[0m\u001b[0;34m,\u001b[0m \u001b[0mshape\u001b[0m\u001b[0;34m=\u001b[0m\u001b[0;34m\"box\"\u001b[0m\u001b[0;34m,\u001b[0m\u001b[0msize\u001b[0m\u001b[0;34m=\u001b[0m\u001b[0mnodeSize\u001b[0m\u001b[0;34m,\u001b[0m\u001b[0mcolor\u001b[0m \u001b[0;34m=\u001b[0m\u001b[0mcolName\u001b[0m\u001b[0;34m)\u001b[0m\u001b[0;34m\u001b[0m\u001b[0;34m\u001b[0m\u001b[0m\n",
      "\u001b[0;31mNameError\u001b[0m: name 'MaxList' is not defined"
     ]
    }
   ],
   "source": [
    "nodeSize=10\n",
    "conWidth=2\n",
    "rNd=40\n",
    "\n",
    "network = Network(\n",
    "    height=\"500px\",  # default param = 500px\n",
    "    width=\"1000px\",  # default param = 500px\n",
    "    notebook=True,  # For jupyter notebook, it should be True\n",
    "    bgcolor=\"rgb(255,255,255)\",  # default color = \"#ffffff\" \"rgb(255,255,255)\"\n",
    "    directed=True,   # directional graph = True, non- directinal graph = False\n",
    ")\n",
    "str2num=lambda S: [ord(d)-ord('A')+1 if not(str.isdecimal(d)) else int(d) for d in S ]\n",
    "\n",
    "all_Item=list(set(list(outDict.keys())+sum(outDict.values(), [])))\n",
    "# rLIst=np.random.randint(len(all_Item),size=rNd)\n",
    "\n",
    "# matchL_flat\n",
    "\n",
    "keyList=list(outDict.keys())\n",
    "for k in range(len(all_Item)):\n",
    "    nd= int(\"\".join(map(str, str2num(all_Item[k]))))\n",
    "    if k in rLIst:\n",
    "        colName=\"lightblue\"\n",
    "    else:\n",
    "        colName=\"gray\"\n",
    "    if all_Item[k] in matchL_flat:\n",
    "        colName=\"pink\"\n",
    "    if all_Item[k] in MaxList:\n",
    "        colName=\"red\"\n",
    "    network.add_node(n_id=nd,label=all_Item[k], shape=\"box\",size=nodeSize,color =colName)\n",
    "    \n",
    "for k in range(len(outDict)):\n",
    "    nodeMn= int(\"\".join(map(str, str2num(keyList[k]))))\n",
    "#     print(keyList[k])\n",
    "    nodeS=outDict[keyList[k]]\n",
    "#     print(nodeS)\n",
    "    nodeSn=[ int(\"\".join(map(str, str2num(d)))) for d in nodeS]\n",
    "#     print(nodeSn)\n",
    "    for j in range(len(nodeSn)):\n",
    "        network.add_edge(nodeMn,nodeSn[j], width=conWidth,smooth=\"dynamic\")\n",
    "\n",
    "# output the results in the HTML format (and visualization in the jupyter notebook panel)\n",
    "network.show(\"class_list6.html\")"
   ]
  },
  {
   "cell_type": "code",
   "execution_count": 99,
   "id": "966a0421",
   "metadata": {},
   "outputs": [
    {
     "data": {
      "text/plain": [
       "['AABBA1',\n",
       " 'AABAA1',\n",
       " 'AABB2',\n",
       " 'AAABAA2',\n",
       " 'AAB2',\n",
       " 'AAABBB1',\n",
       " 'AABAAA1',\n",
       " 'ABBBBB2',\n",
       " 'ABBAA2',\n",
       " 'AABAB2',\n",
       " 'ABAABB1',\n",
       " 'ABBBBA1',\n",
       " 'AAAAAA2',\n",
       " 'AAB1',\n",
       " 'AAAAA2',\n",
       " 'AAAAB1',\n",
       " 'ABBAAB2',\n",
       " 'ABBBB2',\n",
       " 'ABBBAA1',\n",
       " 'ABAA2',\n",
       " 'AA1',\n",
       " 'ABBABA2',\n",
       " 'AABBAB2',\n",
       " 'AAAABA1',\n",
       " 'AABBB1',\n",
       " 'ABAB1',\n",
       " 'ABBAAA1',\n",
       " 'ABAA1',\n",
       " 'AAAAAB2',\n",
       " 'AAAAAA1',\n",
       " 'AABABA1',\n",
       " 'AAAABB1',\n",
       " 'ABABBA2',\n",
       " 'AAAABA2',\n",
       " 'AAAAB2',\n",
       " 'AABABB2',\n",
       " 'ABAABA1',\n",
       " 'AABBAA1',\n",
       " 'ABAAAB2',\n",
       " 'ABBAB1',\n",
       " 'ABBBB1',\n",
       " 'ABBBAB1',\n",
       " 'ABA1',\n",
       " 'AABAAA2',\n",
       " 'AAABB2',\n",
       " 'ABABB2',\n",
       " 'AAABB1',\n",
       " 'A1',\n",
       " 'ABBAAA2',\n",
       " 'ABBBAA2',\n",
       " 'ABAB2',\n",
       " 'AABAAB1',\n",
       " 'AABABA2',\n",
       " 'AAAB1',\n",
       " 'ABAABA2',\n",
       " 'AABAB1',\n",
       " 'AAABAA1',\n",
       " 'ABABAB2',\n",
       " 'ABBB1',\n",
       " 'AAABA1',\n",
       " 'AB1',\n",
       " 'ABAAAA2',\n",
       " 'AABBAB1',\n",
       " 'ABABA2',\n",
       " 'AABBBB1',\n",
       " 'ABBBA1',\n",
       " 'AAAA1',\n",
       " 'AABABB1',\n",
       " 'ABBAAB1',\n",
       " 'ABBBA2',\n",
       " 'ABBBBB1',\n",
       " 'ABBABA1',\n",
       " 'AAABBA2',\n",
       " 'ABABA1',\n",
       " 'AAABAB2',\n",
       " 'AAABBB2',\n",
       " 'AAAB2',\n",
       " 'AAA1',\n",
       " 'AABBB2',\n",
       " 'ABAAAB1',\n",
       " 'ABABAA2',\n",
       " 'ABABBA1',\n",
       " 'AAAABB2',\n",
       " 'ABBAB2',\n",
       " 'AABBAA2',\n",
       " 'AAA2',\n",
       " 'AAABBA1',\n",
       " 'AABBBA1',\n",
       " 'AABBA2',\n",
       " 'ABA2',\n",
       " 'ABABBB1',\n",
       " 'ABBABB2',\n",
       " 'AAAA2',\n",
       " 'AA2',\n",
       " 'AAABAB1',\n",
       " 'ABAAA2',\n",
       " 'AABA2',\n",
       " 'AAABA2',\n",
       " 'ABAAAA1',\n",
       " 'ABBA2',\n",
       " 'AAAAAB1',\n",
       " 'ABAAA1',\n",
       " 'ABBBBA2',\n",
       " 'ABBABB1',\n",
       " 'AABAAB2',\n",
       " 'ABABB1',\n",
       " 'AB2',\n",
       " 'ABBB2',\n",
       " 'AABB1',\n",
       " 'ABAABB2',\n",
       " 'ABBA1',\n",
       " 'ABABBB2',\n",
       " 'ABB1',\n",
       " 'AABBBB2',\n",
       " 'ABAAB2',\n",
       " 'AABBBA2',\n",
       " 'AABAA2',\n",
       " 'ABB2',\n",
       " 'ABBAA1',\n",
       " 'ABAAB1',\n",
       " 'AAAAA1',\n",
       " 'ABABAB1',\n",
       " 'AABA1',\n",
       " 'ABBBAB2',\n",
       " 'ABABAA1']"
      ]
     },
     "execution_count": 99,
     "metadata": {},
     "output_type": "execute_result"
    }
   ],
   "source": [
    "all_Item"
   ]
  }
 ],
 "metadata": {
  "kernelspec": {
   "display_name": "Python 3 (ipykernel)",
   "language": "python",
   "name": "python3"
  },
  "language_info": {
   "codemirror_mode": {
    "name": "ipython",
    "version": 3
   },
   "file_extension": ".py",
   "mimetype": "text/x-python",
   "name": "python",
   "nbconvert_exporter": "python",
   "pygments_lexer": "ipython3",
   "version": "3.9.16"
  }
 },
 "nbformat": 4,
 "nbformat_minor": 5
}
